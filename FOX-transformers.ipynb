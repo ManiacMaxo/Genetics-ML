{
 "cells": [
  {
   "cell_type": "code",
   "execution_count": 5,
   "metadata": {},
   "outputs": [],
   "source": [
    "from tensorflow.keras import Model\n",
    "from tensorflow.keras.layers import Input, GlobalAveragePooling1D, GlobalMaxPooling1D, Dropout, Dense\n",
    "from tensorflow.keras.preprocessing.sequence import pad_sequences\n",
    "from tensorflow.keras.optimizers import *\n",
    "from tensorflow.keras.backend import clear_session\n",
    "\n",
    "import numpy as np\n",
    "import matplotlib.pyplot as plt\n",
    "from random import randint\n",
    "from transformer import TransformerBlock, TokenAndPositionEmbedding"
   ]
  },
  {
   "cell_type": "code",
   "execution_count": 2,
   "metadata": {},
   "outputs": [
    {
     "name": "stdout",
     "output_type": "stream",
     "text": [
      "/tmp/FOX_train.h5\r\n"
     ]
    }
   ],
   "source": [
    "!if ! ls /tmp/FOX_train.h5; \\\n",
    "    wget https://repo.gorchilov.net/datasets/fox-multi-factor.tar.gz -O /tmp/fox.tar.gz; \\\n",
    "    tar -xf /tmp/fox.tar.gz -C /tmp; \\\n",
    "    end\n",
    "\n",
    "import h5py\n",
    "\n",
    "train = h5py.File('/tmp/FOX_train.h5', mode='r')\n",
    "test = h5py.File('/tmp/FOX_test.h5', mode='r')"
   ]
  },
  {
   "cell_type": "code",
   "execution_count": 3,
   "metadata": {},
   "outputs": [],
   "source": [
    "X_train = train['data'][:]\n",
    "y_train = train['labels'][:]\n",
    "\n",
    "X_test = test['data'][:]\n",
    "y_test = test['labels'][:]"
   ]
  },
  {
   "cell_type": "code",
   "execution_count": 6,
   "metadata": {},
   "outputs": [],
   "source": [
    "transposed = np.array([x.T for x in X_train])"
   ]
  },
  {
   "cell_type": "code",
   "execution_count": 5,
   "metadata": {
    "scrolled": true
   },
   "outputs": [],
   "source": [
    "sample_size = 10000\n",
    "\n",
    "embed_dim = 4\n",
    "num_heads = 2 # Number of attention heads\n",
    "ff_dim = 64 # Hidden layer size in feed forward network inside transformer\n",
    "\n",
    "clear_session()\n",
    "\n",
    "inputs = Input(shape=(1000, 4))\n",
    "# inputs = Input(shape=(1000,))\n",
    "\n",
    "# embedding_layer = TokenAndPositionEmbedding(1000, sample_size, 4)\n",
    "# x = embedding_layer(inputs)\n",
    "x = inputs\n",
    "\n",
    "transformer_block = TransformerBlock(embed_dim, num_heads, ff_dim)\n",
    "x = transformer_block(x)\n",
    "x = GlobalAveragePooling1D()(x)\n",
    "x = Dense(128, activation='relu')(x)\n",
    "x = Dropout(0.1)(x)\n",
    "# x = Dense(64, activation='relu')(x)\n",
    "# x = Dropout(0.1)(x)\n",
    "outputs = Dense(31, activation='relu')(x)\n",
    "\n",
    "model = Model(inputs, outputs)\n",
    "\n",
    "# model.summary()"
   ]
  },
  {
   "cell_type": "code",
   "execution_count": 6,
   "metadata": {
    "scrolled": true
   },
   "outputs": [
    {
     "name": "stdout",
     "output_type": "stream",
     "text": [
      "Epoch 1/10\n",
      "313/313 [==============================] - 12s 37ms/step - loss: 158.0005\n",
      "Epoch 2/10\n",
      "313/313 [==============================] - 12s 37ms/step - loss: 158.0002\n",
      "Epoch 3/10\n",
      "313/313 [==============================] - 12s 37ms/step - loss: 158.0002\n",
      "Epoch 4/10\n",
      "313/313 [==============================] - 12s 37ms/step - loss: 158.0001\n",
      "Epoch 5/10\n",
      "313/313 [==============================] - 12s 37ms/step - loss: 158.0002\n",
      "Epoch 6/10\n",
      "313/313 [==============================] - 12s 37ms/step - loss: 158.0001\n",
      "Epoch 7/10\n",
      "313/313 [==============================] - 12s 37ms/step - loss: 158.0002\n",
      "Epoch 8/10\n",
      "313/313 [==============================] - 12s 37ms/step - loss: 158.0000\n",
      "Epoch 9/10\n",
      "313/313 [==============================] - 12s 37ms/step - loss: 158.0002\n",
      "Epoch 10/10\n",
      "313/313 [==============================] - 12s 37ms/step - loss: 158.0001\n"
     ]
    }
   ],
   "source": [
    "%%time\n",
    "model.compile(optimizer=Adam(), loss='mae')\n",
    "history = model.fit(\n",
    "    transposed[:10000], y_train[:10000], epochs=10\n",
    ")"
   ]
  },
  {
   "cell_type": "code",
   "execution_count": null,
   "metadata": {},
   "outputs": [],
   "source": [
    "start = 0\n",
    "end = 10\n",
    "\n",
    "plt.title('all epochs')\n",
    "plt.xlabel('epoch')\n",
    "plt.ylabel('loss')\n",
    "plt.plot(range(start, end), history.history['loss'][start:end])\n",
    "plt.show()"
   ]
  },
  {
   "cell_type": "code",
   "execution_count": 8,
   "metadata": {},
   "outputs": [
    {
     "name": "stdout",
     "output_type": "stream",
     "text": [
      "313/313 [==============================] - 5s 15ms/step - loss: 173.6339\n"
     ]
    },
    {
     "data": {
      "text/plain": [
       "173.63389587402344"
      ]
     },
     "execution_count": 8,
     "metadata": {},
     "output_type": "execute_result"
    }
   ],
   "source": [
    "model.evaluate(np.array([x.T for x in X_test]), y_test)"
   ]
  },
  {
   "cell_type": "code",
   "execution_count": 1,
   "metadata": {},
   "outputs": [],
   "source": [
    "from tensorflow.keras.models import load_model\n",
    "from evaluate import AUC\n",
    "model = load_model('model_saves/transformer-model')"
   ]
  },
  {
   "cell_type": "code",
   "execution_count": 7,
   "metadata": {},
   "outputs": [
    {
     "name": "stdout",
     "output_type": "stream",
     "text": [
      "{'false negative': 5717, 'true negative': 4283}\n",
      "CPU times: user 3 s, sys: 257 ms, total: 3.26 s\n",
      "Wall time: 6.07 s\n"
     ]
    }
   ],
   "source": [
    "%%time\n",
    "print(AUC(model, transposed[:10000], y_train[:10000]))"
   ]
  },
  {
   "cell_type": "code",
   "execution_count": null,
   "metadata": {},
   "outputs": [],
   "source": [
    "n = randint(0, len(y_test))\n",
    "\n",
    "pred = model.predict(np.expand_dims(X_test[n].T, 0))\n",
    "\n",
    "print(n, '\\n', pred, '\\n', y_test[n])"
   ]
  },
  {
   "cell_type": "markdown",
   "metadata": {},
   "source": [
    "model.save('model_saves/transformer-model')"
   ]
  }
 ],
 "metadata": {
  "kernelspec": {
   "display_name": "Python 3",
   "language": "python",
   "name": "python3"
  },
  "language_info": {
   "codemirror_mode": {
    "name": "ipython",
    "version": 3
   },
   "file_extension": ".py",
   "mimetype": "text/x-python",
   "name": "python",
   "nbconvert_exporter": "python",
   "pygments_lexer": "ipython3",
   "version": "3.8.5"
  }
 },
 "nbformat": 4,
 "nbformat_minor": 4
}
