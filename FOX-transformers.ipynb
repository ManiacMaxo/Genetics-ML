{
 "cells": [
  {
   "cell_type": "code",
   "execution_count": 21,
   "metadata": {},
   "outputs": [],
   "source": [
    "from tensorflow.keras import Model\n",
    "from tensorflow.keras.layers import Input, GlobalAveragePooling1D, Dropout, Dense\n",
    "from tensorflow.keras.preprocessing.sequence import pad_sequences\n",
    "from tensorflow.keras.optimizers import Adam, RMSprop\n",
    "from tensorflow.keras.backend import clear_session\n",
    "\n",
    "import numpy as np\n",
    "import matplotlib.pyplot as plt\n",
    "from transformer import TransformerBlock, TokenAndPositionEmbedding"
   ]
  },
  {
   "cell_type": "code",
   "execution_count": 3,
   "metadata": {},
   "outputs": [
    {
     "name": "stdout",
     "output_type": "stream",
     "text": [
      "/tmp/FOX_train.h5\r\n"
     ]
    }
   ],
   "source": [
    "!if ! ls /tmp/FOX_train.h5; \\\n",
    "    wget https://repo.gorchilov.net/datasets/fox-multi-factor.tar.gz -O /tmp/fox.tar.gz; \\\n",
    "    tar -xf /tmp/fox.tar.gz -C /tmp; \\\n",
    "    end\n",
    "\n",
    "import h5py\n",
    "\n",
    "train = h5py.File('/tmp/FOX_train.h5', mode='r')\n",
    "test = h5py.File('/tmp/FOX_test.h5', mode='r')"
   ]
  },
  {
   "cell_type": "code",
   "execution_count": 4,
   "metadata": {},
   "outputs": [],
   "source": [
    "X_train = train['data'][:]\n",
    "y_train = train['labels'][:]\n",
    "\n",
    "X_test = test['data'][:]\n",
    "y_test = test['labels'][:]"
   ]
  },
  {
   "cell_type": "code",
   "execution_count": 22,
   "metadata": {},
   "outputs": [],
   "source": [
    "transposed = np.array([x.T for x in X_train])"
   ]
  },
  {
   "cell_type": "code",
   "execution_count": 78,
   "metadata": {
    "scrolled": true
   },
   "outputs": [
    {
     "name": "stdout",
     "output_type": "stream",
     "text": [
      "Model: \"model\"\n",
      "_________________________________________________________________\n",
      "Layer (type)                 Output Shape              Param #   \n",
      "=================================================================\n",
      "input_1 (InputLayer)         [(None, 1000, 4)]         0         \n",
      "_________________________________________________________________\n",
      "transformer_block (Transform (None, 1000, 4)           1252      \n",
      "_________________________________________________________________\n",
      "global_average_pooling1d (Gl (None, 4)                 0         \n",
      "_________________________________________________________________\n",
      "dense_6 (Dense)              (None, 128)               640       \n",
      "_________________________________________________________________\n",
      "dense_7 (Dense)              (None, 31)                3999      \n",
      "=================================================================\n",
      "Total params: 5,891\n",
      "Trainable params: 5,891\n",
      "Non-trainable params: 0\n",
      "_________________________________________________________________\n"
     ]
    }
   ],
   "source": [
    "sample_size = 10000\n",
    "\n",
    "embed_dim = 4\n",
    "num_heads = 4 # Number of attention heads\n",
    "ff_dim = 128 # Hidden layer size in feed forward network inside transformer\n",
    "\n",
    "clear_session()\n",
    "\n",
    "inputs = Input(shape=(1000, 4))\n",
    "# inputs = Input(shape=(1000,))\n",
    "\n",
    "# embedding_layer = TokenAndPositionEmbedding(1000, sample_size, 4)\n",
    "# x = embedding_layer(inputs)\n",
    "x = inputs\n",
    "\n",
    "transformer_block = TransformerBlock(embed_dim, num_heads, ff_dim)\n",
    "x = transformer_block(x)\n",
    "x = GlobalAveragePooling1D()(x)\n",
    "x = Dense(128, activation='relu')(x)\n",
    "# x = Dropout(0.1)(x)\n",
    "outputs = Dense(31, activation='relu')(x)\n",
    "\n",
    "model = Model(inputs, outputs)\n",
    "\n",
    "model.summary()"
   ]
  },
  {
   "cell_type": "code",
   "execution_count": 79,
   "metadata": {
    "scrolled": true
   },
   "outputs": [
    {
     "name": "stdout",
     "output_type": "stream",
     "text": [
      "Epoch 1/10\n",
      "313/313 [==============================] - 17s 53ms/step - loss: 158.0006\n",
      "Epoch 2/10\n",
      "313/313 [==============================] - 16s 52ms/step - loss: 158.0002\n",
      "Epoch 3/10\n",
      "313/313 [==============================] - 16s 52ms/step - loss: 158.0002\n",
      "Epoch 4/10\n",
      "313/313 [==============================] - 16s 52ms/step - loss: 158.0001\n",
      "Epoch 5/10\n",
      "313/313 [==============================] - 16s 52ms/step - loss: 158.0001\n",
      "Epoch 6/10\n",
      "313/313 [==============================] - 16s 52ms/step - loss: 158.0002\n",
      "Epoch 7/10\n",
      "313/313 [==============================] - 16s 52ms/step - loss: 158.0001\n",
      "Epoch 8/10\n",
      "313/313 [==============================] - 16s 52ms/step - loss: 158.0002\n",
      "Epoch 9/10\n",
      "313/313 [==============================] - 16s 52ms/step - loss: 158.0002\n",
      "Epoch 10/10\n",
      "313/313 [==============================] - 17s 53ms/step - loss: 158.0002\n"
     ]
    }
   ],
   "source": [
    "model.compile(optimizer=Adam(), loss='mae')\n",
    "history = model.fit(\n",
    "    transposed[:10000], y_train[:10000], epochs=10\n",
    ")"
   ]
  },
  {
   "cell_type": "code",
   "execution_count": 80,
   "metadata": {},
   "outputs": [
    {
     "data": {
      "image/png": "[encoded data removed]",
      "text/plain": [
       "<Figure size 432x288 with 1 Axes>"
      ]
     },
     "metadata": {
      "needs_background": "light"
     },
     "output_type": "display_data"
    }
   ],
   "source": [
    "start = 0\n",
    "end = 10\n",
    "\n",
    "plt.title('all epochs')\n",
    "plt.xlabel('epoch')\n",
    "plt.ylabel('loss')\n",
    "plt.plot(range(start, end), history.history['loss'][start:end])\n",
    "plt.show()"
   ]
  },
  {
   "cell_type": "code",
   "execution_count": 74,
   "metadata": {},
   "outputs": [
    {
     "name": "stdout",
     "output_type": "stream",
     "text": [
      "313/313 [==============================] - 6s 20ms/step - loss: 65154772.0000\n"
     ]
    },
    {
     "data": {
      "text/plain": [
       "65154772.0"
      ]
     },
     "execution_count": 74,
     "metadata": {},
     "output_type": "execute_result"
    }
   ],
   "source": [
    "model.evaluate(np.array([x.T for x in X_test]), y_test)"
   ]
  },
  {
   "cell_type": "code",
   "execution_count": 75,
   "metadata": {},
   "outputs": [
    {
     "data": {
      "text/plain": [
       "array([0., 0., 0., 0., 0., 0., 0., 0., 0., 0., 0., 0., 0., 0., 0., 0., 0.,\n",
       "       0., 0., 0., 0., 0., 0., 0., 0., 0., 0., 0., 0., 0., 0.])"
      ]
     },
     "execution_count": 75,
     "metadata": {},
     "output_type": "execute_result"
    }
   ],
   "source": [
    "y_test[1]"
   ]
  },
  {
   "cell_type": "code",
   "execution_count": 81,
   "metadata": {},
   "outputs": [
    {
     "name": "stdout",
     "output_type": "stream",
     "text": [
      "[[0. 0. 0. 0. 0. 0. 0. 0. 0. 0. 0. 0. 0. 0. 0. 0. 0. 0. 0. 0. 0. 0. 0. 0.\n",
      "  0. 0. 0. 0. 0. 0. 0.]]\n"
     ]
    }
   ],
   "source": [
    "pred = model.predict(np.expand_dims(X_test[1].T, 0))\n",
    "\n",
    "print(pred)"
   ]
  },
  {
   "cell_type": "code",
   "execution_count": 13,
   "metadata": {},
   "outputs": [
    {
     "name": "stdout",
     "output_type": "stream",
     "text": [
      "WARNING:tensorflow:From /home/victorgorchilov/anaconda3/lib/python3.8/site-packages/tensorflow/python/ops/resource_variable_ops.py:1813: calling BaseResourceVariable.__init__ (from tensorflow.python.ops.resource_variable_ops) with constraint is deprecated and will be removed in a future version.\n",
      "Instructions for updating:\n",
      "If using Keras pass *_constraint arguments to layers.\n",
      "INFO:tensorflow:Assets written to: model_saves/transformer-model/assets\n"
     ]
    }
   ],
   "source": [
    "model.save('model_saves/transformer-model')"
   ]
  },
  {
   "cell_type": "code",
   "execution_count": null,
   "metadata": {},
   "outputs": [],
   "source": []
  }
 ],
 "metadata": {
  "kernelspec": {
   "display_name": "Python 3",
   "language": "python",
   "name": "python3"
  },
  "language_info": {
   "codemirror_mode": {
    "name": "ipython",
    "version": 3
   },
   "file_extension": ".py",
   "mimetype": "text/x-python",
   "name": "python",
   "nbconvert_exporter": "python",
   "pygments_lexer": "ipython3",
   "version": "3.8.5"
  }
 },
 "nbformat": 4,
 "nbformat_minor": 4
}
