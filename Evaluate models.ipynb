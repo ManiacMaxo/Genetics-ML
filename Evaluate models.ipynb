{
 "cells": [
  {
   "cell_type": "code",
   "execution_count": 1,
   "metadata": {},
   "outputs": [],
   "source": [
    "from tensorflow.keras.models import Sequential\n",
    "from tensorflow.keras.layers import Dense, LSTM, Dropout\n",
    "from tensorflow.keras.optimizers import Adam\n",
    "from tensorflow.keras.backend import clear_session\n",
    "from tensorflow.keras.callbacks import LearningRateScheduler, EarlyStopping\n",
    "from tensorflow import math\n",
    "\n",
    "from sklearn.metrics import roc_curve\n",
    "from utils import load_dataset\n",
    "import matplotlib.pyplot as plt\n",
    "import numpy as np"
   ]
  },
  {
   "cell_type": "code",
   "execution_count": 7,
   "metadata": {},
   "outputs": [
    {
     "data": {
      "text/plain": [
       "[PhysicalDevice(name='/physical_device:GPU:0', device_type='GPU')]"
      ]
     },
     "execution_count": 7,
     "metadata": {},
     "output_type": "execute_result"
    }
   ],
   "source": [
    "from tensorflow.config import list_physical_devices\n",
    "\n",
    "list_physical_devices('GPU')"
   ]
  },
  {
   "cell_type": "code",
   "execution_count": 3,
   "metadata": {},
   "outputs": [],
   "source": [
    "def schedule(epoch, lr) -> float:\n",
    "    if epoch >= 200 and epoch % 25 == 0:\n",
    "        lr = lr * math.exp(-0.1)\n",
    "        print(f'Epoch {epoch}\\tNew LR: {lr}')\n",
    "    return lr"
   ]
  },
  {
   "cell_type": "code",
   "execution_count": null,
   "metadata": {},
   "outputs": [],
   "source": [
    "scheduler = LearningRateScheduler(schedule)\n",
    "es = EarlyStopping(monitor='loss', patience=25)\n",
    "optimizer = Adam(lr=1e-3)\n",
    "\n",
    "epochs = 500\n",
    "validation_freq = 5\n",
    "boundary = 300"
   ]
  },
  {
   "cell_type": "code",
   "execution_count": null,
   "metadata": {
    "scrolled": false
   },
   "outputs": [],
   "source": [
    "for n in [1, 2, 3, 5, 8]:\n",
    "    print(f'--------------- Starting model {n} ---------------')\n",
    "    X_train, y_train, X_test, y_test = load_dataset(f'm{n}')\n",
    "\n",
    "    clear_session()\n",
    "    model = Sequential([\n",
    "                        LSTM(4, input_shape=(4, 1000)),\n",
    "                        Dense(8, activation='relu'),\n",
    "                        Dense(1, activation='relu')\n",
    "    ])\n",
    "    model.compile(optimizer=optimizer, loss='mse')\n",
    "\n",
    "    history = model.fit(X_train,\n",
    "                        y_train,\n",
    "                        epochs=epochs,\n",
    "                        callbacks=[scheduler, es],\n",
    "                        validation_data=(X_test, y_test),\n",
    "                        validation_freq=validation_freq,\n",
    "                        verbose=1\n",
    "    )\n",
    "\n",
    "    passed_epochs = len(history.history['loss'])\n",
    "    plt.plot(range(passed_epochs), history.history['loss'], label='loss')\n",
    "    plt.plot(range(validation_freq, passed_epochs + 1, validation_freq),\n",
    "             history.history['val_loss'],\n",
    "             label='val loss'\n",
    "    )\n",
    "    plt.legend()\n",
    "    plt.show()\n",
    "\n",
    "    y = np.where(y_test > boundary, 0, 1)\n",
    "    pred = np.where(model.predict(X_test) > boundary, 0, 1)\n",
    "\n",
    "    fpr, tpr, thresholds = roc_curve(y, pred)\n",
    "\n",
    "    plt.title('ROC curve')\n",
    "    plt.ylabel('True Positive Rate')\n",
    "    plt.xlabel('False Positive Rate')\n",
    "    plt.plot(tpr, fpr)\n",
    "    plt.show()\n",
    "\n",
    "    print(f'Thresholds: {thresholds}')\n",
    "    model.save(f'lstm-{n}-model.h5')"
   ]
  }
 ],
 "metadata": {
  "kernelspec": {
   "display_name": "Python 3",
   "language": "python",
   "name": "python3"
  },
  "language_info": {
   "codemirror_mode": {
    "name": "ipython",
    "version": 3
   },
   "file_extension": ".py",
   "mimetype": "text/x-python",
   "name": "python",
   "nbconvert_exporter": "python",
   "pygments_lexer": "ipython3",
   "version": "3.8.5"
  }
 },
 "nbformat": 4,
 "nbformat_minor": 4
}
