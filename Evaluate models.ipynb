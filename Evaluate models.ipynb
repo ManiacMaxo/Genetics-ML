{
 "cells": [
  {
   "cell_type": "code",
   "execution_count": 1,
   "metadata": {},
   "outputs": [],
   "source": [
    "from tensorflow.keras.models import Sequential\n",
    "from tensorflow.keras.layers import Dense, LSTM, Dropout\n",
    "from tensorflow.keras.optimizers import Adam\n",
    "from tensorflow.keras.backend import clear_session\n",
    "from tensorflow.keras.callbacks import LearningRateScheduler, EarlyStopping\n",
    "from tensorflow import math\n",
    "\n",
    "from sklearn.metrics import roc_curve\n",
    "from utils import load_dataset\n",
    "import matplotlib.pyplot as plt\n",
    "import numpy as np"
   ]
  },
  {
   "cell_type": "code",
   "execution_count": 2,
   "metadata": {},
   "outputs": [],
   "source": [
    "from tensorflow.config import list_physical_devices\n",
    "\n",
    "assert len(list_physical_devices('GPU'))"
   ]
  },
  {
   "cell_type": "code",
   "execution_count": 3,
   "metadata": {},
   "outputs": [],
   "source": [
    "def schedule(epoch, lr) -> float:\n",
    "    if epoch >= 200 and epoch % 25 == 0:\n",
    "        lr = lr * math.exp(-0.1)\n",
    "#         print(f'Epoch {epoch}\\tNew LR: {lr}')\n",
    "    return lr"
   ]
  },
  {
   "cell_type": "code",
   "execution_count": 4,
   "metadata": {},
   "outputs": [],
   "source": [
    "def train(dataset, model, epochs, verbose=0, validation_freq=1, callbacks=[]) -> Sequential:\n",
    "    X_train, y_train, X_test, y_test = dataset\n",
    "    clear_session()\n",
    "    model = model\n",
    "    model.compile(optimizer=optimizer, loss='mse')\n",
    "\n",
    "    history = model.fit(X_train,\n",
    "                        y_train,\n",
    "                        epochs=epochs,\n",
    "                        callbacks=callbacks,\n",
    "                        validation_data=(X_test, y_test),\n",
    "                        validation_freq=validation_freq,\n",
    "                        verbose=verbose\n",
    "    )\n",
    "\n",
    "    passed_epochs = len(history.history['loss'])\n",
    "    plt.plot(range(passed_epochs), history.history['loss'], label='loss')\n",
    "    plt.plot(range(validation_freq, passed_epochs + 1, validation_freq),\n",
    "             history.history['val_loss'],\n",
    "             label='val loss'\n",
    "    )\n",
    "    plt.legend()\n",
    "    plt.show()\n",
    "\n",
    "    return model"
   ]
  },
  {
   "cell_type": "code",
   "execution_count": 5,
   "metadata": {},
   "outputs": [],
   "source": [
    "def plot_roc(y, pred, boundary: int):\n",
    "    y = np.where(y > boundary, 0, 1)\n",
    "    pred = np.where(pred > boundary, 0, 1)\n",
    "\n",
    "    fpr, tpr, thresholds = roc_curve(y, pred)\n",
    "\n",
    "    plt.title(f'ROC curve with boundary {boundary}')\n",
    "    plt.ylabel('True Positive Rate')\n",
    "    plt.xlabel('False Positive Rate')\n",
    "    plt.plot(tpr, fpr)\n",
    "    plt.show()\n",
    "    print(f'Thresholds: {thresholds}')"
   ]
  },
  {
   "cell_type": "code",
   "execution_count": 6,
   "metadata": {},
   "outputs": [],
   "source": [
    "scheduler = LearningRateScheduler(schedule)\n",
    "es = EarlyStopping(monitor='loss', patience=25)\n",
    "optimizer = Adam(lr=1e-3)\n",
    "\n",
    "epochs = 500\n",
    "validation_freq = 5"
   ]
  },
  {
   "cell_type": "code",
   "execution_count": 7,
   "metadata": {},
   "outputs": [],
   "source": [
    "models_to_train = [\n",
    "    Sequential([\n",
    "        LSTM(4, input_shape=(4, 1000)),\n",
    "        Dense(8, activation='relu'),\n",
    "        Dense(1, activation='relu')\n",
    "    ]),\n",
    "    Sequential([\n",
    "        LSTM(8, input_shape=(4, 1000)),\n",
    "        Dense(8, activation='relu'),\n",
    "        Dense(1, activation='relu')\n",
    "    ]),\n",
    "    Sequential([\n",
    "        LSTM(16, input_shape=(4, 1000)),\n",
    "        Dense(8, activation='relu'),\n",
    "        Dense(1, activation='relu')\n",
    "    ]),\n",
    "    Sequential([\n",
    "        LSTM(4, input_shape=(4, 1000)),\n",
    "        Dense(32, activation='relu'),\n",
    "        Dense(1, activation='relu')\n",
    "    ]),\n",
    "    Sequential([\n",
    "        LSTM(8, input_shape=(4, 1000)),\n",
    "        Dense(32, activation='relu'),\n",
    "        Dense(1, activation='relu')\n",
    "    ])\n",
    "]"
   ]
  },
  {
   "cell_type": "code",
   "execution_count": null,
   "metadata": {
    "scrolled": false
   },
   "outputs": [
    {
     "name": "stdout",
     "output_type": "stream",
     "text": [
      "--------------- Starting model 0 on noise 0 ---------------\n"
     ]
    }
   ],
   "source": [
    "for i, lstm in enumerate(models_to_train):\n",
    "    for n in [0, 1, 2, 3, 5, 8]:\n",
    "        print(f'--------------- Starting model {i} on noise {n} ---------------')\n",
    "        X_train, y_train, X_test, y_test = load_dataset(f'm{n}')\n",
    "\n",
    "        model = train((X_train, y_train, X_test, y_test), lstm, epochs, 0, validation_freq, [scheduler, es])\n",
    "\n",
    "        for boundary in [300, 500, 1000, 2500, 5000]:\n",
    "            plot_roc(y_test, model.predict(X_test), boundary)\n",
    "\n",
    "        model.save(f'model_saves/tests/lstm-{n}-model.h5')"
   ]
  },
  {
   "cell_type": "code",
   "execution_count": null,
   "metadata": {},
   "outputs": [],
   "source": []
  }
 ],
 "metadata": {
  "kernelspec": {
   "display_name": "Python 3",
   "language": "python",
   "name": "python3"
  },
  "language_info": {
   "codemirror_mode": {
    "name": "ipython",
    "version": 3
   },
   "file_extension": ".py",
   "mimetype": "text/x-python",
   "name": "python",
   "nbconvert_exporter": "python",
   "pygments_lexer": "ipython3",
   "version": "3.8.8"
  }
 },
 "nbformat": 4,
 "nbformat_minor": 4
}
