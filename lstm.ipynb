{
 "cells": [
  {
   "cell_type": "code",
   "execution_count": 1,
   "metadata": {
    "executionInfo": {
     "elapsed": 2346,
     "status": "ok",
     "timestamp": 1606740016321,
     "user": {
      "displayName": "Victor Gorchilov",
      "photoUrl": "https://lh3.googleusercontent.com/a-/AOh14GhVOO2f8bSU9D2WCOuhm9D6m40pljIpR5gmOLVhCA=s64",
      "userId": "15273504440532916403"
     },
     "user_tz": -120
    },
    "id": "8Fx85VrU1v46"
   },
   "outputs": [],
   "source": [
    "from tensorflow.keras.models import Sequential\n",
    "from tensorflow.keras.layers import Dense, LSTM, Dropout, Bidirectional\n",
    "from tensorflow.keras.optimizers import RMSprop, Adam\n",
    "from tensorflow.keras.optimizers.schedules import ExponentialDecay\n",
    "from tensorflow.keras.backend import clear_session\n",
    "from tensorflow.keras.callbacks import EarlyStopping, LearningRateScheduler\n",
    "from tensorflow import math\n",
    "\n",
    "import matplotlib.pyplot as plt\n",
    "import numpy as np\n",
    "from utils import auc, load_dataset, plot_roc, train"
   ]
  },
  {
   "cell_type": "code",
   "execution_count": 2,
   "metadata": {},
   "outputs": [],
   "source": [
    "def schedule(epoch, lr) -> float:\n",
    "    if epoch >= 200 and epoch % 25 == 0:\n",
    "        lr = lr * math.exp(-0.1)\n",
    "    return lr"
   ]
  },
  {
   "cell_type": "code",
   "execution_count": 3,
   "metadata": {
    "executionInfo": {
     "elapsed": 41483,
     "status": "ok",
     "timestamp": 1606740055523,
     "user": {
      "displayName": "Victor Gorchilov",
      "photoUrl": "https://lh3.googleusercontent.com/a-/AOh14GhVOO2f8bSU9D2WCOuhm9D6m40pljIpR5gmOLVhCA=s64",
      "userId": "15273504440532916403"
     },
     "user_tz": -120
    },
    "id": "5Fzgddjy2pkc"
   },
   "outputs": [],
   "source": [
    "scheduler = LearningRateScheduler(schedule)\n",
    "es = EarlyStopping(monitor='loss', patience=15, verbose=1)\n",
    "\n",
    "# optimizer = RMSprop(ExponentialDecay(0.01, decay_steps=100000, decay_rate=0.1))\n",
    "optimizer = Adam(lr=1e-3)\n",
    "epochs = 500"
   ]
  },
  {
   "cell_type": "code",
   "execution_count": 4,
   "metadata": {
    "colab": {
     "base_uri": "https://localhost:8080/"
    },
    "executionInfo": {
     "elapsed": 41510,
     "status": "ok",
     "timestamp": 1606740055521,
     "user": {
      "displayName": "Victor Gorchilov",
      "photoUrl": "https://lh3.googleusercontent.com/a-/AOh14GhVOO2f8bSU9D2WCOuhm9D6m40pljIpR5gmOLVhCA=s64",
      "userId": "15273504440532916403"
     },
     "user_tz": -120
    },
    "id": "NNHOK4xy2Y0h",
    "outputId": "704ae0c7-52c7-4621-afbc-af48e72f02c0",
    "scrolled": true
   },
   "outputs": [
    {
     "name": "stdout",
     "output_type": "stream",
     "text": [
      "Model: \"sequential\"\n",
      "_________________________________________________________________\n",
      "Layer (type)                 Output Shape              Param #   \n",
      "=================================================================\n",
      "bidirectional (Bidirectional (None, 2)                 8016      \n",
      "_________________________________________________________________\n",
      "dense (Dense)                (None, 4)                 12        \n",
      "_________________________________________________________________\n",
      "dense_1 (Dense)              (None, 1)                 5         \n",
      "=================================================================\n",
      "Total params: 8,033\n",
      "Trainable params: 8,033\n",
      "Non-trainable params: 0\n",
      "_________________________________________________________________\n"
     ]
    }
   ],
   "source": [
    "clear_session()\n",
    "\n",
    "model = Sequential([\n",
    "                    Bidirectional(LSTM(1, dropout=0.3), input_shape=(4, 1000)),\n",
    "                    Dense(4, activation='relu'),\n",
    "                    Dropout(0.5),\n",
    "                    Dense(1, activation='relu')\n",
    "])\n",
    "model.summary()"
   ]
  },
  {
   "cell_type": "code",
   "execution_count": 5,
   "metadata": {
    "colab": {
     "base_uri": "https://localhost:8080/"
    },
    "executionInfo": {
     "elapsed": 2258709,
     "status": "ok",
     "timestamp": 1606742272762,
     "user": {
      "displayName": "Victor Gorchilov",
      "photoUrl": "https://lh3.googleusercontent.com/a-/AOh14GhVOO2f8bSU9D2WCOuhm9D6m40pljIpR5gmOLVhCA=s64",
      "userId": "15273504440532916403"
     },
     "user_tz": -120
    },
    "id": "xAmHEKgZ2wGi",
    "outputId": "3035ef26-2a11-416b-b5b9-f5eacf492374",
    "scrolled": true
   },
   "outputs": [
    {
     "name": "stdout",
     "output_type": "stream",
     "text": [
      "Epoch 1/500\n",
      "3125/3125 [==============================] - 7s 2ms/step - loss: 18767128.0000 - val_loss: 18100644.0000 - lr: 0.0010\n",
      "Epoch 2/500\n",
      "3125/3125 [==============================] - 7s 2ms/step - loss: 18185068.0000 - val_loss: 17388514.0000 - lr: 0.0010\n",
      "Epoch 3/500\n",
      "3125/3125 [==============================] - 7s 2ms/step - loss: 17407640.0000 - val_loss: 16615224.0000 - lr: 0.0010\n",
      "Epoch 4/500\n",
      "3125/3125 [==============================] - 7s 2ms/step - loss: 16681358.0000 - val_loss: 15999322.0000 - lr: 0.0010\n",
      "Epoch 5/500\n",
      "3125/3125 [==============================] - 7s 2ms/step - loss: 16178642.0000 - val_loss: 15651262.0000 - lr: 0.0010\n",
      "Epoch 6/500\n",
      "3125/3125 [==============================] - 7s 2ms/step - loss: 15938956.0000 - val_loss: 15527577.0000 - lr: 0.0010\n",
      "Epoch 7/500\n",
      "3125/3125 [==============================] - 7s 2ms/step - loss: 15865833.0000 - val_loss: 15502243.0000 - lr: 0.0010\n",
      "Epoch 8/500\n",
      "3125/3125 [==============================] - 7s 2ms/step - loss: 15848703.0000 - val_loss: 15498512.0000 - lr: 0.0010\n",
      "Epoch 9/500\n",
      "3125/3125 [==============================] - 7s 2ms/step - loss: 15839642.0000 - val_loss: 15495840.0000 - lr: 0.0010\n",
      "Epoch 10/500\n",
      "3125/3125 [==============================] - 7s 2ms/step - loss: 15829500.0000 - val_loss: 15498016.0000 - lr: 0.0010\n",
      "Epoch 11/500\n",
      "3125/3125 [==============================] - 7s 2ms/step - loss: 15811664.0000 - val_loss: 15506761.0000 - lr: 0.0010\n",
      "Epoch 12/500\n",
      "3125/3125 [==============================] - 7s 2ms/step - loss: 15799726.0000 - val_loss: 15509214.0000 - lr: 0.0010\n",
      "Epoch 13/500\n",
      "3125/3125 [==============================] - 7s 2ms/step - loss: 15793658.0000 - val_loss: 15528778.0000 - lr: 0.0010\n",
      "Epoch 14/500\n",
      "3125/3125 [==============================] - 7s 2ms/step - loss: 15778890.0000 - val_loss: 15555310.0000 - lr: 0.0010\n",
      "Epoch 15/500\n",
      "3125/3125 [==============================] - 7s 2ms/step - loss: 15764179.0000 - val_loss: 15545524.0000 - lr: 0.0010\n",
      "Epoch 16/500\n",
      "3125/3125 [==============================] - 7s 2ms/step - loss: 15752410.0000 - val_loss: 15548264.0000 - lr: 0.0010\n",
      "Epoch 17/500\n",
      "3125/3125 [==============================] - 7s 2ms/step - loss: 15745196.0000 - val_loss: 15558309.0000 - lr: 0.0010\n",
      "Epoch 18/500\n",
      "3125/3125 [==============================] - 7s 2ms/step - loss: 15728365.0000 - val_loss: 15601209.0000 - lr: 0.0010\n",
      "Epoch 19/500\n",
      "3125/3125 [==============================] - 7s 2ms/step - loss: 15717908.0000 - val_loss: 15582829.0000 - lr: 0.0010\n",
      "Epoch 20/500\n",
      "3125/3125 [==============================] - 7s 2ms/step - loss: 15697487.0000 - val_loss: 15588950.0000 - lr: 0.0010\n",
      "Epoch 21/500\n",
      "3125/3125 [==============================] - 7s 2ms/step - loss: 15703781.0000 - val_loss: 15588208.0000 - lr: 0.0010\n",
      "Epoch 22/500\n",
      "3125/3125 [==============================] - 7s 2ms/step - loss: 15686190.0000 - val_loss: 15609364.0000 - lr: 0.0010\n",
      "Epoch 23/500\n",
      "3125/3125 [==============================] - 7s 2ms/step - loss: 15693105.0000 - val_loss: 15608614.0000 - lr: 0.0010\n",
      "Epoch 24/500\n",
      "3125/3125 [==============================] - 7s 2ms/step - loss: 15683758.0000 - val_loss: 15632461.0000 - lr: 0.0010\n",
      "Epoch 25/500\n",
      "3125/3125 [==============================] - 7s 2ms/step - loss: 15684309.0000 - val_loss: 15615826.0000 - lr: 0.0010\n",
      "Epoch 26/500\n",
      "3125/3125 [==============================] - 7s 2ms/step - loss: 15672147.0000 - val_loss: 15609895.0000 - lr: 0.0010\n",
      "Epoch 27/500\n",
      "3125/3125 [==============================] - 7s 2ms/step - loss: 15660268.0000 - val_loss: 15621351.0000 - lr: 0.0010\n",
      "Epoch 28/500\n",
      "3125/3125 [==============================] - 7s 2ms/step - loss: 15645729.0000 - val_loss: 15632086.0000 - lr: 0.0010\n",
      "Epoch 29/500\n",
      "3125/3125 [==============================] - 7s 2ms/step - loss: 15646069.0000 - val_loss: 15643569.0000 - lr: 0.0010\n",
      "Epoch 30/500\n",
      "3125/3125 [==============================] - 7s 2ms/step - loss: 15645433.0000 - val_loss: 15650637.0000 - lr: 0.0010\n",
      "Epoch 31/500\n",
      "3125/3125 [==============================] - 7s 2ms/step - loss: 15641469.0000 - val_loss: 15657011.0000 - lr: 0.0010\n",
      "Epoch 32/500\n",
      "3125/3125 [==============================] - 7s 2ms/step - loss: 15634011.0000 - val_loss: 15656485.0000 - lr: 0.0010\n",
      "Epoch 33/500\n",
      "3125/3125 [==============================] - 7s 2ms/step - loss: 15647301.0000 - val_loss: 15683999.0000 - lr: 0.0010\n",
      "Epoch 34/500\n",
      "3125/3125 [==============================] - 7s 2ms/step - loss: 15626468.0000 - val_loss: 15662280.0000 - lr: 0.0010\n",
      "Epoch 35/500\n",
      "3125/3125 [==============================] - 7s 2ms/step - loss: 15626409.0000 - val_loss: 15657302.0000 - lr: 0.0010\n",
      "Epoch 36/500\n",
      "3125/3125 [==============================] - 7s 2ms/step - loss: 15624249.0000 - val_loss: 15724642.0000 - lr: 0.0010\n",
      "Epoch 37/500\n",
      "3125/3125 [==============================] - 7s 2ms/step - loss: 15611932.0000 - val_loss: 15694358.0000 - lr: 0.0010\n",
      "Epoch 38/500\n",
      "3125/3125 [==============================] - 7s 2ms/step - loss: 15610091.0000 - val_loss: 15694432.0000 - lr: 0.0010\n",
      "Epoch 39/500\n",
      "3125/3125 [==============================] - 7s 2ms/step - loss: 15629148.0000 - val_loss: 15699716.0000 - lr: 0.0010\n",
      "Epoch 40/500\n",
      "3125/3125 [==============================] - 7s 2ms/step - loss: 15608375.0000 - val_loss: 15700532.0000 - lr: 0.0010\n",
      "Epoch 41/500\n",
      "3125/3125 [==============================] - 7s 2ms/step - loss: 15606546.0000 - val_loss: 15713088.0000 - lr: 0.0010\n",
      "Epoch 42/500\n",
      "3125/3125 [==============================] - 7s 2ms/step - loss: 15608919.0000 - val_loss: 15719960.0000 - lr: 0.0010\n",
      "Epoch 43/500\n",
      "3125/3125 [==============================] - 7s 2ms/step - loss: 15607612.0000 - val_loss: 15693395.0000 - lr: 0.0010\n",
      "Epoch 44/500\n",
      "3125/3125 [==============================] - 7s 2ms/step - loss: 15594648.0000 - val_loss: 15718621.0000 - lr: 0.0010\n",
      "Epoch 45/500\n",
      "3125/3125 [==============================] - 7s 2ms/step - loss: 15585408.0000 - val_loss: 15707911.0000 - lr: 0.0010\n",
      "Epoch 46/500\n",
      "3125/3125 [==============================] - 7s 2ms/step - loss: 15598282.0000 - val_loss: 15706441.0000 - lr: 0.0010\n",
      "Epoch 47/500\n",
      "3125/3125 [==============================] - 7s 2ms/step - loss: 15597478.0000 - val_loss: 15728376.0000 - lr: 0.0010\n",
      "Epoch 48/500\n",
      "3125/3125 [==============================] - 7s 2ms/step - loss: 15570565.0000 - val_loss: 15739329.0000 - lr: 0.0010\n",
      "Epoch 49/500\n",
      "3125/3125 [==============================] - 7s 2ms/step - loss: 15594836.0000 - val_loss: 15743993.0000 - lr: 0.0010\n",
      "Epoch 50/500\n",
      "3125/3125 [==============================] - 7s 2ms/step - loss: 15587911.0000 - val_loss: 15702678.0000 - lr: 0.0010\n",
      "Epoch 51/500\n",
      "3125/3125 [==============================] - 7s 2ms/step - loss: 15570055.0000 - val_loss: 15737523.0000 - lr: 0.0010\n",
      "Epoch 52/500\n",
      "3125/3125 [==============================] - 7s 2ms/step - loss: 15585934.0000 - val_loss: 15759267.0000 - lr: 0.0010\n",
      "Epoch 53/500\n",
      "3125/3125 [==============================] - 7s 2ms/step - loss: 15583627.0000 - val_loss: 15718995.0000 - lr: 0.0010\n",
      "Epoch 54/500\n",
      "3125/3125 [==============================] - 7s 2ms/step - loss: 15557364.0000 - val_loss: 15782399.0000 - lr: 0.0010\n",
      "Epoch 55/500\n",
      "3125/3125 [==============================] - 7s 2ms/step - loss: 15606848.0000 - val_loss: 15733593.0000 - lr: 0.0010\n",
      "Epoch 56/500\n",
      "3125/3125 [==============================] - 7s 2ms/step - loss: 15565636.0000 - val_loss: 15745448.0000 - lr: 0.0010\n",
      "Epoch 57/500\n",
      "3125/3125 [==============================] - 7s 2ms/step - loss: 15571506.0000 - val_loss: 15774582.0000 - lr: 0.0010\n",
      "Epoch 58/500\n",
      "3125/3125 [==============================] - 7s 2ms/step - loss: 15567083.0000 - val_loss: 15761990.0000 - lr: 0.0010\n",
      "Epoch 59/500\n",
      "3125/3125 [==============================] - 7s 2ms/step - loss: 15557651.0000 - val_loss: 15774753.0000 - lr: 0.0010\n",
      "Epoch 60/500\n",
      "3125/3125 [==============================] - 7s 2ms/step - loss: 15553083.0000 - val_loss: 15784257.0000 - lr: 0.0010\n",
      "Epoch 61/500\n",
      "3125/3125 [==============================] - 7s 2ms/step - loss: 15567351.0000 - val_loss: 15734710.0000 - lr: 0.0010\n",
      "Epoch 62/500\n",
      "3125/3125 [==============================] - 7s 2ms/step - loss: 15565470.0000 - val_loss: 15800531.0000 - lr: 0.0010\n",
      "Epoch 63/500\n"
     ]
    },
    {
     "name": "stdout",
     "output_type": "stream",
     "text": [
      "3125/3125 [==============================] - 7s 2ms/step - loss: 15562344.0000 - val_loss: 15794962.0000 - lr: 0.0010\n",
      "Epoch 64/500\n",
      "3125/3125 [==============================] - 7s 2ms/step - loss: 15571188.0000 - val_loss: 15776383.0000 - lr: 0.0010\n",
      "Epoch 65/500\n",
      "3125/3125 [==============================] - 7s 2ms/step - loss: 15556995.0000 - val_loss: 15785322.0000 - lr: 0.0010\n",
      "Epoch 66/500\n",
      "3125/3125 [==============================] - 7s 2ms/step - loss: 15571877.0000 - val_loss: 15797915.0000 - lr: 0.0010\n",
      "Epoch 67/500\n",
      "3125/3125 [==============================] - 7s 2ms/step - loss: 15551888.0000 - val_loss: 15780420.0000 - lr: 0.0010\n",
      "Epoch 68/500\n",
      "3125/3125 [==============================] - 7s 2ms/step - loss: 15547122.0000 - val_loss: 15833548.0000 - lr: 0.0010\n",
      "Epoch 69/500\n",
      "3125/3125 [==============================] - 7s 2ms/step - loss: 15555671.0000 - val_loss: 15811684.0000 - lr: 0.0010\n",
      "Epoch 70/500\n",
      "3125/3125 [==============================] - 7s 2ms/step - loss: 15536435.0000 - val_loss: 15754101.0000 - lr: 0.0010\n",
      "Epoch 71/500\n",
      "3125/3125 [==============================] - 7s 2ms/step - loss: 15546518.0000 - val_loss: 15815701.0000 - lr: 0.0010\n",
      "Epoch 72/500\n",
      "3125/3125 [==============================] - 7s 2ms/step - loss: 15539789.0000 - val_loss: 15787347.0000 - lr: 0.0010\n",
      "Epoch 73/500\n",
      "3125/3125 [==============================] - 7s 2ms/step - loss: 15549063.0000 - val_loss: 15846800.0000 - lr: 0.0010\n",
      "Epoch 74/500\n",
      "3125/3125 [==============================] - 7s 2ms/step - loss: 15542834.0000 - val_loss: 15838210.0000 - lr: 0.0010\n",
      "Epoch 75/500\n",
      "3125/3125 [==============================] - 7s 2ms/step - loss: 15548391.0000 - val_loss: 15868191.0000 - lr: 0.0010\n",
      "Epoch 76/500\n",
      "3125/3125 [==============================] - 7s 2ms/step - loss: 15560797.0000 - val_loss: 15829826.0000 - lr: 0.0010\n",
      "Epoch 77/500\n",
      "3125/3125 [==============================] - 7s 2ms/step - loss: 15509585.0000 - val_loss: 15916158.0000 - lr: 0.0010\n",
      "Epoch 78/500\n",
      "3125/3125 [==============================] - 7s 2ms/step - loss: 15521089.0000 - val_loss: 15811261.0000 - lr: 0.0010\n",
      "Epoch 79/500\n",
      "3125/3125 [==============================] - 7s 2ms/step - loss: 15524769.0000 - val_loss: 15842212.0000 - lr: 0.0010\n",
      "Epoch 80/500\n",
      "3125/3125 [==============================] - 7s 2ms/step - loss: 15526033.0000 - val_loss: 15844468.0000 - lr: 0.0010\n",
      "Epoch 81/500\n",
      "3125/3125 [==============================] - 7s 2ms/step - loss: 15517972.0000 - val_loss: 15889929.0000 - lr: 0.0010\n",
      "Epoch 82/500\n",
      "3125/3125 [==============================] - 7s 2ms/step - loss: 15543572.0000 - val_loss: 15810886.0000 - lr: 0.0010\n",
      "Epoch 83/500\n",
      "3125/3125 [==============================] - 7s 2ms/step - loss: 15534364.0000 - val_loss: 15855201.0000 - lr: 0.0010\n",
      "Epoch 84/500\n",
      "3125/3125 [==============================] - 7s 2ms/step - loss: 15529660.0000 - val_loss: 15882166.0000 - lr: 0.0010\n",
      "Epoch 85/500\n",
      "3125/3125 [==============================] - 7s 2ms/step - loss: 15547728.0000 - val_loss: 15812064.0000 - lr: 0.0010\n",
      "Epoch 86/500\n",
      "3125/3125 [==============================] - 7s 2ms/step - loss: 15527157.0000 - val_loss: 15860811.0000 - lr: 0.0010\n",
      "Epoch 87/500\n",
      "3125/3125 [==============================] - 7s 2ms/step - loss: 15540529.0000 - val_loss: 15816466.0000 - lr: 0.0010\n",
      "Epoch 88/500\n",
      "3125/3125 [==============================] - 7s 2ms/step - loss: 15520095.0000 - val_loss: 15866413.0000 - lr: 0.0010\n",
      "Epoch 89/500\n",
      "3125/3125 [==============================] - 7s 2ms/step - loss: 15536064.0000 - val_loss: 15839971.0000 - lr: 0.0010\n",
      "Epoch 90/500\n",
      "3125/3125 [==============================] - 7s 2ms/step - loss: 15535736.0000 - val_loss: 15851258.0000 - lr: 0.0010\n",
      "Epoch 91/500\n",
      "3125/3125 [==============================] - 7s 2ms/step - loss: 15544863.0000 - val_loss: 15935693.0000 - lr: 0.0010\n",
      "Epoch 92/500\n",
      "3125/3125 [==============================] - 7s 2ms/step - loss: 15534091.0000 - val_loss: 15844134.0000 - lr: 0.0010\n",
      "Epoch 00092: early stopping\n"
     ]
    },
    {
     "data": {
      "image/png": "[encoded data removed]",
      "text/plain": [
       "<Figure size 432x288 with 1 Axes>"
      ]
     },
     "metadata": {
      "needs_background": "light"
     },
     "output_type": "display_data"
    },
    {
     "name": "stdout",
     "output_type": "stream",
     "text": [
      "Training time: 10.60 minutes\n"
     ]
    }
   ],
   "source": [
    "model = train(load_dataset('m2'), model, epochs, optimizer, verbose=1, callbacks=[es, scheduler])"
   ]
  },
  {
   "cell_type": "code",
   "execution_count": 6,
   "metadata": {
    "colab": {
     "base_uri": "https://localhost:8080/"
    },
    "executionInfo": {
     "elapsed": 2561,
     "status": "ok",
     "timestamp": 1606742540355,
     "user": {
      "displayName": "Victor Gorchilov",
      "photoUrl": "https://lh3.googleusercontent.com/a-/AOh14GhVOO2f8bSU9D2WCOuhm9D6m40pljIpR5gmOLVhCA=s64",
      "userId": "15273504440532916403"
     },
     "user_tz": -120
    },
    "id": "wv13nd4s3uUl",
    "outputId": "8fa37a18-a723-40f5-e1f1-b95450e1414d",
    "scrolled": true
   },
   "outputs": [
    {
     "data": {
      "image/png": "[encoded data removed]",
      "text/plain": [
       "<Figure size 432x288 with 1 Axes>"
      ]
     },
     "metadata": {
      "needs_background": "light"
     },
     "output_type": "display_data"
    }
   ],
   "source": [
    "X_train, y_train, X_test, y_test = load_dataset('m2')\n",
    "\n",
    "plot_roc(y_train, model.predict(X_train), [100, 300, 500, 1000, 2000])"
   ]
  },
  {
   "cell_type": "code",
   "execution_count": null,
   "metadata": {},
   "outputs": [],
   "source": []
  }
 ],
 "metadata": {
  "colab": {
   "authorship_tag": "ABX9TyOGQ7MLOHDiwMXLC7oYcvTs",
   "collapsed_sections": [],
   "name": "lstm.ipynb",
   "provenance": []
  },
  "kernelspec": {
   "display_name": "Python 3",
   "language": "python",
   "name": "python3"
  },
  "language_info": {
   "codemirror_mode": {
    "name": "ipython",
    "version": 3
   },
   "file_extension": ".py",
   "mimetype": "text/x-python",
   "name": "python",
   "nbconvert_exporter": "python",
   "pygments_lexer": "ipython3",
   "version": "3.8.8"
  }
 },
 "nbformat": 4,
 "nbformat_minor": 1
}
