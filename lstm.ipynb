{
 "cells": [
  {
   "cell_type": "code",
   "execution_count": 14,
   "metadata": {
    "executionInfo": {
     "elapsed": 2346,
     "status": "ok",
     "timestamp": 1606740016321,
     "user": {
      "displayName": "Victor Gorchilov",
      "photoUrl": "https://lh3.googleusercontent.com/a-/AOh14GhVOO2f8bSU9D2WCOuhm9D6m40pljIpR5gmOLVhCA=s64",
      "userId": "15273504440532916403"
     },
     "user_tz": -120
    },
    "id": "8Fx85VrU1v46"
   },
   "outputs": [],
   "source": [
    "from tensorflow.keras.models import Sequential\n",
    "from tensorflow.keras.layers import Dense, LSTM, Dropout\n",
    "from tensorflow.keras.optimizers import RMSprop, Adam\n",
    "from tensorflow.keras.optimizers.schedules import ExponentialDecay\n",
    "from tensorflow.keras.backend import clear_session\n",
    "from tensorflow.keras.callbacks import LearningRateScheduler\n",
    "from tensorflow import math\n",
    "\n",
    "import matplotlib.pyplot as plt\n",
    "import numpy as np"
   ]
  },
  {
   "cell_type": "code",
   "execution_count": 15,
   "metadata": {
    "colab": {
     "base_uri": "https://localhost:8080/"
    },
    "executionInfo": {
     "elapsed": 41152,
     "status": "ok",
     "timestamp": 1606740055145,
     "user": {
      "displayName": "Victor Gorchilov",
      "photoUrl": "https://lh3.googleusercontent.com/a-/AOh14GhVOO2f8bSU9D2WCOuhm9D6m40pljIpR5gmOLVhCA=s64",
      "userId": "15273504440532916403"
     },
     "user_tz": -120
    },
    "id": "gmvnqh4V3LZv",
    "outputId": "3b094d83-80c0-481e-c275-1d4c40afe83d"
   },
   "outputs": [
    {
     "name": "stdout",
     "output_type": "stream",
     "text": [
      "/tmp/FOX_train.h5\r\n"
     ]
    }
   ],
   "source": [
    "!if ! ls /tmp/train.h5; \\\n",
    "    wget https://repo.gorchilov.net/datasets/genetics.tar.gz -O /tmp/genetics.tar.gz; \\\n",
    "    tar -xf /tmp/genetics.tar.gz -C /tmp; \\\n",
    "    end\n",
    "\n",
    "import h5py\n",
    "\n",
    "train = h5py.File('/tmp/train.h5', mode='r')\n",
    "train_X = train['data'][:]\n",
    "train_y = train['labels'][:]\n",
    "\n",
    "test = h5py.File('/tmp/test.h5', mode='r')\n",
    "test_X = test['data'][:]\n",
    "test_y = test['labels'][:]"
   ]
  },
  {
   "cell_type": "code",
   "execution_count": 16,
   "metadata": {},
   "outputs": [],
   "source": [
    "def schedule(epoch, lr) -> float:\n",
    "    if epoch < 200 or epoch % 50 != 0:\n",
    "        return lr\n",
    "    else:\n",
    "        return lr * math.exp(-0.01)"
   ]
  },
  {
   "cell_type": "code",
   "execution_count": 51,
   "metadata": {
    "colab": {
     "base_uri": "https://localhost:8080/"
    },
    "executionInfo": {
     "elapsed": 41510,
     "status": "ok",
     "timestamp": 1606740055521,
     "user": {
      "displayName": "Victor Gorchilov",
      "photoUrl": "https://lh3.googleusercontent.com/a-/AOh14GhVOO2f8bSU9D2WCOuhm9D6m40pljIpR5gmOLVhCA=s64",
      "userId": "15273504440532916403"
     },
     "user_tz": -120
    },
    "id": "NNHOK4xy2Y0h",
    "outputId": "704ae0c7-52c7-4621-afbc-af48e72f02c0",
    "scrolled": true
   },
   "outputs": [
    {
     "name": "stdout",
     "output_type": "stream",
     "text": [
      "Model: \"sequential\"\n",
      "_________________________________________________________________\n",
      "Layer (type)                 Output Shape              Param #   \n",
      "=================================================================\n",
      "lstm (LSTM)                  (None, 16)                65088     \n",
      "_________________________________________________________________\n",
      "dense (Dense)                (None, 64)                1088      \n",
      "_________________________________________________________________\n",
      "dense_1 (Dense)              (None, 1)                 65        \n",
      "=================================================================\n",
      "Total params: 66,241\n",
      "Trainable params: 66,241\n",
      "Non-trainable params: 0\n",
      "_________________________________________________________________\n"
     ]
    }
   ],
   "source": [
    "clear_session()\n",
    "\n",
    "model = Sequential([\n",
    "                    LSTM(16, input_shape=(4, 1000)),\n",
    "                    Dense(64, activation='relu'),\n",
    "#                     Dropout(0.2),\n",
    "#                     Dense(32, activation='relu'),\n",
    "#                     Dropout(0.2),\n",
    "                    Dense(1, activation='relu')\n",
    "])\n",
    "model.summary()"
   ]
  },
  {
   "cell_type": "code",
   "execution_count": 52,
   "metadata": {
    "executionInfo": {
     "elapsed": 41483,
     "status": "ok",
     "timestamp": 1606740055523,
     "user": {
      "displayName": "Victor Gorchilov",
      "photoUrl": "https://lh3.googleusercontent.com/a-/AOh14GhVOO2f8bSU9D2WCOuhm9D6m40pljIpR5gmOLVhCA=s64",
      "userId": "15273504440532916403"
     },
     "user_tz": -120
    },
    "id": "5Fzgddjy2pkc"
   },
   "outputs": [],
   "source": [
    "# optimizer = RMSprop(ExponentialDecay(0.01, decay_steps=100000, decay_rate=0.1))\n",
    "optimizer = RMSprop()\n",
    "\n",
    "model.compile(optimizer=optimizer, loss='mae')"
   ]
  },
  {
   "cell_type": "code",
   "execution_count": null,
   "metadata": {
    "colab": {
     "base_uri": "https://localhost:8080/"
    },
    "executionInfo": {
     "elapsed": 2258709,
     "status": "ok",
     "timestamp": 1606742272762,
     "user": {
      "displayName": "Victor Gorchilov",
      "photoUrl": "https://lh3.googleusercontent.com/a-/AOh14GhVOO2f8bSU9D2WCOuhm9D6m40pljIpR5gmOLVhCA=s64",
      "userId": "15273504440532916403"
     },
     "user_tz": -120
    },
    "id": "xAmHEKgZ2wGi",
    "outputId": "3035ef26-2a11-416b-b5b9-f5eacf492374",
    "scrolled": true
   },
   "outputs": [
    {
     "name": "stdout",
     "output_type": "stream",
     "text": [
      "Epoch 1/500\n",
      "3125/3125 [==============================] - 5s 2ms/step - loss: 1900.5706 - lr: 0.0010\n",
      "Epoch 2/500\n",
      "3125/3125 [==============================] - 5s 2ms/step - loss: 1897.4907 - lr: 0.0010\n",
      "Epoch 3/500\n",
      "3125/3125 [==============================] - 5s 2ms/step - loss: 1895.9062 - lr: 0.0010\n",
      "Epoch 4/500\n",
      "3125/3125 [==============================] - 4s 1ms/step - loss: 1894.7605 - lr: 0.0010\n",
      "Epoch 5/500\n",
      "3125/3125 [==============================] - 4s 1ms/step - loss: 1893.0664 - lr: 0.0010\n",
      "Epoch 6/500\n",
      "3125/3125 [==============================] - 4s 1ms/step - loss: 1889.9377 - lr: 0.0010\n",
      "Epoch 7/500\n",
      "3125/3125 [==============================] - 4s 1ms/step - loss: 1884.3451 - lr: 0.0010\n",
      "Epoch 8/500\n",
      "3125/3125 [==============================] - 4s 1ms/step - loss: 1876.1864 - lr: 0.0010\n",
      "Epoch 9/500\n",
      "3125/3125 [==============================] - 5s 2ms/step - loss: 1865.2631 - lr: 0.0010\n",
      "Epoch 10/500\n",
      "3125/3125 [==============================] - 5s 2ms/step - loss: 1851.1699 - lr: 0.0010\n",
      "Epoch 11/500\n",
      "3125/3125 [==============================] - 5s 2ms/step - loss: 1832.5505 - lr: 0.0010\n",
      "Epoch 12/500\n",
      "3125/3125 [==============================] - 5s 2ms/step - loss: 1806.7654 - lr: 0.0010\n",
      "Epoch 13/500\n",
      "3125/3125 [==============================] - 5s 2ms/step - loss: 1772.0798 - lr: 0.0010\n",
      "Epoch 14/500\n",
      "3125/3125 [==============================] - 5s 2ms/step - loss: 1728.4321 - lr: 0.0010\n",
      "Epoch 15/500\n",
      "3125/3125 [==============================] - 5s 2ms/step - loss: 1675.9758 - lr: 0.0010\n",
      "Epoch 16/500\n",
      "3125/3125 [==============================] - 4s 1ms/step - loss: 1621.8922 - lr: 0.0010\n",
      "Epoch 17/500\n",
      "3125/3125 [==============================] - 5s 2ms/step - loss: 1569.5236 - lr: 0.0010\n",
      "Epoch 18/500\n",
      "3125/3125 [==============================] - 5s 2ms/step - loss: 1519.5664 - lr: 0.0010\n",
      "Epoch 19/500\n",
      "3125/3125 [==============================] - 5s 1ms/step - loss: 1474.4078 - lr: 0.0010\n",
      "Epoch 20/500\n",
      "3125/3125 [==============================] - 5s 2ms/step - loss: 1432.5798 - lr: 0.0010\n",
      "Epoch 21/500\n",
      "3125/3125 [==============================] - 5s 2ms/step - loss: 1398.1056 - lr: 0.0010\n",
      "Epoch 22/500\n",
      "3125/3125 [==============================] - 5s 2ms/step - loss: 1364.7891 - lr: 0.0010\n",
      "Epoch 23/500\n",
      "3125/3125 [==============================] - 4s 1ms/step - loss: 1335.6747 - lr: 0.0010\n",
      "Epoch 24/500\n",
      "3125/3125 [==============================] - 5s 2ms/step - loss: 1311.4340 - lr: 0.0010\n",
      "Epoch 25/500\n",
      "3125/3125 [==============================] - 5s 2ms/step - loss: 1290.3940 - lr: 0.0010\n",
      "Epoch 26/500\n",
      "3125/3125 [==============================] - 4s 1ms/step - loss: 1271.4012 - lr: 0.0010\n",
      "Epoch 27/500\n",
      "3125/3125 [==============================] - 5s 1ms/step - loss: 1247.6165 - lr: 0.0010\n",
      "Epoch 28/500\n",
      "3125/3125 [==============================] - 4s 1ms/step - loss: 1235.6982 - lr: 0.0010\n",
      "Epoch 29/500\n",
      "3125/3125 [==============================] - 5s 2ms/step - loss: 1223.1957 - lr: 0.0010\n",
      "Epoch 30/500\n",
      "3125/3125 [==============================] - 5s 2ms/step - loss: 1205.3495 - lr: 0.0010\n",
      "Epoch 31/500\n",
      "3125/3125 [==============================] - 5s 2ms/step - loss: 1196.1805 - lr: 0.0010\n",
      "Epoch 32/500\n",
      "3125/3125 [==============================] - 5s 1ms/step - loss: 1182.9104 - lr: 0.0010\n",
      "Epoch 33/500\n",
      "3125/3125 [==============================] - 4s 1ms/step - loss: 1174.1307 - lr: 0.0010\n",
      "Epoch 34/500\n",
      "3125/3125 [==============================] - 4s 1ms/step - loss: 1166.3396 - lr: 0.0010\n",
      "Epoch 35/500\n",
      "3125/3125 [==============================] - 5s 2ms/step - loss: 1153.4031 - lr: 0.0010\n",
      "Epoch 36/500\n",
      "3125/3125 [==============================] - 5s 2ms/step - loss: 1143.4679 - lr: 0.0010\n",
      "Epoch 37/500\n",
      "3125/3125 [==============================] - 5s 2ms/step - loss: 1136.1084 - lr: 0.0010\n",
      "Epoch 38/500\n",
      "3125/3125 [==============================] - 5s 1ms/step - loss: 1128.9344 - lr: 0.0010\n",
      "Epoch 39/500\n",
      "3125/3125 [==============================] - 5s 1ms/step - loss: 1121.5906 - lr: 0.0010\n",
      "Epoch 40/500\n",
      "3125/3125 [==============================] - 5s 2ms/step - loss: 1113.8154 - lr: 0.0010\n",
      "Epoch 41/500\n",
      "3125/3125 [==============================] - 5s 1ms/step - loss: 1104.4952 - lr: 0.0010\n",
      "Epoch 42/500\n",
      "3125/3125 [==============================] - 4s 1ms/step - loss: 1099.4736 - lr: 0.0010\n",
      "Epoch 43/500\n",
      "3125/3125 [==============================] - 4s 1ms/step - loss: 1093.3929 - lr: 0.0010\n",
      "Epoch 44/500\n",
      "3125/3125 [==============================] - 5s 1ms/step - loss: 1085.9757 - lr: 0.0010\n",
      "Epoch 45/500\n",
      "3125/3125 [==============================] - 5s 1ms/step - loss: 1082.3132 - lr: 0.0010\n",
      "Epoch 46/500\n",
      "3125/3125 [==============================] - 5s 2ms/step - loss: 1077.0892 - lr: 0.0010\n",
      "Epoch 47/500\n",
      "3125/3125 [==============================] - 5s 2ms/step - loss: 1072.0828 - lr: 0.0010\n",
      "Epoch 48/500\n",
      "3125/3125 [==============================] - 4s 1ms/step - loss: 1063.2084 - lr: 0.0010\n",
      "Epoch 49/500\n",
      "3125/3125 [==============================] - 4s 1ms/step - loss: 1056.9899 - lr: 0.0010\n",
      "Epoch 50/500\n",
      "3125/3125 [==============================] - 4s 1ms/step - loss: 1051.2540 - lr: 0.0010\n",
      "Epoch 51/500\n",
      "3125/3125 [==============================] - 4s 1ms/step - loss: 1049.9833 - lr: 0.0010\n",
      "Epoch 52/500\n",
      "3125/3125 [==============================] - 4s 1ms/step - loss: 1041.5380 - lr: 0.0010\n",
      "Epoch 53/500\n",
      "3125/3125 [==============================] - 4s 1ms/step - loss: 1031.3444 - lr: 0.0010\n",
      "Epoch 54/500\n",
      "3125/3125 [==============================] - 4s 1ms/step - loss: 1032.9628 - lr: 0.0010\n",
      "Epoch 55/500\n",
      "3125/3125 [==============================] - 4s 1ms/step - loss: 1027.1174 - lr: 0.0010\n",
      "Epoch 56/500\n",
      "3125/3125 [==============================] - 5s 1ms/step - loss: 1020.2361 - lr: 0.0010\n",
      "Epoch 57/500\n",
      "3125/3125 [==============================] - 5s 2ms/step - loss: 1019.3314 - lr: 0.0010\n",
      "Epoch 58/500\n",
      "3125/3125 [==============================] - 5s 2ms/step - loss: 1010.9814 - lr: 0.0010\n",
      "Epoch 59/500\n",
      "3125/3125 [==============================] - 5s 2ms/step - loss: 1012.0164 - lr: 0.0010\n",
      "Epoch 60/500\n",
      "3125/3125 [==============================] - 5s 1ms/step - loss: 1004.7485 - lr: 0.0010\n",
      "Epoch 61/500\n",
      "3125/3125 [==============================] - 5s 1ms/step - loss: 1001.9400 - lr: 0.0010\n",
      "Epoch 62/500\n",
      "3125/3125 [==============================] - 5s 1ms/step - loss: 995.6971 - lr: 0.0010\n",
      "Epoch 63/500\n",
      "3125/3125 [==============================] - 4s 1ms/step - loss: 994.1099 - lr: 0.0010\n",
      "Epoch 64/500\n",
      "3125/3125 [==============================] - 4s 1ms/step - loss: 987.4343 - lr: 0.0010\n",
      "Epoch 65/500\n",
      "3125/3125 [==============================] - 4s 1ms/step - loss: 985.2977 - lr: 0.0010\n",
      "Epoch 66/500\n",
      "3125/3125 [==============================] - 5s 1ms/step - loss: 984.5590 - lr: 0.0010\n",
      "Epoch 67/500\n",
      "3125/3125 [==============================] - 5s 2ms/step - loss: 977.0466 - lr: 0.0010\n",
      "Epoch 68/500\n",
      "3125/3125 [==============================] - 5s 1ms/step - loss: 974.1292 - lr: 0.0010\n",
      "Epoch 69/500\n",
      "3125/3125 [==============================] - 4s 1ms/step - loss: 972.5302 - lr: 0.0010\n",
      "Epoch 70/500\n",
      "3125/3125 [==============================] - 5s 1ms/step - loss: 969.0875 - lr: 0.0010\n",
      "Epoch 71/500\n",
      "3125/3125 [==============================] - 5s 1ms/step - loss: 967.0587 - lr: 0.0010\n",
      "Epoch 72/500\n",
      "3125/3125 [==============================] - 4s 1ms/step - loss: 961.9995 - lr: 0.0010\n",
      "Epoch 73/500\n",
      "3125/3125 [==============================] - 4s 1ms/step - loss: 958.5545 - lr: 0.0010\n",
      "Epoch 74/500\n",
      "3125/3125 [==============================] - 4s 1ms/step - loss: 954.3182 - lr: 0.0010\n",
      "Epoch 75/500\n",
      "3125/3125 [==============================] - 5s 1ms/step - loss: 956.4208 - lr: 0.0010\n",
      "Epoch 76/500\n",
      "3125/3125 [==============================] - 5s 1ms/step - loss: 950.6674 - lr: 0.0010\n",
      "Epoch 77/500\n",
      "3125/3125 [==============================] - 4s 1ms/step - loss: 945.6030 - lr: 0.0010\n",
      "Epoch 78/500\n",
      "3125/3125 [==============================] - 5s 1ms/step - loss: 942.8728 - lr: 0.0010\n",
      "Epoch 79/500\n",
      "3125/3125 [==============================] - 5s 1ms/step - loss: 939.1146 - lr: 0.0010\n",
      "Epoch 80/500\n",
      "3125/3125 [==============================] - 5s 2ms/step - loss: 939.8187 - lr: 0.0010\n",
      "Epoch 81/500\n",
      "3125/3125 [==============================] - 5s 1ms/step - loss: 935.6938 - lr: 0.0010\n",
      "Epoch 82/500\n",
      "3125/3125 [==============================] - 5s 1ms/step - loss: 932.4106 - lr: 0.0010\n",
      "Epoch 83/500\n",
      "3125/3125 [==============================] - 4s 1ms/step - loss: 928.9890 - lr: 0.0010\n",
      "Epoch 84/500\n",
      "3125/3125 [==============================] - 4s 1ms/step - loss: 925.9980 - lr: 0.0010\n",
      "Epoch 85/500\n",
      "3125/3125 [==============================] - 4s 1ms/step - loss: 922.2787 - lr: 0.0010\n",
      "Epoch 86/500\n",
      "3125/3125 [==============================] - 4s 1ms/step - loss: 919.0685 - lr: 0.0010\n",
      "Epoch 87/500\n",
      "3125/3125 [==============================] - 4s 1ms/step - loss: 919.3847 - lr: 0.0010\n",
      "Epoch 88/500\n",
      "3125/3125 [==============================] - 4s 1ms/step - loss: 912.9875 - lr: 0.0010\n",
      "Epoch 89/500\n",
      "3125/3125 [==============================] - 4s 1ms/step - loss: 915.2329 - lr: 0.0010\n",
      "Epoch 90/500\n",
      "3125/3125 [==============================] - 4s 1ms/step - loss: 911.0941 - lr: 0.0010\n",
      "Epoch 91/500\n",
      "3125/3125 [==============================] - 4s 1ms/step - loss: 911.3239 - lr: 0.0010\n",
      "Epoch 92/500\n",
      "3125/3125 [==============================] - 5s 1ms/step - loss: 907.3210 - lr: 0.0010\n",
      "Epoch 93/500\n",
      "3125/3125 [==============================] - 5s 1ms/step - loss: 903.2295 - lr: 0.0010\n",
      "Epoch 94/500\n",
      "3125/3125 [==============================] - 5s 1ms/step - loss: 900.8326 - lr: 0.0010\n",
      "Epoch 95/500\n",
      "3125/3125 [==============================] - 5s 1ms/step - loss: 896.4723 - lr: 0.0010\n",
      "Epoch 96/500\n",
      "3125/3125 [==============================] - 4s 1ms/step - loss: 897.1503 - lr: 0.0010\n",
      "Epoch 97/500\n",
      "3125/3125 [==============================] - 4s 1ms/step - loss: 896.5501 - lr: 0.0010\n",
      "Epoch 98/500\n",
      "3125/3125 [==============================] - 4s 1ms/step - loss: 892.8857 - lr: 0.0010\n",
      "Epoch 99/500\n",
      "3125/3125 [==============================] - 4s 1ms/step - loss: 891.8818 - lr: 0.0010\n",
      "Epoch 100/500\n",
      "3125/3125 [==============================] - 5s 1ms/step - loss: 884.6771 - lr: 0.0010\n",
      "Epoch 101/500\n",
      "3125/3125 [==============================] - 5s 1ms/step - loss: 885.7181 - lr: 0.0010\n",
      "Epoch 102/500\n",
      "3125/3125 [==============================] - 5s 1ms/step - loss: 885.2139 - lr: 0.0010\n",
      "Epoch 103/500\n",
      "3125/3125 [==============================] - 5s 1ms/step - loss: 882.1513 - lr: 0.0010\n",
      "Epoch 104/500\n",
      "3125/3125 [==============================] - 5s 1ms/step - loss: 881.3057 - lr: 0.0010\n",
      "Epoch 105/500\n",
      "3125/3125 [==============================] - 4s 1ms/step - loss: 878.9273 - lr: 0.0010\n",
      "Epoch 106/500\n",
      "3125/3125 [==============================] - 5s 1ms/step - loss: 874.0607 - lr: 0.0010\n",
      "Epoch 107/500\n",
      "3125/3125 [==============================] - 4s 1ms/step - loss: 874.2742 - lr: 0.0010\n",
      "Epoch 108/500\n",
      "3125/3125 [==============================] - 5s 1ms/step - loss: 872.3707 - lr: 0.0010\n",
      "Epoch 109/500\n",
      "3125/3125 [==============================] - 5s 1ms/step - loss: 870.5495 - lr: 0.0010\n",
      "Epoch 110/500\n",
      "3125/3125 [==============================] - 4s 1ms/step - loss: 869.7941 - lr: 0.0010\n",
      "Epoch 111/500\n",
      "3125/3125 [==============================] - 5s 1ms/step - loss: 867.2820 - lr: 0.0010\n",
      "Epoch 112/500\n",
      "3125/3125 [==============================] - 4s 1ms/step - loss: 865.5662 - lr: 0.0010\n",
      "Epoch 113/500\n",
      "3125/3125 [==============================] - 4s 1ms/step - loss: 863.6779 - lr: 0.0010\n",
      "Epoch 114/500\n",
      "3125/3125 [==============================] - 4s 1ms/step - loss: 863.2768 - lr: 0.0010\n",
      "Epoch 115/500\n",
      "3125/3125 [==============================] - 5s 1ms/step - loss: 859.0909 - lr: 0.0010\n",
      "Epoch 116/500\n",
      "3125/3125 [==============================] - 4s 1ms/step - loss: 856.4962 - lr: 0.0010\n",
      "Epoch 117/500\n",
      "3125/3125 [==============================] - 5s 1ms/step - loss: 856.9199 - lr: 0.0010\n",
      "Epoch 118/500\n",
      "3125/3125 [==============================] - 4s 1ms/step - loss: 853.0938 - lr: 0.0010\n",
      "Epoch 119/500\n",
      "3125/3125 [==============================] - 4s 1ms/step - loss: 854.2604 - lr: 0.0010\n",
      "Epoch 120/500\n",
      "3125/3125 [==============================] - 4s 1ms/step - loss: 853.1320 - lr: 0.0010\n",
      "Epoch 121/500\n",
      "3125/3125 [==============================] - 5s 1ms/step - loss: 849.3146 - lr: 0.0010\n",
      "Epoch 122/500\n",
      "3125/3125 [==============================] - 5s 1ms/step - loss: 849.7709 - lr: 0.0010\n",
      "Epoch 123/500\n",
      "3125/3125 [==============================] - 4s 1ms/step - loss: 847.0936 - lr: 0.0010\n",
      "Epoch 124/500\n",
      "3125/3125 [==============================] - 4s 1ms/step - loss: 844.7162 - lr: 0.0010\n",
      "Epoch 125/500\n",
      "3125/3125 [==============================] - 4s 1ms/step - loss: 842.3973 - lr: 0.0010\n",
      "Epoch 126/500\n",
      "3125/3125 [==============================] - 5s 1ms/step - loss: 839.5919 - lr: 0.0010\n",
      "Epoch 127/500\n",
      "3125/3125 [==============================] - 4s 1ms/step - loss: 840.3290 - lr: 0.0010\n",
      "Epoch 128/500\n",
      "3125/3125 [==============================] - 5s 1ms/step - loss: 837.5635 - lr: 0.0010\n",
      "Epoch 129/500\n",
      "3125/3125 [==============================] - 4s 1ms/step - loss: 837.0118 - lr: 0.0010\n",
      "Epoch 130/500\n",
      "3125/3125 [==============================] - 4s 1ms/step - loss: 834.4337 - lr: 0.0010\n",
      "Epoch 131/500\n",
      "3125/3125 [==============================] - 4s 1ms/step - loss: 833.9508 - lr: 0.0010\n",
      "Epoch 132/500\n",
      "3125/3125 [==============================] - 5s 1ms/step - loss: 831.6229 - lr: 0.0010\n",
      "Epoch 133/500\n",
      "3125/3125 [==============================] - 5s 1ms/step - loss: 832.4280 - lr: 0.0010\n",
      "Epoch 134/500\n",
      "3125/3125 [==============================] - 4s 1ms/step - loss: 828.8105 - lr: 0.0010\n",
      "Epoch 135/500\n",
      "3125/3125 [==============================] - 4s 1ms/step - loss: 827.1780 - lr: 0.0010\n",
      "Epoch 136/500\n",
      "3125/3125 [==============================] - 4s 1ms/step - loss: 826.4841 - lr: 0.0010\n",
      "Epoch 137/500\n",
      "3125/3125 [==============================] - 4s 1ms/step - loss: 824.4293 - lr: 0.0010\n",
      "Epoch 138/500\n",
      "3125/3125 [==============================] - 4s 1ms/step - loss: 824.0237 - lr: 0.0010\n",
      "Epoch 139/500\n",
      "3125/3125 [==============================] - 4s 1ms/step - loss: 821.2475 - lr: 0.0010\n",
      "Epoch 140/500\n",
      "3125/3125 [==============================] - 5s 1ms/step - loss: 820.4124 - lr: 0.0010\n",
      "Epoch 141/500\n",
      "3125/3125 [==============================] - 4s 1ms/step - loss: 818.9800 - lr: 0.0010\n",
      "Epoch 142/500\n",
      "3125/3125 [==============================] - 4s 1ms/step - loss: 816.6268 - lr: 0.0010\n",
      "Epoch 143/500\n",
      "3125/3125 [==============================] - 4s 1ms/step - loss: 814.4658 - lr: 0.0010\n",
      "Epoch 144/500\n",
      "3125/3125 [==============================] - 5s 2ms/step - loss: 815.0681 - lr: 0.0010\n",
      "Epoch 145/500\n",
      "3125/3125 [==============================] - 5s 1ms/step - loss: 813.4727 - lr: 0.0010\n",
      "Epoch 146/500\n",
      "3125/3125 [==============================] - 5s 1ms/step - loss: 811.9921 - lr: 0.0010\n",
      "Epoch 147/500\n",
      "3125/3125 [==============================] - 5s 2ms/step - loss: 812.3064 - lr: 0.0010\n",
      "Epoch 148/500\n",
      "3125/3125 [==============================] - 5s 1ms/step - loss: 810.9503 - lr: 0.0010\n",
      "Epoch 149/500\n",
      "3125/3125 [==============================] - 5s 1ms/step - loss: 811.1879 - lr: 0.0010\n",
      "Epoch 150/500\n",
      "3125/3125 [==============================] - 4s 1ms/step - loss: 805.1378 - lr: 0.0010\n",
      "Epoch 151/500\n",
      "3125/3125 [==============================] - 4s 1ms/step - loss: 807.5914 - lr: 0.0010\n",
      "Epoch 152/500\n",
      "3125/3125 [==============================] - 4s 1ms/step - loss: 805.2595 - lr: 0.0010\n",
      "Epoch 153/500\n",
      "3125/3125 [==============================] - 4s 1ms/step - loss: 805.9558 - lr: 0.0010\n",
      "Epoch 154/500\n",
      "3125/3125 [==============================] - 4s 1ms/step - loss: 800.6556 - lr: 0.0010\n",
      "Epoch 155/500\n",
      "3125/3125 [==============================] - 4s 1ms/step - loss: 800.5549 - lr: 0.0010\n",
      "Epoch 156/500\n",
      "3125/3125 [==============================] - 4s 1ms/step - loss: 800.2717 - lr: 0.0010\n",
      "Epoch 157/500\n",
      "3125/3125 [==============================] - 4s 1ms/step - loss: 797.8240 - lr: 0.0010\n",
      "Epoch 158/500\n",
      "3125/3125 [==============================] - 4s 1ms/step - loss: 798.4506 - lr: 0.0010\n",
      "Epoch 159/500\n",
      "3125/3125 [==============================] - 5s 1ms/step - loss: 795.9496 - lr: 0.0010\n",
      "Epoch 160/500\n",
      "3125/3125 [==============================] - 4s 1ms/step - loss: 796.1971 - lr: 0.0010\n",
      "Epoch 161/500\n",
      "3125/3125 [==============================] - 4s 1ms/step - loss: 793.5978 - lr: 0.0010\n",
      "Epoch 162/500\n",
      "3125/3125 [==============================] - 4s 1ms/step - loss: 791.3448 - lr: 0.0010\n",
      "Epoch 163/500\n"
     ]
    },
    {
     "name": "stdout",
     "output_type": "stream",
     "text": [
      "3125/3125 [==============================] - 4s 1ms/step - loss: 791.4944 - lr: 0.0010\n",
      "Epoch 164/500\n",
      "3125/3125 [==============================] - 4s 1ms/step - loss: 789.5180 - lr: 0.0010\n",
      "Epoch 165/500\n",
      "3125/3125 [==============================] - 5s 1ms/step - loss: 788.0994 - lr: 0.0010\n",
      "Epoch 166/500\n",
      "3125/3125 [==============================] - 4s 1ms/step - loss: 787.1378 - lr: 0.0010\n",
      "Epoch 167/500\n",
      "3125/3125 [==============================] - 5s 1ms/step - loss: 787.4379 - lr: 0.0010\n",
      "Epoch 168/500\n",
      "3125/3125 [==============================] - 4s 1ms/step - loss: 783.0015 - lr: 0.0010\n",
      "Epoch 169/500\n",
      "3125/3125 [==============================] - 4s 1ms/step - loss: 785.4245 - lr: 0.0010\n",
      "Epoch 170/500\n",
      "3125/3125 [==============================] - 4s 1ms/step - loss: 785.1008 - lr: 0.0010\n",
      "Epoch 171/500\n",
      "3125/3125 [==============================] - 5s 1ms/step - loss: 782.6015 - lr: 0.0010\n",
      "Epoch 172/500\n",
      "3125/3125 [==============================] - 4s 1ms/step - loss: 782.3801 - lr: 0.0010\n",
      "Epoch 173/500\n",
      "3125/3125 [==============================] - 5s 1ms/step - loss: 780.2578 - lr: 0.0010\n",
      "Epoch 174/500\n",
      "3125/3125 [==============================] - 5s 1ms/step - loss: 781.0593 - lr: 0.0010\n",
      "Epoch 175/500\n",
      "3125/3125 [==============================] - 5s 1ms/step - loss: 779.0760 - lr: 0.0010\n",
      "Epoch 176/500\n",
      "3125/3125 [==============================] - 5s 1ms/step - loss: 777.2739 - lr: 0.0010\n",
      "Epoch 177/500\n",
      "3125/3125 [==============================] - 4s 1ms/step - loss: 775.2551 - lr: 0.0010\n",
      "Epoch 178/500\n",
      "3125/3125 [==============================] - 5s 1ms/step - loss: 774.1523 - lr: 0.0010\n",
      "Epoch 179/500\n",
      "3125/3125 [==============================] - 4s 1ms/step - loss: 772.8615 - lr: 0.0010\n",
      "Epoch 180/500\n",
      "3125/3125 [==============================] - 5s 1ms/step - loss: 774.6786 - lr: 0.0010\n",
      "Epoch 181/500\n",
      "3125/3125 [==============================] - 4s 1ms/step - loss: 769.7596 - lr: 0.0010\n",
      "Epoch 182/500\n",
      "3125/3125 [==============================] - 4s 1ms/step - loss: 771.9622 - lr: 0.0010\n",
      "Epoch 183/500\n",
      "3125/3125 [==============================] - 4s 1ms/step - loss: 768.2497 - lr: 0.0010\n",
      "Epoch 184/500\n",
      "3125/3125 [==============================] - 4s 1ms/step - loss: 768.6873 - lr: 0.0010\n",
      "Epoch 185/500\n",
      "3125/3125 [==============================] - 5s 1ms/step - loss: 768.3337 - lr: 0.0010\n",
      "Epoch 186/500\n",
      "3125/3125 [==============================] - 5s 1ms/step - loss: 765.7189 - lr: 0.0010\n",
      "Epoch 187/500\n",
      "3125/3125 [==============================] - 4s 1ms/step - loss: 767.4263 - lr: 0.0010\n",
      "Epoch 188/500\n",
      "3125/3125 [==============================] - 4s 1ms/step - loss: 764.6679 - lr: 0.0010\n",
      "Epoch 189/500\n",
      "3125/3125 [==============================] - 5s 1ms/step - loss: 766.0486 - lr: 0.0010\n",
      "Epoch 190/500\n",
      "3125/3125 [==============================] - 5s 1ms/step - loss: 761.6069 - lr: 0.0010\n",
      "Epoch 191/500\n",
      "3125/3125 [==============================] - 5s 1ms/step - loss: 758.7245 - lr: 0.0010\n",
      "Epoch 192/500\n",
      "3125/3125 [==============================] - 5s 1ms/step - loss: 762.0639 - lr: 0.0010\n",
      "Epoch 193/500\n",
      "3125/3125 [==============================] - 5s 1ms/step - loss: 762.0421 - lr: 0.0010\n",
      "Epoch 194/500\n",
      "3125/3125 [==============================] - 5s 2ms/step - loss: 759.3972 - lr: 0.0010\n",
      "Epoch 195/500\n",
      "3125/3125 [==============================] - 5s 1ms/step - loss: 758.7253 - lr: 0.0010\n",
      "Epoch 196/500\n",
      "3125/3125 [==============================] - 5s 1ms/step - loss: 758.5974 - lr: 0.0010\n",
      "Epoch 197/500\n",
      "3125/3125 [==============================] - 4s 1ms/step - loss: 757.0265 - lr: 0.0010\n",
      "Epoch 198/500\n",
      "3125/3125 [==============================] - 5s 1ms/step - loss: 755.2803 - lr: 0.0010\n",
      "Epoch 199/500\n",
      "3125/3125 [==============================] - 4s 1ms/step - loss: 753.8360 - lr: 0.0010\n",
      "Epoch 200/500\n",
      "3125/3125 [==============================] - 5s 1ms/step - loss: 754.1257 - lr: 0.0010\n",
      "Epoch 201/500\n",
      "3125/3125 [==============================] - 5s 1ms/step - loss: 754.8560 - lr: 9.9005e-04\n",
      "Epoch 202/500\n",
      "3125/3125 [==============================] - 5s 1ms/step - loss: 749.3931 - lr: 9.9005e-04\n",
      "Epoch 203/500\n",
      "3125/3125 [==============================] - 5s 1ms/step - loss: 748.8961 - lr: 9.9005e-04\n",
      "Epoch 204/500\n",
      " 571/3125 [====>.........................] - ETA: 4s - loss: 761.5162"
     ]
    }
   ],
   "source": [
    "callbacks = LearningRateScheduler(schedule)\n",
    "history = model.fit(train_X[:], \n",
    "                    train_y[:], \n",
    "                    epochs=500, \n",
    "                    callbacks=[callbacks]\n",
    ")"
   ]
  },
  {
   "cell_type": "code",
   "execution_count": 48,
   "metadata": {
    "colab": {
     "base_uri": "https://localhost:8080/",
     "height": 290
    },
    "executionInfo": {
     "elapsed": 654,
     "status": "ok",
     "timestamp": 1606742481402,
     "user": {
      "displayName": "Victor Gorchilov",
      "photoUrl": "https://lh3.googleusercontent.com/a-/AOh14GhVOO2f8bSU9D2WCOuhm9D6m40pljIpR5gmOLVhCA=s64",
      "userId": "15273504440532916403"
     },
     "user_tz": -120
    },
    "id": "3mrCTzAI3evR",
    "outputId": "ae0754ea-6aba-4aae-cec5-6881857b308b"
   },
   "outputs": [
    {
     "data": {
      "image/png": "[encoded data removed]",
      "text/plain": [
       "<Figure size 432x288 with 1 Axes>"
      ]
     },
     "metadata": {
      "needs_background": "light"
     },
     "output_type": "display_data"
    }
   ],
   "source": [
    "start = 0\n",
    "end = 500\n",
    "\n",
    "plt.xlabel('epoch')\n",
    "plt.ylabel('loss')\n",
    "plt.plot(range(start, end), history.history['loss'][start:end])\n",
    "plt.show()"
   ]
  },
  {
   "cell_type": "code",
   "execution_count": 49,
   "metadata": {
    "colab": {
     "base_uri": "https://localhost:8080/"
    },
    "executionInfo": {
     "elapsed": 2561,
     "status": "ok",
     "timestamp": 1606742540355,
     "user": {
      "displayName": "Victor Gorchilov",
      "photoUrl": "https://lh3.googleusercontent.com/a-/AOh14GhVOO2f8bSU9D2WCOuhm9D6m40pljIpR5gmOLVhCA=s64",
      "userId": "15273504440532916403"
     },
     "user_tz": -120
    },
    "id": "wv13nd4s3uUl",
    "outputId": "8fa37a18-a723-40f5-e1f1-b95450e1414d",
    "scrolled": true
   },
   "outputs": [
    {
     "name": "stdout",
     "output_type": "stream",
     "text": [
      "313/313 [==============================] - 0s 890us/step - loss: 2426.7693\n"
     ]
    },
    {
     "data": {
      "text/plain": [
       "2426.769287109375"
      ]
     },
     "execution_count": 49,
     "metadata": {},
     "output_type": "execute_result"
    }
   ],
   "source": [
    "model.evaluate(test_X[:], test_y[:])"
   ]
  },
  {
   "cell_type": "code",
   "execution_count": 50,
   "metadata": {
    "colab": {
     "base_uri": "https://localhost:8080/",
     "height": 136
    },
    "executionInfo": {
     "elapsed": 5151,
     "status": "ok",
     "timestamp": 1606742845793,
     "user": {
      "displayName": "Victor Gorchilov",
      "photoUrl": "https://lh3.googleusercontent.com/a-/AOh14GhVOO2f8bSU9D2WCOuhm9D6m40pljIpR5gmOLVhCA=s64",
      "userId": "15273504440532916403"
     },
     "user_tz": -120
    },
    "id": "6x3OW0KtUXVK",
    "outputId": "c02986bb-5c6c-4b93-d635-b85d3c10688c"
   },
   "outputs": [
    {
     "name": "stdout",
     "output_type": "stream",
     "text": [
      "WARNING:tensorflow:From /home/victorgorchilov/miniconda3/lib/python3.8/site-packages/tensorflow/python/ops/resource_variable_ops.py:1813: calling BaseResourceVariable.__init__ (from tensorflow.python.ops.resource_variable_ops) with constraint is deprecated and will be removed in a future version.\n",
      "Instructions for updating:\n",
      "If using Keras pass *_constraint arguments to layers.\n",
      "INFO:tensorflow:Assets written to: model/assets\n",
      "model/\n",
      "model/assets/\n",
      "model/variables/\n",
      "model/variables/variables.index\n",
      "model/variables/variables.data-00001-of-00002\n",
      "model/variables/variables.data-00000-of-00002\n",
      "model/saved_model.pb\n"
     ]
    }
   ],
   "source": [
    "model.save('model')\n",
    "\n",
    "!tar -zcvf model.tar.gz model"
   ]
  },
  {
   "cell_type": "code",
   "execution_count": null,
   "metadata": {},
   "outputs": [],
   "source": []
  }
 ],
 "metadata": {
  "colab": {
   "authorship_tag": "ABX9TyOGQ7MLOHDiwMXLC7oYcvTs",
   "collapsed_sections": [],
   "name": "lstm.ipynb",
   "provenance": []
  },
  "kernelspec": {
   "display_name": "Python 3",
   "language": "python",
   "name": "python3"
  },
  "language_info": {
   "codemirror_mode": {
    "name": "ipython",
    "version": 3
   },
   "file_extension": ".py",
   "mimetype": "text/x-python",
   "name": "python",
   "nbconvert_exporter": "python",
   "pygments_lexer": "ipython3",
   "version": "3.8.5"
  }
 },
 "nbformat": 4,
 "nbformat_minor": 1
}
