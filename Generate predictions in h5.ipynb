{
 "cells": [
  {
   "cell_type": "code",
   "execution_count": 1,
   "metadata": {},
   "outputs": [],
   "source": [
    "from evaluate import ROC\n",
    "from tensorflow.keras.models import load_model\n",
    "import numpy as np\n",
    "from h5py import File"
   ]
  },
  {
   "cell_type": "code",
   "execution_count": 8,
   "metadata": {},
   "outputs": [
    {
     "name": "stdout",
     "output_type": "stream",
     "text": [
      "/tmp/FOX_train.h5\r\n"
     ]
    }
   ],
   "source": [
    "!if ! ls /tmp/FOX_train.h5; \\\n",
    "    wget https://repo.gorchilov.net/datasets/fox-multi-factor.tar.gz -O /tmp/fox.tar.gz; \\\n",
    "    tar -xf /tmp/fox.tar.gz -C /tmp; \\\n",
    "    end\n",
    "\n",
    "train = File('/tmp/FOX_train.h5', mode='r')\n",
    "test = File('/tmp/FOX_test.h5', mode='r')"
   ]
  },
  {
   "cell_type": "code",
   "execution_count": 9,
   "metadata": {},
   "outputs": [
    {
     "data": {
      "text/plain": [
       "<HDF5 dataset \"train_predictions\": shape (100000, 31), type \"<f4\">"
      ]
     },
     "execution_count": 9,
     "metadata": {},
     "output_type": "execute_result"
    }
   ],
   "source": [
    "X_train = train['data'][:]\n",
    "y_train = train['labels'][:]\n",
    "\n",
    "X_test = test['data'][:]\n",
    "y_test = test['labels'][:]\n",
    "\n",
    "train.close()\n",
    "test.close()\n",
    "\n",
    "model = load_model('model_saves/lstm.h5')\n",
    "\n",
    "test_predictions = model.predict(X_test)\n",
    "train_predictions = model.predict(X_train)\n",
    "\n",
    "hdf5 = File('lstm_fox_predictions.h5', 'w')\n",
    "\n",
    "hdf5.create_dataset('test_predictions', data=test_predictions)\n",
    "hdf5.create_dataset('train_predictions', data=train_predictions)\n",
    "\n",
    "hdf5.close()"
   ]
  }
 ],
 "metadata": {
  "kernelspec": {
   "display_name": "Python 3",
   "language": "python",
   "name": "python3"
  },
  "language_info": {
   "codemirror_mode": {
    "name": "ipython",
    "version": 3
   },
   "file_extension": ".py",
   "mimetype": "text/x-python",
   "name": "python",
   "nbconvert_exporter": "python",
   "pygments_lexer": "ipython3",
   "version": "3.8.5"
  }
 },
 "nbformat": 4,
 "nbformat_minor": 4
}
