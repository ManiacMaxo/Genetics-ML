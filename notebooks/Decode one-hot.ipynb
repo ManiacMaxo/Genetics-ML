{
 "cells": [
  {
   "cell_type": "code",
   "execution_count": 17,
   "metadata": {},
   "outputs": [],
   "source": [
    "import numpy as np"
   ]
  },
  {
   "cell_type": "code",
   "execution_count": 41,
   "metadata": {},
   "outputs": [],
   "source": [
    "import h5py\n",
    "\n",
    "train = h5py.File('/tmp/train.h5', mode='r')\n",
    "X_train = train['data'][:]\n",
    "y_train = train['labels'][:]\n",
    "\n",
    "test = h5py.File('/tmp/test.h5', mode='r')\n",
    "X_test = test['data'][:]\n",
    "y_test = test['labels'][:]"
   ]
  },
  {
   "cell_type": "code",
   "execution_count": 44,
   "metadata": {},
   "outputs": [],
   "source": [
    "decoded = np.array(list(map(lambda x: np.argmax(x, axis=0), X_train)))"
   ]
  },
  {
   "cell_type": "code",
   "execution_count": 46,
   "metadata": {},
   "outputs": [],
   "source": [
    "with h5py.File('train.h5', 'w') as f:\n",
    "    f['data'] = decoded\n",
    "    f['labels'] = y_train"
   ]
  },
  {
   "cell_type": "code",
   "execution_count": 45,
   "metadata": {},
   "outputs": [],
   "source": [
    "decoded_test = np.array(list(map(lambda x: np.argmax(x, axis=0), X_test)))"
   ]
  },
  {
   "cell_type": "code",
   "execution_count": 47,
   "metadata": {},
   "outputs": [],
   "source": [
    "with h5py.File('test.h5', 'w') as f:\n",
    "    f['data'] = decoded_test\n",
    "    f['labels'] = y_test"
   ]
  },
  {
   "cell_type": "code",
   "execution_count": null,
   "metadata": {},
   "outputs": [],
   "source": []
  }
 ],
 "metadata": {
  "kernelspec": {
   "display_name": "Python 3",
   "language": "python",
   "name": "python3"
  },
  "language_info": {
   "codemirror_mode": {
    "name": "ipython",
    "version": 3
   },
   "file_extension": ".py",
   "mimetype": "text/x-python",
   "name": "python",
   "nbconvert_exporter": "python",
   "pygments_lexer": "ipython3",
   "version": "3.8.3"
  }
 },
 "nbformat": 4,
 "nbformat_minor": 4
}
