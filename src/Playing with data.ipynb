{
 "cells": [
  {
   "cell_type": "code",
   "execution_count": 1,
   "id": "clear-newport",
   "metadata": {
    "ExecuteTime": {
     "end_time": "2021-05-28T19:13:16.800227Z",
     "start_time": "2021-05-28T19:13:15.390616Z"
    }
   },
   "outputs": [],
   "source": [
    "from utils import load_dataset\n",
    "\n",
    "from tensorflow.keras.models import load_model"
   ]
  },
  {
   "cell_type": "code",
   "execution_count": 2,
   "id": "royal-wound",
   "metadata": {
    "ExecuteTime": {
     "end_time": "2021-05-28T19:13:19.022323Z",
     "start_time": "2021-05-28T19:13:16.801325Z"
    }
   },
   "outputs": [],
   "source": [
    "X_train, y_train, X_test, y_test = load_dataset(\"FOX_0.50\")"
   ]
  },
  {
   "cell_type": "code",
   "execution_count": 3,
   "id": "wanted-phoenix",
   "metadata": {
    "ExecuteTime": {
     "end_time": "2021-05-28T19:13:27.463166Z",
     "start_time": "2021-05-28T19:13:19.023710Z"
    }
   },
   "outputs": [],
   "source": [
    "model = load_model(\"../model_saves/final/conv-lstm_50.h5\")\n",
    "pred = model.predict(X_test)"
   ]
  },
  {
   "cell_type": "code",
   "execution_count": 9,
   "id": "cellular-sword",
   "metadata": {
    "ExecuteTime": {
     "end_time": "2021-05-28T19:13:59.376517Z",
     "start_time": "2021-05-28T19:13:59.373850Z"
    }
   },
   "outputs": [
    {
     "data": {
      "text/plain": [
       "array([0.   , 0.   , 0.   , 0.505, 0.   , 0.   , 0.   , 0.   , 0.   ],\n",
       "      dtype=float16)"
      ]
     },
     "execution_count": 9,
     "metadata": {},
     "output_type": "execute_result"
    }
   ],
   "source": [
    "y_test[3]"
   ]
  },
  {
   "cell_type": "code",
   "execution_count": null,
   "id": "mighty-controversy",
   "metadata": {
    "ExecuteTime": {
     "end_time": "2021-05-28T19:13:27.790651Z",
     "start_time": "2021-05-28T19:13:15.399Z"
    }
   },
   "outputs": [],
   "source": [
    "plot_roc(y_test, pred)"
   ]
  },
  {
   "cell_type": "code",
   "execution_count": null,
   "id": "treated-indiana",
   "metadata": {},
   "outputs": [],
   "source": []
  }
 ],
 "metadata": {
  "kernelspec": {
   "display_name": "Python 3",
   "language": "python",
   "name": "python3"
  },
  "language_info": {
   "codemirror_mode": {
    "name": "ipython",
    "version": 3
   },
   "file_extension": ".py",
   "mimetype": "text/x-python",
   "name": "python",
   "nbconvert_exporter": "python",
   "pygments_lexer": "ipython3",
   "version": "3.7.10"
  }
 },
 "nbformat": 4,
 "nbformat_minor": 5
}
