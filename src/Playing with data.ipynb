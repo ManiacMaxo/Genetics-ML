{
 "cells": [
  {
   "cell_type": "code",
   "execution_count": 1,
   "id": "clear-newport",
   "metadata": {
    "ExecuteTime": {
     "end_time": "2021-05-28T16:33:32.306192Z",
     "start_time": "2021-05-28T16:33:28.738384Z"
    }
   },
   "outputs": [],
   "source": [
    "from utils import load_dataset"
   ]
  },
  {
   "cell_type": "code",
   "execution_count": 2,
   "id": "royal-wound",
   "metadata": {
    "ExecuteTime": {
     "end_time": "2021-05-28T16:33:43.299152Z",
     "start_time": "2021-05-28T16:33:32.308305Z"
    }
   },
   "outputs": [
    {
     "name": "stdout",
     "output_type": "stream",
     "text": [
      "FOX_0.50.tar.gz: 82.3MB [00:02, 34.0MB/s]                  \n",
      "Extracted tarball\n"
     ]
    }
   ],
   "source": [
    "X_train, y_train, X_test, y_test = load_dataset(\"FOX_0.50\")"
   ]
  },
  {
   "cell_type": "code",
   "execution_count": 13,
   "id": "awful-festival",
   "metadata": {
    "ExecuteTime": {
     "end_time": "2021-05-28T16:50:14.700898Z",
     "start_time": "2021-05-28T16:50:14.696968Z"
    }
   },
   "outputs": [
    {
     "name": "stdout",
     "output_type": "stream",
     "text": [
      "[0 1 0 0]\n",
      "[0 0 0 1]\n",
      "[0 0 1 0]\n",
      "[0 1 0 0]\n",
      "[0 0 0 1]\n",
      "[0 0 0 1]\n",
      "[0 1 0 0]\n",
      "[0 0 0 1]\n",
      "[0 0 1 0]\n",
      "[0 0 1 0]\n",
      "[1 0 0 0]\n",
      "[0 0 1 0]\n",
      "[0 1 0 0]\n",
      "[0 0 0 1]\n",
      "[1 0 0 0]\n",
      "[0 0 1 0]\n",
      "[1 0 0 0]\n",
      "[0 0 1 0]\n",
      "[1 0 0 0]\n",
      "[1 0 0 0]\n"
     ]
    }
   ],
   "source": [
    "for x in X_train[0][:20]:\n",
    "    print(x)"
   ]
  },
  {
   "cell_type": "code",
   "execution_count": null,
   "id": "wanted-phoenix",
   "metadata": {},
   "outputs": [],
   "source": []
  }
 ],
 "metadata": {
  "kernelspec": {
   "display_name": "Python 3",
   "language": "python",
   "name": "python3"
  },
  "language_info": {
   "codemirror_mode": {
    "name": "ipython",
    "version": 3
   },
   "file_extension": ".py",
   "mimetype": "text/x-python",
   "name": "python",
   "nbconvert_exporter": "python",
   "pygments_lexer": "ipython3",
   "version": "3.7.10"
  }
 },
 "nbformat": 4,
 "nbformat_minor": 5
}
