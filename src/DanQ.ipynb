{
 "cells": [
  {
   "cell_type": "code",
   "execution_count": 1,
   "id": "involved-assist",
   "metadata": {
    "ExecuteTime": {
     "end_time": "2021-03-15T20:46:21.584907Z",
     "start_time": "2021-03-15T20:46:19.757279Z"
    }
   },
   "outputs": [
    {
     "data": {
      "application/javascript": [
       "\n",
       "            setTimeout(function() {\n",
       "                var nbb_cell_id = 1;\n",
       "                var nbb_unformatted_code = \"from tensorflow.keras.models import Sequential\\nfrom tensorflow.keras.layers import (\\n    Conv1D,\\n    MaxPooling1D,\\n    LSTM,\\n    Bidirectional,\\n    Dropout,\\n    Flatten,\\n    Dense,\\n    Input,\\n)\\nfrom tensorflow.keras.callbacks import EarlyStopping\\nfrom tensorflow.keras.optimizers import Adam\\nfrom tensorflow.keras.backend import clear_session\\n\\nfrom utils import load_dataset, train\\nfrom einops import rearrange\";\n",
       "                var nbb_formatted_code = \"from tensorflow.keras.models import Sequential\\nfrom tensorflow.keras.layers import (\\n    Conv1D,\\n    MaxPooling1D,\\n    LSTM,\\n    Bidirectional,\\n    Dropout,\\n    Flatten,\\n    Dense,\\n    Input,\\n)\\nfrom tensorflow.keras.callbacks import EarlyStopping\\nfrom tensorflow.keras.optimizers import Adam\\nfrom tensorflow.keras.backend import clear_session\\n\\nfrom utils import load_dataset, train\\nfrom einops import rearrange\";\n",
       "                var nbb_cells = Jupyter.notebook.get_cells();\n",
       "                for (var i = 0; i < nbb_cells.length; ++i) {\n",
       "                    if (nbb_cells[i].input_prompt_number == nbb_cell_id) {\n",
       "                        if (nbb_cells[i].get_text() == nbb_unformatted_code) {\n",
       "                             nbb_cells[i].set_text(nbb_formatted_code);\n",
       "                        }\n",
       "                        break;\n",
       "                    }\n",
       "                }\n",
       "            }, 500);\n",
       "            "
      ],
      "text/plain": [
       "<IPython.core.display.Javascript object>"
      ]
     },
     "metadata": {},
     "output_type": "display_data"
    }
   ],
   "source": [
    "from tensorflow.keras.models import Sequential\n",
    "from tensorflow.keras.layers import (\n",
    "    Conv1D,\n",
    "    MaxPooling1D,\n",
    "    LSTM,\n",
    "    Bidirectional,\n",
    "    Dropout,\n",
    "    Flatten,\n",
    "    Dense,\n",
    "    Input,\n",
    ")\n",
    "from tensorflow.keras.callbacks import EarlyStopping\n",
    "from tensorflow.keras.optimizers import Adam\n",
    "from tensorflow.keras.backend import clear_session\n",
    "\n",
    "from utils import load_dataset, train\n",
    "from einops import rearrange"
   ]
  },
  {
   "cell_type": "markdown",
   "id": "committed-subsection",
   "metadata": {},
   "source": [
    "[Reference](https://github.com/uci-cbcl/DanQ/blob/master/DanQ_train.py) "
   ]
  },
  {
   "cell_type": "code",
   "execution_count": 2,
   "id": "biological-utility",
   "metadata": {
    "ExecuteTime": {
     "end_time": "2021-03-15T20:46:21.635501Z",
     "start_time": "2021-03-15T20:46:21.587377Z"
    }
   },
   "outputs": [
    {
     "name": "stdout",
     "output_type": "stream",
     "text": [
      "[PhysicalDevice(name='/physical_device:GPU:0', device_type='GPU')]\n"
     ]
    },
    {
     "data": {
      "application/javascript": [
       "\n",
       "            setTimeout(function() {\n",
       "                var nbb_cell_id = 2;\n",
       "                var nbb_unformatted_code = \"from tensorflow.config import list_physical_devices\\n\\nprint(list_physical_devices(\\\"GPU\\\"))\";\n",
       "                var nbb_formatted_code = \"from tensorflow.config import list_physical_devices\\n\\nprint(list_physical_devices(\\\"GPU\\\"))\";\n",
       "                var nbb_cells = Jupyter.notebook.get_cells();\n",
       "                for (var i = 0; i < nbb_cells.length; ++i) {\n",
       "                    if (nbb_cells[i].input_prompt_number == nbb_cell_id) {\n",
       "                        if (nbb_cells[i].get_text() == nbb_unformatted_code) {\n",
       "                             nbb_cells[i].set_text(nbb_formatted_code);\n",
       "                        }\n",
       "                        break;\n",
       "                    }\n",
       "                }\n",
       "            }, 500);\n",
       "            "
      ],
      "text/plain": [
       "<IPython.core.display.Javascript object>"
      ]
     },
     "metadata": {},
     "output_type": "display_data"
    }
   ],
   "source": [
    "from tensorflow.config import list_physical_devices\n",
    "\n",
    "print(list_physical_devices(\"GPU\"))"
   ]
  },
  {
   "cell_type": "code",
   "execution_count": 3,
   "id": "split-shipping",
   "metadata": {
    "ExecuteTime": {
     "end_time": "2021-03-15T21:02:34.233655Z",
     "start_time": "2021-03-15T21:02:33.929730Z"
    }
   },
   "outputs": [
    {
     "data": {
      "application/javascript": [
       "\n",
       "            setTimeout(function() {\n",
       "                var nbb_cell_id = 3;\n",
       "                var nbb_unformatted_code = \"clear_session()\\nmodel = Sequential(\\n    [\\n        Input(shape=(1000, 4)),\\n        Conv1D(320, kernel_size=26, activation=\\\"relu\\\"),\\n        MaxPooling1D(pool_size=13, strides=13),\\n        Dropout(0.2),\\n        Bidirectional(LSTM(2, return_sequences=True)),\\n        Dropout(0.5),\\n        Flatten(),\\n        Dense(150 * 320, activation=\\\"relu\\\"),\\n        Dense(1, activation=\\\"relu\\\"),\\n    ]\\n)\";\n",
       "                var nbb_formatted_code = \"clear_session()\\nmodel = Sequential(\\n    [\\n        Input(shape=(1000, 4)),\\n        Conv1D(320, kernel_size=26, activation=\\\"relu\\\"),\\n        MaxPooling1D(pool_size=13, strides=13),\\n        Dropout(0.2),\\n        Bidirectional(LSTM(2, return_sequences=True)),\\n        Dropout(0.5),\\n        Flatten(),\\n        Dense(150 * 320, activation=\\\"relu\\\"),\\n        Dense(1, activation=\\\"relu\\\"),\\n    ]\\n)\";\n",
       "                var nbb_cells = Jupyter.notebook.get_cells();\n",
       "                for (var i = 0; i < nbb_cells.length; ++i) {\n",
       "                    if (nbb_cells[i].input_prompt_number == nbb_cell_id) {\n",
       "                        if (nbb_cells[i].get_text() == nbb_unformatted_code) {\n",
       "                             nbb_cells[i].set_text(nbb_formatted_code);\n",
       "                        }\n",
       "                        break;\n",
       "                    }\n",
       "                }\n",
       "            }, 500);\n",
       "            "
      ],
      "text/plain": [
       "<IPython.core.display.Javascript object>"
      ]
     },
     "metadata": {},
     "output_type": "display_data"
    }
   ],
   "source": [
    "clear_session()\n",
    "model = Sequential(\n",
    "    [\n",
    "        Input(shape=(1000, 4)),\n",
    "        Conv1D(320, kernel_size=26, activation=\"relu\"),\n",
    "        MaxPooling1D(pool_size=13, strides=13),\n",
    "        Dropout(0.2),\n",
    "        Bidirectional(LSTM(2, return_sequences=True)),\n",
    "        Dropout(0.5),\n",
    "        Flatten(),\n",
    "        Dense(150 * 320, activation=\"relu\"),\n",
    "        Dense(1, activation=\"relu\"),\n",
    "    ]\n",
    ")"
   ]
  },
  {
   "cell_type": "code",
   "execution_count": 4,
   "id": "thorough-scratch",
   "metadata": {
    "ExecuteTime": {
     "end_time": "2021-03-15T21:02:34.253414Z",
     "start_time": "2021-03-15T21:02:34.244482Z"
    },
    "scrolled": true
   },
   "outputs": [
    {
     "name": "stdout",
     "output_type": "stream",
     "text": [
      "Model: \"sequential\"\n",
      "_________________________________________________________________\n",
      "Layer (type)                 Output Shape              Param #   \n",
      "=================================================================\n",
      "conv1d (Conv1D)              (None, 975, 320)          33600     \n",
      "_________________________________________________________________\n",
      "max_pooling1d (MaxPooling1D) (None, 75, 320)           0         \n",
      "_________________________________________________________________\n",
      "dropout (Dropout)            (None, 75, 320)           0         \n",
      "_________________________________________________________________\n",
      "bidirectional (Bidirectional (None, 75, 4)             5168      \n",
      "_________________________________________________________________\n",
      "dropout_1 (Dropout)          (None, 75, 4)             0         \n",
      "_________________________________________________________________\n",
      "flatten (Flatten)            (None, 300)               0         \n",
      "_________________________________________________________________\n",
      "dense (Dense)                (None, 48000)             14448000  \n",
      "_________________________________________________________________\n",
      "dense_1 (Dense)              (None, 1)                 48001     \n",
      "=================================================================\n",
      "Total params: 14,534,769\n",
      "Trainable params: 14,534,769\n",
      "Non-trainable params: 0\n",
      "_________________________________________________________________\n"
     ]
    },
    {
     "data": {
      "application/javascript": [
       "\n",
       "            setTimeout(function() {\n",
       "                var nbb_cell_id = 4;\n",
       "                var nbb_unformatted_code = \"model.summary()\";\n",
       "                var nbb_formatted_code = \"model.summary()\";\n",
       "                var nbb_cells = Jupyter.notebook.get_cells();\n",
       "                for (var i = 0; i < nbb_cells.length; ++i) {\n",
       "                    if (nbb_cells[i].input_prompt_number == nbb_cell_id) {\n",
       "                        if (nbb_cells[i].get_text() == nbb_unformatted_code) {\n",
       "                             nbb_cells[i].set_text(nbb_formatted_code);\n",
       "                        }\n",
       "                        break;\n",
       "                    }\n",
       "                }\n",
       "            }, 500);\n",
       "            "
      ],
      "text/plain": [
       "<IPython.core.display.Javascript object>"
      ]
     },
     "metadata": {},
     "output_type": "display_data"
    }
   ],
   "source": [
    "model.summary()"
   ]
  },
  {
   "cell_type": "code",
   "execution_count": 5,
   "id": "challenging-hindu",
   "metadata": {
    "ExecuteTime": {
     "end_time": "2021-03-15T21:03:04.245049Z",
     "start_time": "2021-03-15T21:03:04.239089Z"
    }
   },
   "outputs": [
    {
     "data": {
      "application/javascript": [
       "\n",
       "            setTimeout(function() {\n",
       "                var nbb_cell_id = 5;\n",
       "                var nbb_unformatted_code = \"es = EarlyStopping(monitor=\\\"val_loss\\\", patience=10)\\noptimizer = Adam(lr=1e-3)\\n\\nepochs = 1000\\nvalidation_freq = 1\";\n",
       "                var nbb_formatted_code = \"es = EarlyStopping(monitor=\\\"val_loss\\\", patience=10)\\noptimizer = Adam(lr=1e-3)\\n\\nepochs = 1000\\nvalidation_freq = 1\";\n",
       "                var nbb_cells = Jupyter.notebook.get_cells();\n",
       "                for (var i = 0; i < nbb_cells.length; ++i) {\n",
       "                    if (nbb_cells[i].input_prompt_number == nbb_cell_id) {\n",
       "                        if (nbb_cells[i].get_text() == nbb_unformatted_code) {\n",
       "                             nbb_cells[i].set_text(nbb_formatted_code);\n",
       "                        }\n",
       "                        break;\n",
       "                    }\n",
       "                }\n",
       "            }, 500);\n",
       "            "
      ],
      "text/plain": [
       "<IPython.core.display.Javascript object>"
      ]
     },
     "metadata": {},
     "output_type": "display_data"
    }
   ],
   "source": [
    "es = EarlyStopping(monitor=\"val_loss\", patience=10)\n",
    "optimizer = Adam(lr=1e-3)\n",
    "\n",
    "epochs = 1000\n",
    "validation_freq = 1"
   ]
  },
  {
   "cell_type": "code",
   "execution_count": 6,
   "id": "induced-material",
   "metadata": {
    "ExecuteTime": {
     "end_time": "2021-03-15T21:07:28.762445Z",
     "start_time": "2021-03-15T21:03:05.657503Z"
    },
    "scrolled": true
   },
   "outputs": [
    {
     "name": "stdout",
     "output_type": "stream",
     "text": [
      "Epoch 1/1000\n",
      "1000/1000 [==============================] - 38s 36ms/step - loss: 1.6600 - acc: 0.8858 - val_loss: 2.3789 - val_acc: 0.8440\n",
      "Epoch 2/1000\n",
      "1000/1000 [==============================] - 35s 35ms/step - loss: 1.6309 - acc: 0.8931 - val_loss: 2.3789 - val_acc: 0.8440\n",
      "Epoch 3/1000\n",
      "1000/1000 [==============================] - 35s 35ms/step - loss: 1.6744 - acc: 0.8902 - val_loss: 2.3789 - val_acc: 0.8440 1.6766 -\n",
      "Epoch 4/1000\n",
      "1000/1000 [==============================] - 35s 35ms/step - loss: 1.6309 - acc: 0.8931 - val_loss: 2.3789 - val_acc: 0.8440loss: 1.6261 - acc: - ET - ETA: 3s - loss: - ETA: 1s - l\n",
      "Epoch 5/1000\n",
      "1000/1000 [==============================] - 35s 35ms/step - loss: 1.6408 - acc: 0.8924 - val_loss: 2.3789 - val_acc: 0.8440\n",
      "Epoch 6/1000\n",
      "1000/1000 [==============================] - 35s 35ms/step - loss: 1.6290 - acc: 0.8932 - val_loss: 2.3789 - val_acc: 0.8440\n",
      "Epoch 7/1000\n",
      "1000/1000 [==============================] - 35s 35ms/step - loss: 1.6561 - acc: 0.8914 - val_loss: 2.3789 - val_acc: 0.8440\n",
      "Epoch 8/1000\n",
      "1000/1000 [==============================] - 35s 35ms/step - loss: 1.6534 - acc: 0.8916 - val_loss: 2.3789 - val_acc: 0.8440 - loss: 1.6532 - acc: 0 - ETA: 3s - loss: 1.6531  - E\n",
      "Epoch 9/1000\n",
      "1000/1000 [==============================] - 35s 35ms/step - loss: 1.6273 - acc: 0.8933 - val_loss: 2.3789 - val_acc: 0.8440\n",
      "Epoch 10/1000\n",
      "1000/1000 [==============================] - 35s 35ms/step - loss: 1.6407 - acc: 0.8924 - val_loss: 2.3789 - val_acc: 0.8440\n",
      "Epoch 11/1000\n",
      "1000/1000 [==============================] - 35s 35ms/step - loss: 1.6786 - acc: 0.8899 - val_loss: 2.3789 - val_acc: 0.8440\n"
     ]
    },
    {
     "data": {
      "image/png": "[encoded data removed]",
      "text/plain": [
       "<Figure size 432x288 with 1 Axes>"
      ]
     },
     "metadata": {
      "needs_background": "light"
     },
     "output_type": "display_data"
    },
    {
     "name": "stdout",
     "output_type": "stream",
     "text": [
      "Training time: 6.49 minutes\n"
     ]
    },
    {
     "data": {
      "application/javascript": [
       "\n",
       "            setTimeout(function() {\n",
       "                var nbb_cell_id = 6;\n",
       "                var nbb_unformatted_code = \"X_train, y_train, X_test, y_test = load_dataset(\\n    file=f\\\"m0\\\",\\n    directory=\\\"/home/victor/Documents/datasets/\\\",\\n    labels=\\\"binlabels\\\",\\n    download=False,\\n)\\nX_train = rearrange(X_train, \\\"w h c -> w c h\\\")\\nX_test = rearrange(X_test, \\\"w h c -> w c h\\\")\\n\\nmodel.compile(\\n    optimizer=optimizer, loss=\\\"binary_crossentropy\\\", metrics=[\\\"acc\\\"],\\n)\\n\\nmodel = train(\\n    dataset=(X_train, y_train, X_test, y_test),\\n    model=model,\\n    epochs=epochs,\\n    verbose=1,\\n    validation_freq=validation_freq,\\n    callbacks=[es],\\n    batch_size=100,\\n)\";\n",
       "                var nbb_formatted_code = \"X_train, y_train, X_test, y_test = load_dataset(\\n    file=f\\\"m0\\\",\\n    directory=\\\"/home/victor/Documents/datasets/\\\",\\n    labels=\\\"binlabels\\\",\\n    download=False,\\n)\\nX_train = rearrange(X_train, \\\"w h c -> w c h\\\")\\nX_test = rearrange(X_test, \\\"w h c -> w c h\\\")\\n\\nmodel.compile(\\n    optimizer=optimizer, loss=\\\"binary_crossentropy\\\", metrics=[\\\"acc\\\"],\\n)\\n\\nmodel = train(\\n    dataset=(X_train, y_train, X_test, y_test),\\n    model=model,\\n    epochs=epochs,\\n    verbose=1,\\n    validation_freq=validation_freq,\\n    callbacks=[es],\\n    batch_size=100,\\n)\";\n",
       "                var nbb_cells = Jupyter.notebook.get_cells();\n",
       "                for (var i = 0; i < nbb_cells.length; ++i) {\n",
       "                    if (nbb_cells[i].input_prompt_number == nbb_cell_id) {\n",
       "                        if (nbb_cells[i].get_text() == nbb_unformatted_code) {\n",
       "                             nbb_cells[i].set_text(nbb_formatted_code);\n",
       "                        }\n",
       "                        break;\n",
       "                    }\n",
       "                }\n",
       "            }, 500);\n",
       "            "
      ],
      "text/plain": [
       "<IPython.core.display.Javascript object>"
      ]
     },
     "metadata": {},
     "output_type": "display_data"
    }
   ],
   "source": [
    "X_train, y_train, X_test, y_test = load_dataset(\n",
    "    file=f\"m0\",\n",
    "    directory=\"/home/victor/Documents/datasets/\",\n",
    "    labels=\"binlabels\",\n",
    "    download=False,\n",
    ")\n",
    "X_train = rearrange(X_train, \"w h c -> w c h\")\n",
    "X_test = rearrange(X_test, \"w h c -> w c h\")\n",
    "\n",
    "model.compile(\n",
    "    optimizer=optimizer, loss=\"binary_crossentropy\", metrics=[\"acc\"],\n",
    ")\n",
    "\n",
    "model = train(\n",
    "    dataset=(X_train, y_train, X_test, y_test),\n",
    "    model=model,\n",
    "    epochs=epochs,\n",
    "    verbose=1,\n",
    "    validation_freq=validation_freq,\n",
    "    callbacks=[es],\n",
    "    batch_size=100,\n",
    ")"
   ]
  },
  {
   "cell_type": "code",
   "execution_count": 7,
   "id": "japanese-publication",
   "metadata": {},
   "outputs": [
    {
     "data": {
      "application/javascript": [
       "\n",
       "            setTimeout(function() {\n",
       "                var nbb_cell_id = 7;\n",
       "                var nbb_unformatted_code = \"model.save(\\\"../model_saves/DanQ.h5\\\")\";\n",
       "                var nbb_formatted_code = \"model.save(\\\"../model_saves/DanQ.h5\\\")\";\n",
       "                var nbb_cells = Jupyter.notebook.get_cells();\n",
       "                for (var i = 0; i < nbb_cells.length; ++i) {\n",
       "                    if (nbb_cells[i].input_prompt_number == nbb_cell_id) {\n",
       "                        if (nbb_cells[i].get_text() == nbb_unformatted_code) {\n",
       "                             nbb_cells[i].set_text(nbb_formatted_code);\n",
       "                        }\n",
       "                        break;\n",
       "                    }\n",
       "                }\n",
       "            }, 500);\n",
       "            "
      ],
      "text/plain": [
       "<IPython.core.display.Javascript object>"
      ]
     },
     "metadata": {},
     "output_type": "display_data"
    }
   ],
   "source": [
    "model.save(\"../model_saves/DanQ.h5\")"
   ]
  },
  {
   "cell_type": "code",
   "execution_count": null,
   "id": "downtown-agent",
   "metadata": {},
   "outputs": [],
   "source": []
  }
 ],
 "metadata": {
  "kernelspec": {
   "display_name": "Python 3",
   "language": "python",
   "name": "python3"
  },
  "language_info": {
   "codemirror_mode": {
    "name": "ipython",
    "version": 3
   },
   "file_extension": ".py",
   "mimetype": "text/x-python",
   "name": "python",
   "nbconvert_exporter": "python",
   "pygments_lexer": "ipython3",
   "version": "3.7.10"
  }
 },
 "nbformat": 4,
 "nbformat_minor": 5
}