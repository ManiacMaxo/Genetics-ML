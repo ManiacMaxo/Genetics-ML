{
 "cells": [
  {
   "cell_type": "code",
   "execution_count": 1,
   "id": "involved-assist",
   "metadata": {
    "ExecuteTime": {
     "end_time": "2021-03-18T08:56:29.701274Z",
     "start_time": "2021-03-18T08:56:28.580239Z"
    }
   },
   "outputs": [
    {
     "data": {
      "application/javascript": [
       "\n",
       "            setTimeout(function() {\n",
       "                var nbb_cell_id = 1;\n",
       "                var nbb_unformatted_code = \"from tensorflow.keras.models import Sequential\\nfrom tensorflow.keras.layers import (\\n    Conv1D,\\n    MaxPooling1D,\\n    LSTM,\\n    Bidirectional,\\n    Dropout,\\n    Flatten,\\n    Dense,\\n    Input,\\n)\\nfrom tensorflow.keras.callbacks import EarlyStopping\\nfrom tensorflow.keras.optimizers import Adam\\nfrom tensorflow.keras.backend import clear_session\\n\\nfrom utils import load_dataset, train, plot_roc, auc\\nfrom einops import rearrange\\nimport matplotlib.pyplot as plt\";\n",
       "                var nbb_formatted_code = \"from tensorflow.keras.models import Sequential\\nfrom tensorflow.keras.layers import (\\n    Conv1D,\\n    MaxPooling1D,\\n    LSTM,\\n    Bidirectional,\\n    Dropout,\\n    Flatten,\\n    Dense,\\n    Input,\\n)\\nfrom tensorflow.keras.callbacks import EarlyStopping\\nfrom tensorflow.keras.optimizers import Adam\\nfrom tensorflow.keras.backend import clear_session\\n\\nfrom utils import load_dataset, train, plot_roc, auc\\nfrom einops import rearrange\\nimport matplotlib.pyplot as plt\";\n",
       "                var nbb_cells = Jupyter.notebook.get_cells();\n",
       "                for (var i = 0; i < nbb_cells.length; ++i) {\n",
       "                    if (nbb_cells[i].input_prompt_number == nbb_cell_id) {\n",
       "                        if (nbb_cells[i].get_text() == nbb_unformatted_code) {\n",
       "                             nbb_cells[i].set_text(nbb_formatted_code);\n",
       "                        }\n",
       "                        break;\n",
       "                    }\n",
       "                }\n",
       "            }, 500);\n",
       "            "
      ],
      "text/plain": [
       "<IPython.core.display.Javascript object>"
      ]
     },
     "metadata": {},
     "output_type": "display_data"
    }
   ],
   "source": [
    "from tensorflow.keras.models import Sequential\n",
    "from tensorflow.keras.layers import (\n",
    "    Conv1D,\n",
    "    MaxPooling1D,\n",
    "    LSTM,\n",
    "    Bidirectional,\n",
    "    Dropout,\n",
    "    Flatten,\n",
    "    Dense,\n",
    "    Input,\n",
    ")\n",
    "from tensorflow.keras.callbacks import EarlyStopping\n",
    "from tensorflow.keras.optimizers import Adam\n",
    "from tensorflow.keras.backend import clear_session\n",
    "\n",
    "from utils import load_dataset, train, plot_roc, auc\n",
    "from einops import rearrange\n",
    "import matplotlib.pyplot as plt"
   ]
  },
  {
   "cell_type": "markdown",
   "id": "committed-subsection",
   "metadata": {},
   "source": [
    "[Reference](https://github.com/uci-cbcl/DanQ/blob/master/DanQ_train.py) "
   ]
  },
  {
   "cell_type": "raw",
   "id": "thousand-tower",
   "metadata": {
    "ExecuteTime": {
     "end_time": "2021-03-18T08:47:55.775700Z",
     "start_time": "2021-03-18T08:47:55.350144Z"
    },
    "scrolled": false
   },
   "source": [
    "clear_session()\n",
    "model = Sequential(\n",
    "    [\n",
    "        Input((1000, 4)),\n",
    "        Conv1D(320, kernel_size=26, activation=\"relu\"),\n",
    "        MaxPooling1D(pool_size=13, strides=13),\n",
    "        Dropout(0.2),\n",
    "        Bidirectional(LSTM(320, return_sequences=True)),\n",
    "        Dropout(0.5),\n",
    "        Flatten(),\n",
    "        Dense(925, activation=\"relu\"),\n",
    "        Dense(1, activation=\"sigmoid\"),\n",
    "    ],\n",
    "    name=\"danq_full\",\n",
    ")\n",
    "# model.summary()"
   ]
  },
  {
   "cell_type": "code",
   "execution_count": 5,
   "id": "suffering-secretariat",
   "metadata": {
    "ExecuteTime": {
     "end_time": "2021-03-18T09:25:17.548987Z",
     "start_time": "2021-03-18T09:25:17.255228Z"
    }
   },
   "outputs": [
    {
     "name": "stdout",
     "output_type": "stream",
     "text": [
      "Model: \"danq_small\"\n",
      "_________________________________________________________________\n",
      "Layer (type)                 Output Shape              Param #   \n",
      "=================================================================\n",
      "conv1d (Conv1D)              (None, 975, 128)          13440     \n",
      "_________________________________________________________________\n",
      "max_pooling1d (MaxPooling1D) (None, 75, 128)           0         \n",
      "_________________________________________________________________\n",
      "dropout (Dropout)            (None, 75, 128)           0         \n",
      "_________________________________________________________________\n",
      "bidirectional (Bidirectional (None, 75, 256)           263168    \n",
      "_________________________________________________________________\n",
      "dropout_1 (Dropout)          (None, 75, 256)           0         \n",
      "_________________________________________________________________\n",
      "flatten (Flatten)            (None, 19200)             0         \n",
      "_________________________________________________________________\n",
      "dense (Dense)                (None, 925)               17760925  \n",
      "_________________________________________________________________\n",
      "dense_1 (Dense)              (None, 1)                 926       \n",
      "=================================================================\n",
      "Total params: 18,038,459\n",
      "Trainable params: 18,038,459\n",
      "Non-trainable params: 0\n",
      "_________________________________________________________________\n"
     ]
    },
    {
     "data": {
      "application/javascript": [
       "\n",
       "            setTimeout(function() {\n",
       "                var nbb_cell_id = 5;\n",
       "                var nbb_unformatted_code = \"clear_session()\\nmodel = Sequential(\\n    [\\n        Input((1000, 4)),\\n        Conv1D(128, kernel_size=26, activation=\\\"relu\\\"),\\n        MaxPooling1D(pool_size=13, strides=13),\\n        Dropout(0.2),\\n        Bidirectional(LSTM(128, return_sequences=True)),\\n        Dropout(0.5),\\n        Flatten(),\\n        Dense(925, activation=\\\"relu\\\"),\\n        Dense(1, activation=\\\"sigmoid\\\"),\\n    ],\\n    name=\\\"danq_small\\\",\\n)\\nmodel.summary()\";\n",
       "                var nbb_formatted_code = \"clear_session()\\nmodel = Sequential(\\n    [\\n        Input((1000, 4)),\\n        Conv1D(128, kernel_size=26, activation=\\\"relu\\\"),\\n        MaxPooling1D(pool_size=13, strides=13),\\n        Dropout(0.2),\\n        Bidirectional(LSTM(128, return_sequences=True)),\\n        Dropout(0.5),\\n        Flatten(),\\n        Dense(925, activation=\\\"relu\\\"),\\n        Dense(1, activation=\\\"sigmoid\\\"),\\n    ],\\n    name=\\\"danq_small\\\",\\n)\\nmodel.summary()\";\n",
       "                var nbb_cells = Jupyter.notebook.get_cells();\n",
       "                for (var i = 0; i < nbb_cells.length; ++i) {\n",
       "                    if (nbb_cells[i].input_prompt_number == nbb_cell_id) {\n",
       "                        if (nbb_cells[i].get_text() == nbb_unformatted_code) {\n",
       "                             nbb_cells[i].set_text(nbb_formatted_code);\n",
       "                        }\n",
       "                        break;\n",
       "                    }\n",
       "                }\n",
       "            }, 500);\n",
       "            "
      ],
      "text/plain": [
       "<IPython.core.display.Javascript object>"
      ]
     },
     "metadata": {},
     "output_type": "display_data"
    }
   ],
   "source": [
    "clear_session()\n",
    "model = Sequential(\n",
    "    [\n",
    "        Input((1000, 4)),\n",
    "        Conv1D(128, kernel_size=26, activation=\"relu\"),\n",
    "        MaxPooling1D(pool_size=13, strides=13),\n",
    "        Dropout(0.2),\n",
    "        Bidirectional(LSTM(128, return_sequences=True)),\n",
    "        Dropout(0.5),\n",
    "        Flatten(),\n",
    "        Dense(925, activation=\"relu\"),\n",
    "        Dense(1, activation=\"sigmoid\"),\n",
    "    ],\n",
    "    name=\"danq_small\",\n",
    ")\n",
    "model.summary()"
   ]
  },
  {
   "cell_type": "code",
   "execution_count": 6,
   "id": "challenging-hindu",
   "metadata": {
    "ExecuteTime": {
     "end_time": "2021-03-18T09:25:17.593090Z",
     "start_time": "2021-03-18T09:25:17.587635Z"
    }
   },
   "outputs": [
    {
     "data": {
      "application/javascript": [
       "\n",
       "            setTimeout(function() {\n",
       "                var nbb_cell_id = 6;\n",
       "                var nbb_unformatted_code = \"es = EarlyStopping(monitor=\\\"val_loss\\\", patience=30)\\noptimizer = Adam(lr=1e-4)\\n\\nepochs = 1000\\nvalidation_freq = 1\\nn = 2\\nfile = f\\\"MA0035_{n}000\\\"\";\n",
       "                var nbb_formatted_code = \"es = EarlyStopping(monitor=\\\"val_loss\\\", patience=30)\\noptimizer = Adam(lr=1e-4)\\n\\nepochs = 1000\\nvalidation_freq = 1\\nn = 2\\nfile = f\\\"MA0035_{n}000\\\"\";\n",
       "                var nbb_cells = Jupyter.notebook.get_cells();\n",
       "                for (var i = 0; i < nbb_cells.length; ++i) {\n",
       "                    if (nbb_cells[i].input_prompt_number == nbb_cell_id) {\n",
       "                        if (nbb_cells[i].get_text() == nbb_unformatted_code) {\n",
       "                             nbb_cells[i].set_text(nbb_formatted_code);\n",
       "                        }\n",
       "                        break;\n",
       "                    }\n",
       "                }\n",
       "            }, 500);\n",
       "            "
      ],
      "text/plain": [
       "<IPython.core.display.Javascript object>"
      ]
     },
     "metadata": {},
     "output_type": "display_data"
    }
   ],
   "source": [
    "es = EarlyStopping(monitor=\"val_loss\", patience=30)\n",
    "optimizer = Adam(lr=1e-4)\n",
    "\n",
    "epochs = 1000\n",
    "validation_freq = 1\n",
    "n = 2\n",
    "file = f\"MA0035_{n}000\""
   ]
  },
  {
   "cell_type": "code",
   "execution_count": 7,
   "id": "occasional-attention",
   "metadata": {
    "ExecuteTime": {
     "end_time": "2021-03-18T09:54:02.854793Z",
     "start_time": "2021-03-18T09:25:18.027076Z"
    },
    "scrolled": true
   },
   "outputs": [
    {
     "name": "stdout",
     "output_type": "stream",
     "text": [
      "Epoch 1/1000\n",
      "3125/3125 - 44s - loss: 0.6942 - acc: 0.5029 - val_loss: 0.6914 - val_acc: 0.5352\n",
      "Epoch 2/1000\n",
      "3125/3125 - 43s - loss: 0.6673 - acc: 0.5716 - val_loss: 0.4197 - val_acc: 0.8278\n",
      "Epoch 3/1000\n",
      "3125/3125 - 42s - loss: 0.2243 - acc: 0.9224 - val_loss: 0.1588 - val_acc: 0.9507\n",
      "Epoch 4/1000\n",
      "3125/3125 - 42s - loss: 0.1693 - acc: 0.9463 - val_loss: 0.1530 - val_acc: 0.9530\n",
      "Epoch 5/1000\n",
      "3125/3125 - 42s - loss: 0.1624 - acc: 0.9487 - val_loss: 0.1595 - val_acc: 0.9500\n",
      "Epoch 6/1000\n",
      "3125/3125 - 41s - loss: 0.1588 - acc: 0.9502 - val_loss: 0.1562 - val_acc: 0.9520\n",
      "Epoch 7/1000\n",
      "3125/3125 - 42s - loss: 0.1565 - acc: 0.9512 - val_loss: 0.1491 - val_acc: 0.9534\n",
      "Epoch 8/1000\n",
      "3125/3125 - 42s - loss: 0.1545 - acc: 0.9512 - val_loss: 0.1491 - val_acc: 0.9544\n",
      "Epoch 9/1000\n",
      "3125/3125 - 42s - loss: 0.1532 - acc: 0.9520 - val_loss: 0.1505 - val_acc: 0.9541\n",
      "Epoch 10/1000\n",
      "3125/3125 - 42s - loss: 0.1515 - acc: 0.9525 - val_loss: 0.1497 - val_acc: 0.9542\n",
      "Epoch 11/1000\n",
      "3125/3125 - 42s - loss: 0.1499 - acc: 0.9531 - val_loss: 0.1489 - val_acc: 0.9548\n",
      "Epoch 12/1000\n",
      "3125/3125 - 43s - loss: 0.1470 - acc: 0.9537 - val_loss: 0.1529 - val_acc: 0.9532\n",
      "Epoch 13/1000\n",
      "3125/3125 - 42s - loss: 0.1447 - acc: 0.9541 - val_loss: 0.1545 - val_acc: 0.9526\n",
      "Epoch 14/1000\n",
      "3125/3125 - 42s - loss: 0.1402 - acc: 0.9552 - val_loss: 0.1698 - val_acc: 0.9497\n",
      "Epoch 15/1000\n",
      "3125/3125 - 41s - loss: 0.1382 - acc: 0.9560 - val_loss: 0.1612 - val_acc: 0.9535\n",
      "Epoch 16/1000\n",
      "3125/3125 - 42s - loss: 0.1351 - acc: 0.9567 - val_loss: 0.1615 - val_acc: 0.9512\n",
      "Epoch 17/1000\n",
      "3125/3125 - 42s - loss: 0.1317 - acc: 0.9572 - val_loss: 0.1640 - val_acc: 0.9526\n",
      "Epoch 18/1000\n",
      "3125/3125 - 42s - loss: 0.1290 - acc: 0.9579 - val_loss: 0.1656 - val_acc: 0.9531\n",
      "Epoch 19/1000\n",
      "3125/3125 - 42s - loss: 0.1265 - acc: 0.9587 - val_loss: 0.1719 - val_acc: 0.9513\n",
      "Epoch 20/1000\n",
      "3125/3125 - 42s - loss: 0.1244 - acc: 0.9592 - val_loss: 0.1748 - val_acc: 0.9504\n",
      "Epoch 21/1000\n",
      "3125/3125 - 42s - loss: 0.1202 - acc: 0.9601 - val_loss: 0.1802 - val_acc: 0.9501\n",
      "Epoch 22/1000\n",
      "3125/3125 - 42s - loss: 0.1184 - acc: 0.9603 - val_loss: 0.1770 - val_acc: 0.9492\n",
      "Epoch 23/1000\n",
      "3125/3125 - 42s - loss: 0.1161 - acc: 0.9608 - val_loss: 0.1836 - val_acc: 0.9503\n",
      "Epoch 24/1000\n",
      "3125/3125 - 41s - loss: 0.1132 - acc: 0.9620 - val_loss: 0.1833 - val_acc: 0.9493\n",
      "Epoch 25/1000\n",
      "3125/3125 - 43s - loss: 0.1106 - acc: 0.9624 - val_loss: 0.1899 - val_acc: 0.9496\n",
      "Epoch 26/1000\n",
      "3125/3125 - 41s - loss: 0.1080 - acc: 0.9629 - val_loss: 0.2000 - val_acc: 0.9504\n",
      "Epoch 27/1000\n",
      "3125/3125 - 42s - loss: 0.1043 - acc: 0.9645 - val_loss: 0.1922 - val_acc: 0.9506\n",
      "Epoch 28/1000\n",
      "3125/3125 - 41s - loss: 0.1025 - acc: 0.9645 - val_loss: 0.2013 - val_acc: 0.9503\n",
      "Epoch 29/1000\n",
      "3125/3125 - 42s - loss: 0.1001 - acc: 0.9648 - val_loss: 0.1973 - val_acc: 0.9481\n",
      "Epoch 30/1000\n",
      "3125/3125 - 42s - loss: 0.0977 - acc: 0.9653 - val_loss: 0.2039 - val_acc: 0.9493\n",
      "Epoch 31/1000\n",
      "3125/3125 - 42s - loss: 0.0940 - acc: 0.9664 - val_loss: 0.2044 - val_acc: 0.9497\n",
      "Epoch 32/1000\n",
      "3125/3125 - 42s - loss: 0.0917 - acc: 0.9673 - val_loss: 0.2073 - val_acc: 0.9476\n",
      "Epoch 33/1000\n",
      "3125/3125 - 42s - loss: 0.0895 - acc: 0.9676 - val_loss: 0.2082 - val_acc: 0.9433\n",
      "Epoch 34/1000\n",
      "3125/3125 - 42s - loss: 0.0865 - acc: 0.9682 - val_loss: 0.2228 - val_acc: 0.9485\n",
      "Epoch 35/1000\n",
      "3125/3125 - 42s - loss: 0.0837 - acc: 0.9692 - val_loss: 0.2196 - val_acc: 0.9479\n",
      "Epoch 36/1000\n",
      "3125/3125 - 43s - loss: 0.0819 - acc: 0.9693 - val_loss: 0.2259 - val_acc: 0.9484\n",
      "Epoch 37/1000\n",
      "3125/3125 - 42s - loss: 0.0786 - acc: 0.9705 - val_loss: 0.2310 - val_acc: 0.9491\n",
      "Epoch 38/1000\n",
      "3125/3125 - 41s - loss: 0.0760 - acc: 0.9717 - val_loss: 0.2397 - val_acc: 0.9480\n",
      "Epoch 39/1000\n",
      "3125/3125 - 42s - loss: 0.0728 - acc: 0.9727 - val_loss: 0.2200 - val_acc: 0.9452\n",
      "Epoch 40/1000\n",
      "3125/3125 - 41s - loss: 0.0686 - acc: 0.9740 - val_loss: 0.2385 - val_acc: 0.9440\n",
      "Epoch 41/1000\n",
      "3125/3125 - 42s - loss: 0.0671 - acc: 0.9748 - val_loss: 0.2358 - val_acc: 0.9431\n"
     ]
    },
    {
     "data": {
      "image/png": "[encoded data removed]",
      "text/plain": [
       "<Figure size 432x288 with 1 Axes>"
      ]
     },
     "metadata": {
      "needs_background": "light"
     },
     "output_type": "display_data"
    },
    {
     "name": "stdout",
     "output_type": "stream",
     "text": [
      "Training time: 28.69 minutes\n"
     ]
    },
    {
     "data": {
      "image/png": "[encoded data removed]",
      "text/plain": [
       "<Figure size 432x288 with 1 Axes>"
      ]
     },
     "metadata": {
      "needs_background": "light"
     },
     "output_type": "display_data"
    },
    {
     "name": "stdout",
     "output_type": "stream",
     "text": [
      "0.9621635799999999\n"
     ]
    },
    {
     "data": {
      "application/javascript": [
       "\n",
       "            setTimeout(function() {\n",
       "                var nbb_cell_id = 7;\n",
       "                var nbb_unformatted_code = \"X_train, y_train, X_test, y_test = load_dataset(file=file, labels=\\\"binlabels\\\",)\\nX_train = rearrange(X_train, \\\"w h c -> w c h\\\")\\nX_test = rearrange(X_test, \\\"w h c -> w c h\\\")\\n\\nmodel.compile(\\n    optimizer=optimizer, loss=\\\"binary_crossentropy\\\", metrics=[\\\"acc\\\"],\\n)\\n\\nmodel = train(\\n    dataset=(X_train, y_train, X_test, y_test),\\n    model=model,\\n    epochs=epochs,\\n    verbose=2,\\n    validation_freq=validation_freq,\\n    callbacks=[es],\\n)\\n\\ny_pred = model.predict(X_test)\\nplot_roc(y_test, y_pred)\\nprint(auc(y_test, y_pred))\";\n",
       "                var nbb_formatted_code = \"X_train, y_train, X_test, y_test = load_dataset(file=file, labels=\\\"binlabels\\\",)\\nX_train = rearrange(X_train, \\\"w h c -> w c h\\\")\\nX_test = rearrange(X_test, \\\"w h c -> w c h\\\")\\n\\nmodel.compile(\\n    optimizer=optimizer, loss=\\\"binary_crossentropy\\\", metrics=[\\\"acc\\\"],\\n)\\n\\nmodel = train(\\n    dataset=(X_train, y_train, X_test, y_test),\\n    model=model,\\n    epochs=epochs,\\n    verbose=2,\\n    validation_freq=validation_freq,\\n    callbacks=[es],\\n)\\n\\ny_pred = model.predict(X_test)\\nplot_roc(y_test, y_pred)\\nprint(auc(y_test, y_pred))\";\n",
       "                var nbb_cells = Jupyter.notebook.get_cells();\n",
       "                for (var i = 0; i < nbb_cells.length; ++i) {\n",
       "                    if (nbb_cells[i].input_prompt_number == nbb_cell_id) {\n",
       "                        if (nbb_cells[i].get_text() == nbb_unformatted_code) {\n",
       "                             nbb_cells[i].set_text(nbb_formatted_code);\n",
       "                        }\n",
       "                        break;\n",
       "                    }\n",
       "                }\n",
       "            }, 500);\n",
       "            "
      ],
      "text/plain": [
       "<IPython.core.display.Javascript object>"
      ]
     },
     "metadata": {},
     "output_type": "display_data"
    }
   ],
   "source": [
    "X_train, y_train, X_test, y_test = load_dataset(file=file, labels=\"binlabels\",)\n",
    "X_train = rearrange(X_train, \"w h c -> w c h\")\n",
    "X_test = rearrange(X_test, \"w h c -> w c h\")\n",
    "\n",
    "model.compile(\n",
    "    optimizer=optimizer, loss=\"binary_crossentropy\", metrics=[\"acc\"],\n",
    ")\n",
    "\n",
    "model = train(\n",
    "    dataset=(X_train, y_train, X_test, y_test),\n",
    "    model=model,\n",
    "    epochs=epochs,\n",
    "    verbose=2,\n",
    "    validation_freq=validation_freq,\n",
    "    callbacks=[es],\n",
    ")\n",
    "\n",
    "y_pred = model.predict(X_test)\n",
    "plot_roc(y_test, y_pred)\n",
    "print(auc(y_test, y_pred))"
   ]
  },
  {
   "cell_type": "code",
   "execution_count": 9,
   "id": "expanded-evening",
   "metadata": {
    "ExecuteTime": {
     "end_time": "2021-03-18T10:03:14.756908Z",
     "start_time": "2021-03-18T10:03:14.320923Z"
    },
    "scrolled": true
   },
   "outputs": [
    {
     "data": {
      "application/javascript": [
       "\n",
       "            setTimeout(function() {\n",
       "                var nbb_cell_id = 9;\n",
       "                var nbb_unformatted_code = \"model.save(f\\\"../model_saves/evals/{model.name}-{n}000.h5\\\")\";\n",
       "                var nbb_formatted_code = \"model.save(f\\\"../model_saves/evals/{model.name}-{n}000.h5\\\")\";\n",
       "                var nbb_cells = Jupyter.notebook.get_cells();\n",
       "                for (var i = 0; i < nbb_cells.length; ++i) {\n",
       "                    if (nbb_cells[i].input_prompt_number == nbb_cell_id) {\n",
       "                        if (nbb_cells[i].get_text() == nbb_unformatted_code) {\n",
       "                             nbb_cells[i].set_text(nbb_formatted_code);\n",
       "                        }\n",
       "                        break;\n",
       "                    }\n",
       "                }\n",
       "            }, 500);\n",
       "            "
      ],
      "text/plain": [
       "<IPython.core.display.Javascript object>"
      ]
     },
     "metadata": {},
     "output_type": "display_data"
    }
   ],
   "source": [
    "model.save(f\"../model_saves/evals/{model.name}-{n}000.h5\")"
   ]
  },
  {
   "cell_type": "code",
   "execution_count": 8,
   "id": "burning-appliance",
   "metadata": {
    "ExecuteTime": {
     "end_time": "2021-03-18T10:02:29.888744Z",
     "start_time": "2021-03-18T10:02:15.329349Z"
    },
    "scrolled": true
   },
   "outputs": [
    {
     "name": "stdout",
     "output_type": "stream",
     "text": [
      "------------------MA0035_1000------------------\n"
     ]
    },
    {
     "data": {
      "image/png": "[encoded data removed]",
      "text/plain": [
       "<Figure size 432x288 with 1 Axes>"
      ]
     },
     "metadata": {
      "needs_background": "light"
     },
     "output_type": "display_data"
    },
    {
     "name": "stdout",
     "output_type": "stream",
     "text": [
      "0.93929602\n",
      "------------------MA0035_2000------------------\n"
     ]
    },
    {
     "data": {
      "image/png": "[encoded data removed]",
      "text/plain": [
       "<Figure size 432x288 with 1 Axes>"
      ]
     },
     "metadata": {
      "needs_background": "light"
     },
     "output_type": "display_data"
    },
    {
     "name": "stdout",
     "output_type": "stream",
     "text": [
      "0.9621635799999999\n",
      "------------------MA0035_3000------------------\n"
     ]
    },
    {
     "data": {
      "image/png": "[encoded data removed]",
      "text/plain": [
       "<Figure size 432x288 with 1 Axes>"
      ]
     },
     "metadata": {
      "needs_background": "light"
     },
     "output_type": "display_data"
    },
    {
     "name": "stdout",
     "output_type": "stream",
     "text": [
      "0.9620450799999999\n",
      "------------------MA0035_5000------------------\n"
     ]
    },
    {
     "data": {
      "image/png": "[encoded data removed]",
      "text/plain": [
       "<Figure size 432x288 with 1 Axes>"
      ]
     },
     "metadata": {
      "needs_background": "light"
     },
     "output_type": "display_data"
    },
    {
     "name": "stdout",
     "output_type": "stream",
     "text": [
      "0.96753608\n",
      "------------------MA0035_10000------------------\n"
     ]
    },
    {
     "data": {
      "image/png": "[encoded data removed]",
      "text/plain": [
       "<Figure size 432x288 with 1 Axes>"
      ]
     },
     "metadata": {
      "needs_background": "light"
     },
     "output_type": "display_data"
    },
    {
     "name": "stdout",
     "output_type": "stream",
     "text": [
      "0.9678935599999999\n"
     ]
    },
    {
     "data": {
      "application/javascript": [
       "\n",
       "            setTimeout(function() {\n",
       "                var nbb_cell_id = 8;\n",
       "                var nbb_unformatted_code = \"for i in [1, 2, 3, 5, 10]:\\n    file = f\\\"MA0035_{i}000\\\"\\n    print(f\\\"------------------{file}------------------\\\")\\n    X_train, y_train, X_test, y_test = load_dataset(file=file, labels=\\\"binlabels\\\",)\\n    X_train = rearrange(X_train, \\\"w h c -> w c h\\\")\\n    X_test = rearrange(X_test, \\\"w h c -> w c h\\\")\\n    y_pred = model.predict(X_test)\\n    plot_roc(y_test, y_pred)\\n    print(auc(y_test, y_pred))\";\n",
       "                var nbb_formatted_code = \"for i in [1, 2, 3, 5, 10]:\\n    file = f\\\"MA0035_{i}000\\\"\\n    print(f\\\"------------------{file}------------------\\\")\\n    X_train, y_train, X_test, y_test = load_dataset(file=file, labels=\\\"binlabels\\\",)\\n    X_train = rearrange(X_train, \\\"w h c -> w c h\\\")\\n    X_test = rearrange(X_test, \\\"w h c -> w c h\\\")\\n    y_pred = model.predict(X_test)\\n    plot_roc(y_test, y_pred)\\n    print(auc(y_test, y_pred))\";\n",
       "                var nbb_cells = Jupyter.notebook.get_cells();\n",
       "                for (var i = 0; i < nbb_cells.length; ++i) {\n",
       "                    if (nbb_cells[i].input_prompt_number == nbb_cell_id) {\n",
       "                        if (nbb_cells[i].get_text() == nbb_unformatted_code) {\n",
       "                             nbb_cells[i].set_text(nbb_formatted_code);\n",
       "                        }\n",
       "                        break;\n",
       "                    }\n",
       "                }\n",
       "            }, 500);\n",
       "            "
      ],
      "text/plain": [
       "<IPython.core.display.Javascript object>"
      ]
     },
     "metadata": {},
     "output_type": "display_data"
    }
   ],
   "source": [
    "for i in [1, 2, 3, 5, 10]:\n",
    "    file = f\"MA0035_{i}000\"\n",
    "    print(f\"------------------{file}------------------\")\n",
    "    X_train, y_train, X_test, y_test = load_dataset(file=file, labels=\"binlabels\",)\n",
    "    X_train = rearrange(X_train, \"w h c -> w c h\")\n",
    "    X_test = rearrange(X_test, \"w h c -> w c h\")\n",
    "    y_pred = model.predict(X_test)\n",
    "    plot_roc(y_test, y_pred)\n",
    "    print(auc(y_test, y_pred))"
   ]
  },
  {
   "cell_type": "code",
   "execution_count": null,
   "id": "equivalent-brown",
   "metadata": {},
   "outputs": [],
   "source": []
  }
 ],
 "metadata": {
  "kernelspec": {
   "display_name": "Python 3",
   "language": "python",
   "name": "python3"
  },
  "language_info": {
   "codemirror_mode": {
    "name": "ipython",
    "version": 3
   },
   "file_extension": ".py",
   "mimetype": "text/x-python",
   "name": "python",
   "nbconvert_exporter": "python",
   "pygments_lexer": "ipython3",
   "version": "3.7.10"
  }
 },
 "nbformat": 4,
 "nbformat_minor": 5
}
