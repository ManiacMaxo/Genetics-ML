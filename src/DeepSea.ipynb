{
 "cells": [
  {
   "cell_type": "code",
   "execution_count": 1,
   "id": "involved-assist",
   "metadata": {
    "ExecuteTime": {
     "end_time": "2021-04-15T15:59:35.101571Z",
     "start_time": "2021-04-15T15:59:34.009847Z"
    }
   },
   "outputs": [],
   "source": [
    "from tensorflow.keras.models import Sequential\n",
    "from tensorflow.keras.layers import (\n",
    "    Conv1D,\n",
    "    MaxPooling1D,\n",
    "    LSTM,\n",
    "    Bidirectional,\n",
    "    Dropout,\n",
    "    Flatten,\n",
    "    Dense,\n",
    "    Input,\n",
    ")\n",
    "from tensorflow.keras.callbacks import EarlyStopping\n",
    "from tensorflow.keras.optimizers import Adam\n",
    "from tensorflow.keras import metrics\n",
    "\n",
    "from utils import load_dataset, train, auc, plot_roc\n",
    "from einops import rearrange"
   ]
  },
  {
   "cell_type": "code",
   "execution_count": null,
   "id": "split-shipping",
   "metadata": {
    "ExecuteTime": {
     "start_time": "2021-04-15T15:59:37.754Z"
    },
    "scrolled": true
   },
   "outputs": [],
   "source": [
    "NUM_OUTPUTS = 31\n",
    "\n",
    "model = Sequential(\n",
    "    [\n",
    "        Input(shape=(1000, 4)),\n",
    "        Conv1D(320, kernel_size=8, activation=\"relu\"),\n",
    "        MaxPooling1D(pool_size=4, strides=4),\n",
    "        Dropout(0.2),\n",
    "        Conv1D(480, kernel_size=8, activation=\"relu\"),\n",
    "        MaxPooling1D(pool_size=8, strides=8),\n",
    "        Dropout(0.2),\n",
    "        Flatten(data_format=\"channels_first\"),\n",
    "        Dense(512, activation=\"relu\"),\n",
    "        Dense(NUM_OUTPUTS, activation=\"softmax\"),\n",
    "    ],\n",
    "    name=\"deepsea_full\",\n",
    ")\n",
    "\n",
    "model.summary()"
   ]
  },
  {
   "cell_type": "code",
   "execution_count": null,
   "id": "challenging-hindu",
   "metadata": {
    "ExecuteTime": {
     "start_time": "2021-04-15T15:59:39.875Z"
    }
   },
   "outputs": [],
   "source": [
    "es = EarlyStopping(monitor=\"val_loss\", patience=10)\n",
    "\n",
    "epochs = 250\n",
    "validation_freq = 1\n",
    "file = \"FOX_3000\"\n",
    "X_train, y_train, X_test, y_test = load_dataset(file, labels=\"binlabels\")\n",
    "X_train = rearrange(X_train, \"w h c -> w c h\")\n",
    "X_test = rearrange(X_test, \"w h c -> w c h\")"
   ]
  },
  {
   "cell_type": "code",
   "execution_count": null,
   "id": "appropriate-bulgarian",
   "metadata": {
    "ExecuteTime": {
     "start_time": "2021-04-15T15:59:40.791Z"
    },
    "scrolled": true
   },
   "outputs": [],
   "source": [
    "model.compile(optimizer=Adam(lr=1e-3), loss=\"binary_crossentropy\", metrics=[\"acc\"])\n",
    "# convert from shape (n, 4, 1000) to (n, 1000, 4)\n",
    "\n",
    "model = train(\n",
    "    dataset=(X_train, y_train, X_test, y_test),\n",
    "    model=model,\n",
    "    epochs=epochs,\n",
    "    verbose=2,\n",
    "    validation_freq=validation_freq,\n",
    "    callbacks=[],\n",
    "    batch_size=100,\n",
    ")\n",
    "\n",
    "y_pred = model.predict(X_test)\n",
    "plot_roc(y_test, y_pred)\n",
    "print(auc(y_test, y_pred))"
   ]
  },
  {
   "cell_type": "code",
   "execution_count": null,
   "id": "acute-timing",
   "metadata": {
    "ExecuteTime": {
     "end_time": "2021-03-17T18:15:49.415523Z",
     "start_time": "2021-03-17T17:20:57.989Z"
    }
   },
   "outputs": [],
   "source": [
    "model.save(f\"../model_saves/evals/{model.name}-{n}000.h5\")"
   ]
  }
 ],
 "metadata": {
  "kernelspec": {
   "display_name": "Python 3",
   "language": "python",
   "name": "python3"
  },
  "language_info": {
   "codemirror_mode": {
    "name": "ipython",
    "version": 3
   },
   "file_extension": ".py",
   "mimetype": "text/x-python",
   "name": "python",
   "nbconvert_exporter": "python",
   "pygments_lexer": "ipython3",
   "version": "3.7.10"
  }
 },
 "nbformat": 4,
 "nbformat_minor": 5
}
