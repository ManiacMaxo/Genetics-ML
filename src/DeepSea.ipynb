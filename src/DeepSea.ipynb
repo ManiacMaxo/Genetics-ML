{
 "cells": [
  {
   "cell_type": "code",
   "execution_count": 1,
   "id": "involved-assist",
   "metadata": {
    "ExecuteTime": {
     "end_time": "2021-03-17T17:20:59.170847Z",
     "start_time": "2021-03-17T17:20:57.979033Z"
    }
   },
   "outputs": [
    {
     "data": {
      "application/javascript": [
       "\n",
       "            setTimeout(function() {\n",
       "                var nbb_cell_id = 1;\n",
       "                var nbb_unformatted_code = \"from tensorflow.keras.models import Sequential\\nfrom tensorflow.keras.layers import (\\n    Conv1D,\\n    MaxPooling1D,\\n    LSTM,\\n    Bidirectional,\\n    Dropout,\\n    Flatten,\\n    Dense,\\n    Input,\\n)\\nfrom tensorflow.keras.callbacks import EarlyStopping\\nfrom tensorflow.keras.optimizers import Adam\\nfrom tensorflow.keras import metrics\\n\\nfrom utils import load_dataset, train, auc, plot_roc\\nfrom einops import rearrange\";\n",
       "                var nbb_formatted_code = \"from tensorflow.keras.models import Sequential\\nfrom tensorflow.keras.layers import (\\n    Conv1D,\\n    MaxPooling1D,\\n    LSTM,\\n    Bidirectional,\\n    Dropout,\\n    Flatten,\\n    Dense,\\n    Input,\\n)\\nfrom tensorflow.keras.callbacks import EarlyStopping\\nfrom tensorflow.keras.optimizers import Adam\\nfrom tensorflow.keras import metrics\\n\\nfrom utils import load_dataset, train, auc, plot_roc\\nfrom einops import rearrange\";\n",
       "                var nbb_cells = Jupyter.notebook.get_cells();\n",
       "                for (var i = 0; i < nbb_cells.length; ++i) {\n",
       "                    if (nbb_cells[i].input_prompt_number == nbb_cell_id) {\n",
       "                        if (nbb_cells[i].get_text() == nbb_unformatted_code) {\n",
       "                             nbb_cells[i].set_text(nbb_formatted_code);\n",
       "                        }\n",
       "                        break;\n",
       "                    }\n",
       "                }\n",
       "            }, 500);\n",
       "            "
      ],
      "text/plain": [
       "<IPython.core.display.Javascript object>"
      ]
     },
     "metadata": {},
     "output_type": "display_data"
    }
   ],
   "source": [
    "from tensorflow.keras.models import Sequential\n",
    "from tensorflow.keras.layers import (\n",
    "    Conv1D,\n",
    "    MaxPooling1D,\n",
    "    LSTM,\n",
    "    Bidirectional,\n",
    "    Dropout,\n",
    "    Flatten,\n",
    "    Dense,\n",
    "    Input,\n",
    ")\n",
    "from tensorflow.keras.callbacks import EarlyStopping\n",
    "from tensorflow.keras.optimizers import Adam\n",
    "from tensorflow.keras import metrics\n",
    "\n",
    "from utils import load_dataset, train, auc, plot_roc\n",
    "from einops import rearrange"
   ]
  },
  {
   "cell_type": "code",
   "execution_count": 2,
   "id": "split-shipping",
   "metadata": {
    "ExecuteTime": {
     "end_time": "2021-03-17T17:20:59.687565Z",
     "start_time": "2021-03-17T17:20:59.171863Z"
    },
    "scrolled": true
   },
   "outputs": [
    {
     "name": "stdout",
     "output_type": "stream",
     "text": [
      "Model: \"deepsea_full\"\n",
      "_________________________________________________________________\n",
      "Layer (type)                 Output Shape              Param #   \n",
      "=================================================================\n",
      "conv1d (Conv1D)              (None, 993, 320)          10560     \n",
      "_________________________________________________________________\n",
      "max_pooling1d (MaxPooling1D) (None, 248, 320)          0         \n",
      "_________________________________________________________________\n",
      "dropout (Dropout)            (None, 248, 320)          0         \n",
      "_________________________________________________________________\n",
      "conv1d_1 (Conv1D)            (None, 241, 480)          1229280   \n",
      "_________________________________________________________________\n",
      "max_pooling1d_1 (MaxPooling1 (None, 30, 480)           0         \n",
      "_________________________________________________________________\n",
      "dropout_1 (Dropout)          (None, 30, 480)           0         \n",
      "_________________________________________________________________\n",
      "flatten (Flatten)            (None, 14400)             0         \n",
      "_________________________________________________________________\n",
      "dense (Dense)                (None, 512)               7373312   \n",
      "_________________________________________________________________\n",
      "dense_1 (Dense)              (None, 1)                 513       \n",
      "=================================================================\n",
      "Total params: 8,613,665\n",
      "Trainable params: 8,613,665\n",
      "Non-trainable params: 0\n",
      "_________________________________________________________________\n"
     ]
    },
    {
     "data": {
      "application/javascript": [
       "\n",
       "            setTimeout(function() {\n",
       "                var nbb_cell_id = 2;\n",
       "                var nbb_unformatted_code = \"NUM_OUTPUTS = 1\\n\\nmodel = Sequential(\\n    [\\n        Input(shape=(1000, 4)),\\n        Conv1D(320, kernel_size=8, activation=\\\"relu\\\"),\\n        MaxPooling1D(pool_size=4, strides=4),\\n        Dropout(0.2),\\n        Conv1D(480, kernel_size=8, activation=\\\"relu\\\"),\\n        MaxPooling1D(pool_size=8, strides=8),\\n        Dropout(0.2),\\n        Flatten(data_format=\\\"channels_first\\\"),\\n        Dense(512, activation=\\\"relu\\\"),\\n        Dense(NUM_OUTPUTS, activation=\\\"softmax\\\"),\\n    ],\\n    name=\\\"deepsea_full\\\",\\n)\\n\\nmodel.compile(optimizer=Adam(lr=1e-2), loss=\\\"binary_crossentropy\\\", metrics=[\\\"acc\\\"])\\nmodel.summary()\";\n",
       "                var nbb_formatted_code = \"NUM_OUTPUTS = 1\\n\\nmodel = Sequential(\\n    [\\n        Input(shape=(1000, 4)),\\n        Conv1D(320, kernel_size=8, activation=\\\"relu\\\"),\\n        MaxPooling1D(pool_size=4, strides=4),\\n        Dropout(0.2),\\n        Conv1D(480, kernel_size=8, activation=\\\"relu\\\"),\\n        MaxPooling1D(pool_size=8, strides=8),\\n        Dropout(0.2),\\n        Flatten(data_format=\\\"channels_first\\\"),\\n        Dense(512, activation=\\\"relu\\\"),\\n        Dense(NUM_OUTPUTS, activation=\\\"softmax\\\"),\\n    ],\\n    name=\\\"deepsea_full\\\",\\n)\\n\\nmodel.compile(optimizer=Adam(lr=1e-2), loss=\\\"binary_crossentropy\\\", metrics=[\\\"acc\\\"])\\nmodel.summary()\";\n",
       "                var nbb_cells = Jupyter.notebook.get_cells();\n",
       "                for (var i = 0; i < nbb_cells.length; ++i) {\n",
       "                    if (nbb_cells[i].input_prompt_number == nbb_cell_id) {\n",
       "                        if (nbb_cells[i].get_text() == nbb_unformatted_code) {\n",
       "                             nbb_cells[i].set_text(nbb_formatted_code);\n",
       "                        }\n",
       "                        break;\n",
       "                    }\n",
       "                }\n",
       "            }, 500);\n",
       "            "
      ],
      "text/plain": [
       "<IPython.core.display.Javascript object>"
      ]
     },
     "metadata": {},
     "output_type": "display_data"
    }
   ],
   "source": [
    "NUM_OUTPUTS = 1\n",
    "\n",
    "model = Sequential(\n",
    "    [\n",
    "        Input(shape=(1000, 4)),\n",
    "        Conv1D(320, kernel_size=8, activation=\"relu\"),\n",
    "        MaxPooling1D(pool_size=4, strides=4),\n",
    "        Dropout(0.2),\n",
    "        Conv1D(480, kernel_size=8, activation=\"relu\"),\n",
    "        MaxPooling1D(pool_size=8, strides=8),\n",
    "        Dropout(0.2),\n",
    "        Flatten(data_format=\"channels_first\"),\n",
    "        Dense(512, activation=\"relu\"),\n",
    "        Dense(NUM_OUTPUTS, activation=\"softmax\"),\n",
    "    ],\n",
    "    name=\"deepsea_full\",\n",
    ")\n",
    "\n",
    "model.compile(optimizer=Adam(lr=1e-2), loss=\"binary_crossentropy\", metrics=[\"acc\"])\n",
    "model.summary()"
   ]
  },
  {
   "cell_type": "code",
   "execution_count": 3,
   "id": "challenging-hindu",
   "metadata": {
    "ExecuteTime": {
     "end_time": "2021-03-17T17:20:59.694982Z",
     "start_time": "2021-03-17T17:20:59.688808Z"
    }
   },
   "outputs": [
    {
     "data": {
      "application/javascript": [
       "\n",
       "            setTimeout(function() {\n",
       "                var nbb_cell_id = 3;\n",
       "                var nbb_unformatted_code = \"es = EarlyStopping(monitor=\\\"val_loss\\\", patience=10)\\n\\nepochs = 250\\nvalidation_freq = 1\\nn = 2\\nfile = f\\\"MA0035_{n}000\\\"\";\n",
       "                var nbb_formatted_code = \"es = EarlyStopping(monitor=\\\"val_loss\\\", patience=10)\\n\\nepochs = 250\\nvalidation_freq = 1\\nn = 2\\nfile = f\\\"MA0035_{n}000\\\"\";\n",
       "                var nbb_cells = Jupyter.notebook.get_cells();\n",
       "                for (var i = 0; i < nbb_cells.length; ++i) {\n",
       "                    if (nbb_cells[i].input_prompt_number == nbb_cell_id) {\n",
       "                        if (nbb_cells[i].get_text() == nbb_unformatted_code) {\n",
       "                             nbb_cells[i].set_text(nbb_formatted_code);\n",
       "                        }\n",
       "                        break;\n",
       "                    }\n",
       "                }\n",
       "            }, 500);\n",
       "            "
      ],
      "text/plain": [
       "<IPython.core.display.Javascript object>"
      ]
     },
     "metadata": {},
     "output_type": "display_data"
    }
   ],
   "source": [
    "es = EarlyStopping(monitor=\"val_loss\", patience=10)\n",
    "\n",
    "epochs = 250\n",
    "validation_freq = 1\n",
    "n = 2\n",
    "file = f\"MA0035_{n}000\""
   ]
  },
  {
   "cell_type": "code",
   "execution_count": 4,
   "id": "appropriate-bulgarian",
   "metadata": {
    "ExecuteTime": {
     "end_time": "2021-03-17T18:15:49.414410Z",
     "start_time": "2021-03-17T17:20:59.695996Z"
    },
    "scrolled": true
   },
   "outputs": [
    {
     "name": "stdout",
     "output_type": "stream",
     "text": [
      "Epoch 1/250\n",
      "1000/1000 - 46s - loss: 1.0425 - acc: 0.5000 - val_loss: 0.6932 - val_acc: 0.5000\n",
      "Epoch 2/250\n",
      "1000/1000 - 44s - loss: 0.6933 - acc: 0.5000 - val_loss: 0.6933 - val_acc: 0.5000\n",
      "Epoch 3/250\n",
      "1000/1000 - 45s - loss: 0.6932 - acc: 0.5000 - val_loss: 0.6944 - val_acc: 0.5000\n",
      "Epoch 4/250\n",
      "1000/1000 - 44s - loss: 0.6933 - acc: 0.5000 - val_loss: 0.6936 - val_acc: 0.5000\n",
      "Epoch 5/250\n",
      "1000/1000 - 44s - loss: 0.6932 - acc: 0.5000 - val_loss: 0.6931 - val_acc: 0.5000\n",
      "Epoch 6/250\n",
      "1000/1000 - 44s - loss: 0.6933 - acc: 0.5000 - val_loss: 0.6934 - val_acc: 0.5000\n",
      "Epoch 7/250\n",
      "1000/1000 - 43s - loss: 0.6933 - acc: 0.5000 - val_loss: 0.6933 - val_acc: 0.5000\n",
      "Epoch 8/250\n",
      "1000/1000 - 46s - loss: 0.6933 - acc: 0.5000 - val_loss: 0.6931 - val_acc: 0.5000\n",
      "Epoch 9/250\n",
      "1000/1000 - 46s - loss: 0.6932 - acc: 0.5000 - val_loss: 0.6932 - val_acc: 0.5000\n",
      "Epoch 10/250\n",
      "1000/1000 - 47s - loss: 0.6933 - acc: 0.5000 - val_loss: 0.6932 - val_acc: 0.5000\n",
      "Epoch 11/250\n",
      "1000/1000 - 52s - loss: 0.6933 - acc: 0.5000 - val_loss: 0.6932 - val_acc: 0.5000\n",
      "Epoch 12/250\n",
      "1000/1000 - 54s - loss: 0.6933 - acc: 0.5000 - val_loss: 0.6933 - val_acc: 0.5000\n",
      "Epoch 13/250\n",
      "1000/1000 - 54s - loss: 0.6933 - acc: 0.5000 - val_loss: 0.6932 - val_acc: 0.5000\n",
      "Epoch 14/250\n",
      "1000/1000 - 54s - loss: 0.6933 - acc: 0.5000 - val_loss: 0.6932 - val_acc: 0.5000\n",
      "Epoch 15/250\n",
      "1000/1000 - 49s - loss: 0.6933 - acc: 0.5000 - val_loss: 0.6932 - val_acc: 0.5000\n",
      "Epoch 16/250\n",
      "1000/1000 - 45s - loss: 0.6932 - acc: 0.5000 - val_loss: 0.6931 - val_acc: 0.5000\n",
      "Epoch 17/250\n",
      "1000/1000 - 45s - loss: 0.6933 - acc: 0.5000 - val_loss: 0.6932 - val_acc: 0.5000\n",
      "Epoch 18/250\n",
      "1000/1000 - 45s - loss: 0.6933 - acc: 0.5000 - val_loss: 0.6932 - val_acc: 0.5000\n",
      "Epoch 19/250\n",
      "1000/1000 - 45s - loss: 0.6933 - acc: 0.5000 - val_loss: 0.6932 - val_acc: 0.5000\n",
      "Epoch 20/250\n",
      "1000/1000 - 48s - loss: 0.6933 - acc: 0.5000 - val_loss: 0.6934 - val_acc: 0.5000\n",
      "Epoch 21/250\n",
      "1000/1000 - 53s - loss: 0.6933 - acc: 0.5000 - val_loss: 0.6932 - val_acc: 0.5000\n",
      "Epoch 22/250\n",
      "1000/1000 - 54s - loss: 0.6933 - acc: 0.5000 - val_loss: 0.6933 - val_acc: 0.5000\n",
      "Epoch 23/250\n",
      "1000/1000 - 53s - loss: 0.6932 - acc: 0.5000 - val_loss: 0.6931 - val_acc: 0.5000\n",
      "Epoch 24/250\n",
      "1000/1000 - 53s - loss: 0.6933 - acc: 0.5000 - val_loss: 0.6931 - val_acc: 0.5000\n",
      "Epoch 25/250\n",
      "1000/1000 - 54s - loss: 0.6933 - acc: 0.5000 - val_loss: 0.6932 - val_acc: 0.5000\n",
      "Epoch 26/250\n",
      "1000/1000 - 53s - loss: 0.6932 - acc: 0.5000 - val_loss: 0.6932 - val_acc: 0.5000\n",
      "Epoch 27/250\n",
      "1000/1000 - 53s - loss: 0.6932 - acc: 0.5000 - val_loss: 0.6933 - val_acc: 0.5000\n",
      "Epoch 28/250\n",
      "1000/1000 - 54s - loss: 0.6932 - acc: 0.5000 - val_loss: 0.6933 - val_acc: 0.5000\n",
      "Epoch 29/250\n",
      "1000/1000 - 54s - loss: 0.6933 - acc: 0.5000 - val_loss: 0.6932 - val_acc: 0.5000\n",
      "Epoch 30/250\n",
      "1000/1000 - 53s - loss: 0.6933 - acc: 0.5000 - val_loss: 0.6932 - val_acc: 0.5000\n",
      "Epoch 31/250\n",
      "1000/1000 - 53s - loss: 0.6933 - acc: 0.5000 - val_loss: 0.6932 - val_acc: 0.5000\n",
      "Epoch 32/250\n",
      "1000/1000 - 53s - loss: 0.6933 - acc: 0.5000 - val_loss: 0.6932 - val_acc: 0.5000\n",
      "Epoch 33/250\n",
      "1000/1000 - 53s - loss: 0.6933 - acc: 0.5000 - val_loss: 0.6933 - val_acc: 0.5000\n",
      "Epoch 34/250\n",
      "1000/1000 - 53s - loss: 0.6933 - acc: 0.5000 - val_loss: 0.6932 - val_acc: 0.5000\n",
      "Epoch 35/250\n",
      "1000/1000 - 53s - loss: 0.6933 - acc: 0.5000 - val_loss: 0.6931 - val_acc: 0.5000\n",
      "Epoch 36/250\n",
      "1000/1000 - 53s - loss: 0.6933 - acc: 0.5000 - val_loss: 0.6932 - val_acc: 0.5000\n",
      "Epoch 37/250\n",
      "1000/1000 - 53s - loss: 0.6933 - acc: 0.5000 - val_loss: 0.6932 - val_acc: 0.5000\n",
      "Epoch 38/250\n",
      "1000/1000 - 53s - loss: 0.6933 - acc: 0.5000 - val_loss: 0.6932 - val_acc: 0.5000\n",
      "Epoch 39/250\n",
      "1000/1000 - 54s - loss: 0.6933 - acc: 0.5000 - val_loss: 0.6932 - val_acc: 0.5000\n",
      "Epoch 40/250\n",
      "1000/1000 - 56s - loss: 0.6932 - acc: 0.5000 - val_loss: 0.6932 - val_acc: 0.5000\n",
      "Epoch 41/250\n",
      "1000/1000 - 57s - loss: 0.6933 - acc: 0.5000 - val_loss: 0.6932 - val_acc: 0.5000\n",
      "Epoch 42/250\n",
      "1000/1000 - 57s - loss: 0.6933 - acc: 0.5000 - val_loss: 0.6932 - val_acc: 0.5000\n",
      "Epoch 43/250\n",
      "1000/1000 - 56s - loss: 0.6933 - acc: 0.5000 - val_loss: 0.6932 - val_acc: 0.5000\n",
      "Epoch 44/250\n",
      "1000/1000 - 57s - loss: 0.6933 - acc: 0.5000 - val_loss: 0.6932 - val_acc: 0.5000\n",
      "Epoch 45/250\n",
      "1000/1000 - 57s - loss: 0.6932 - acc: 0.5000 - val_loss: 0.6936 - val_acc: 0.5000\n",
      "Epoch 46/250\n",
      "1000/1000 - 57s - loss: 0.6933 - acc: 0.5000 - val_loss: 0.6933 - val_acc: 0.5000\n",
      "Epoch 47/250\n",
      "1000/1000 - 57s - loss: 0.6933 - acc: 0.5000 - val_loss: 0.6932 - val_acc: 0.5000\n",
      "Epoch 48/250\n",
      "1000/1000 - 57s - loss: 0.6933 - acc: 0.5000 - val_loss: 0.6934 - val_acc: 0.5000\n",
      "Epoch 49/250\n",
      "1000/1000 - 56s - loss: 0.6933 - acc: 0.5000 - val_loss: 0.6934 - val_acc: 0.5000\n",
      "Epoch 50/250\n",
      "1000/1000 - 57s - loss: 0.6933 - acc: 0.5000 - val_loss: 0.6935 - val_acc: 0.5000\n",
      "Epoch 51/250\n",
      "1000/1000 - 57s - loss: 0.6933 - acc: 0.5000 - val_loss: 0.6932 - val_acc: 0.5000\n",
      "Epoch 52/250\n",
      "1000/1000 - 57s - loss: 0.6933 - acc: 0.5000 - val_loss: 0.6932 - val_acc: 0.5000\n",
      "Epoch 53/250\n",
      "1000/1000 - 57s - loss: 0.6933 - acc: 0.5000 - val_loss: 0.6932 - val_acc: 0.5000\n",
      "Epoch 54/250\n",
      "1000/1000 - 56s - loss: 0.6933 - acc: 0.5000 - val_loss: 0.6932 - val_acc: 0.5000\n",
      "Epoch 55/250\n",
      "1000/1000 - 56s - loss: 0.6933 - acc: 0.5000 - val_loss: 0.6931 - val_acc: 0.5000\n",
      "Epoch 56/250\n",
      "1000/1000 - 57s - loss: 0.6932 - acc: 0.5000 - val_loss: 0.6935 - val_acc: 0.5000\n",
      "Epoch 57/250\n",
      "1000/1000 - 57s - loss: 0.6933 - acc: 0.5000 - val_loss: 0.6932 - val_acc: 0.5000\n",
      "Epoch 58/250\n",
      "1000/1000 - 55s - loss: 0.6933 - acc: 0.5000 - val_loss: 0.6932 - val_acc: 0.5000\n",
      "Epoch 59/250\n",
      "1000/1000 - 54s - loss: 0.6933 - acc: 0.5000 - val_loss: 0.6932 - val_acc: 0.5000\n",
      "Epoch 60/250\n",
      "1000/1000 - 55s - loss: 0.6933 - acc: 0.5000 - val_loss: 0.6933 - val_acc: 0.5000\n",
      "Epoch 61/250\n",
      "1000/1000 - 54s - loss: 0.6933 - acc: 0.5000 - val_loss: 0.6936 - val_acc: 0.5000\n",
      "Epoch 62/250\n",
      "1000/1000 - 54s - loss: 0.6933 - acc: 0.5000 - val_loss: 0.6933 - val_acc: 0.5000\n",
      "Epoch 63/250\n"
     ]
    },
    {
     "ename": "KeyboardInterrupt",
     "evalue": "",
     "output_type": "error",
     "traceback": [
      "\u001b[0;31m---------------------------------------------------------------------------\u001b[0m",
      "\u001b[0;31mKeyboardInterrupt\u001b[0m                         Traceback (most recent call last)",
      "\u001b[0;32m<ipython-input-4-80ba02daf779>\u001b[0m in \u001b[0;36m<module>\u001b[0;34m\u001b[0m\n\u001b[1;32m     11\u001b[0m     \u001b[0mvalidation_freq\u001b[0m\u001b[0;34m=\u001b[0m\u001b[0mvalidation_freq\u001b[0m\u001b[0;34m,\u001b[0m\u001b[0;34m\u001b[0m\u001b[0;34m\u001b[0m\u001b[0m\n\u001b[1;32m     12\u001b[0m     \u001b[0mcallbacks\u001b[0m\u001b[0;34m=\u001b[0m\u001b[0;34m[\u001b[0m\u001b[0;34m]\u001b[0m\u001b[0;34m,\u001b[0m\u001b[0;34m\u001b[0m\u001b[0;34m\u001b[0m\u001b[0m\n\u001b[0;32m---> 13\u001b[0;31m     \u001b[0mbatch_size\u001b[0m\u001b[0;34m=\u001b[0m\u001b[0;36m100\u001b[0m\u001b[0;34m,\u001b[0m\u001b[0;34m\u001b[0m\u001b[0;34m\u001b[0m\u001b[0m\n\u001b[0m\u001b[1;32m     14\u001b[0m )\n\u001b[1;32m     15\u001b[0m \u001b[0;34m\u001b[0m\u001b[0m\n",
      "\u001b[0;32m~/Documents/GitHub/Genetics-ML/src/utils/train.py\u001b[0m in \u001b[0;36mtrain\u001b[0;34m(dataset, model, epochs, validation_freq, callbacks, verbose, batch_size)\u001b[0m\n\u001b[1;32m     42\u001b[0m         \u001b[0mvalidation_freq\u001b[0m\u001b[0;34m=\u001b[0m\u001b[0mvalidation_freq\u001b[0m\u001b[0;34m,\u001b[0m\u001b[0;34m\u001b[0m\u001b[0;34m\u001b[0m\u001b[0m\n\u001b[1;32m     43\u001b[0m         \u001b[0mverbose\u001b[0m\u001b[0;34m=\u001b[0m\u001b[0mverbose\u001b[0m\u001b[0;34m,\u001b[0m\u001b[0;34m\u001b[0m\u001b[0;34m\u001b[0m\u001b[0m\n\u001b[0;32m---> 44\u001b[0;31m         \u001b[0mbatch_size\u001b[0m\u001b[0;34m=\u001b[0m\u001b[0mbatch_size\u001b[0m\u001b[0;34m,\u001b[0m\u001b[0;34m\u001b[0m\u001b[0;34m\u001b[0m\u001b[0m\n\u001b[0m\u001b[1;32m     45\u001b[0m     )\n\u001b[1;32m     46\u001b[0m \u001b[0;34m\u001b[0m\u001b[0m\n",
      "\u001b[0;32m~/miniconda3/envs/genetics/lib/python3.7/site-packages/tensorflow/python/keras/engine/training.py\u001b[0m in \u001b[0;36mfit\u001b[0;34m(self, x, y, batch_size, epochs, verbose, callbacks, validation_split, validation_data, shuffle, class_weight, sample_weight, initial_epoch, steps_per_epoch, validation_steps, validation_batch_size, validation_freq, max_queue_size, workers, use_multiprocessing)\u001b[0m\n\u001b[1;32m   1098\u001b[0m                 _r=1):\n\u001b[1;32m   1099\u001b[0m               \u001b[0mcallbacks\u001b[0m\u001b[0;34m.\u001b[0m\u001b[0mon_train_batch_begin\u001b[0m\u001b[0;34m(\u001b[0m\u001b[0mstep\u001b[0m\u001b[0;34m)\u001b[0m\u001b[0;34m\u001b[0m\u001b[0;34m\u001b[0m\u001b[0m\n\u001b[0;32m-> 1100\u001b[0;31m               \u001b[0mtmp_logs\u001b[0m \u001b[0;34m=\u001b[0m \u001b[0mself\u001b[0m\u001b[0;34m.\u001b[0m\u001b[0mtrain_function\u001b[0m\u001b[0;34m(\u001b[0m\u001b[0miterator\u001b[0m\u001b[0;34m)\u001b[0m\u001b[0;34m\u001b[0m\u001b[0;34m\u001b[0m\u001b[0m\n\u001b[0m\u001b[1;32m   1101\u001b[0m               \u001b[0;32mif\u001b[0m \u001b[0mdata_handler\u001b[0m\u001b[0;34m.\u001b[0m\u001b[0mshould_sync\u001b[0m\u001b[0;34m:\u001b[0m\u001b[0;34m\u001b[0m\u001b[0;34m\u001b[0m\u001b[0m\n\u001b[1;32m   1102\u001b[0m                 \u001b[0mcontext\u001b[0m\u001b[0;34m.\u001b[0m\u001b[0masync_wait\u001b[0m\u001b[0;34m(\u001b[0m\u001b[0;34m)\u001b[0m\u001b[0;34m\u001b[0m\u001b[0;34m\u001b[0m\u001b[0m\n",
      "\u001b[0;32m~/miniconda3/envs/genetics/lib/python3.7/site-packages/tensorflow/python/eager/def_function.py\u001b[0m in \u001b[0;36m__call__\u001b[0;34m(self, *args, **kwds)\u001b[0m\n\u001b[1;32m    826\u001b[0m     \u001b[0mtracing_count\u001b[0m \u001b[0;34m=\u001b[0m \u001b[0mself\u001b[0m\u001b[0;34m.\u001b[0m\u001b[0mexperimental_get_tracing_count\u001b[0m\u001b[0;34m(\u001b[0m\u001b[0;34m)\u001b[0m\u001b[0;34m\u001b[0m\u001b[0;34m\u001b[0m\u001b[0m\n\u001b[1;32m    827\u001b[0m     \u001b[0;32mwith\u001b[0m \u001b[0mtrace\u001b[0m\u001b[0;34m.\u001b[0m\u001b[0mTrace\u001b[0m\u001b[0;34m(\u001b[0m\u001b[0mself\u001b[0m\u001b[0;34m.\u001b[0m\u001b[0m_name\u001b[0m\u001b[0;34m)\u001b[0m \u001b[0;32mas\u001b[0m \u001b[0mtm\u001b[0m\u001b[0;34m:\u001b[0m\u001b[0;34m\u001b[0m\u001b[0;34m\u001b[0m\u001b[0m\n\u001b[0;32m--> 828\u001b[0;31m       \u001b[0mresult\u001b[0m \u001b[0;34m=\u001b[0m \u001b[0mself\u001b[0m\u001b[0;34m.\u001b[0m\u001b[0m_call\u001b[0m\u001b[0;34m(\u001b[0m\u001b[0;34m*\u001b[0m\u001b[0margs\u001b[0m\u001b[0;34m,\u001b[0m \u001b[0;34m**\u001b[0m\u001b[0mkwds\u001b[0m\u001b[0;34m)\u001b[0m\u001b[0;34m\u001b[0m\u001b[0;34m\u001b[0m\u001b[0m\n\u001b[0m\u001b[1;32m    829\u001b[0m       \u001b[0mcompiler\u001b[0m \u001b[0;34m=\u001b[0m \u001b[0;34m\"xla\"\u001b[0m \u001b[0;32mif\u001b[0m \u001b[0mself\u001b[0m\u001b[0;34m.\u001b[0m\u001b[0m_experimental_compile\u001b[0m \u001b[0;32melse\u001b[0m \u001b[0;34m\"nonXla\"\u001b[0m\u001b[0;34m\u001b[0m\u001b[0;34m\u001b[0m\u001b[0m\n\u001b[1;32m    830\u001b[0m       \u001b[0mnew_tracing_count\u001b[0m \u001b[0;34m=\u001b[0m \u001b[0mself\u001b[0m\u001b[0;34m.\u001b[0m\u001b[0mexperimental_get_tracing_count\u001b[0m\u001b[0;34m(\u001b[0m\u001b[0;34m)\u001b[0m\u001b[0;34m\u001b[0m\u001b[0;34m\u001b[0m\u001b[0m\n",
      "\u001b[0;32m~/miniconda3/envs/genetics/lib/python3.7/site-packages/tensorflow/python/eager/def_function.py\u001b[0m in \u001b[0;36m_call\u001b[0;34m(self, *args, **kwds)\u001b[0m\n\u001b[1;32m    853\u001b[0m       \u001b[0;31m# In this case we have created variables on the first call, so we run the\u001b[0m\u001b[0;34m\u001b[0m\u001b[0;34m\u001b[0m\u001b[0;34m\u001b[0m\u001b[0m\n\u001b[1;32m    854\u001b[0m       \u001b[0;31m# defunned version which is guaranteed to never create variables.\u001b[0m\u001b[0;34m\u001b[0m\u001b[0;34m\u001b[0m\u001b[0;34m\u001b[0m\u001b[0m\n\u001b[0;32m--> 855\u001b[0;31m       \u001b[0;32mreturn\u001b[0m \u001b[0mself\u001b[0m\u001b[0;34m.\u001b[0m\u001b[0m_stateless_fn\u001b[0m\u001b[0;34m(\u001b[0m\u001b[0;34m*\u001b[0m\u001b[0margs\u001b[0m\u001b[0;34m,\u001b[0m \u001b[0;34m**\u001b[0m\u001b[0mkwds\u001b[0m\u001b[0;34m)\u001b[0m  \u001b[0;31m# pylint: disable=not-callable\u001b[0m\u001b[0;34m\u001b[0m\u001b[0;34m\u001b[0m\u001b[0m\n\u001b[0m\u001b[1;32m    856\u001b[0m     \u001b[0;32melif\u001b[0m \u001b[0mself\u001b[0m\u001b[0;34m.\u001b[0m\u001b[0m_stateful_fn\u001b[0m \u001b[0;32mis\u001b[0m \u001b[0;32mnot\u001b[0m \u001b[0;32mNone\u001b[0m\u001b[0;34m:\u001b[0m\u001b[0;34m\u001b[0m\u001b[0;34m\u001b[0m\u001b[0m\n\u001b[1;32m    857\u001b[0m       \u001b[0;31m# Release the lock early so that multiple threads can perform the call\u001b[0m\u001b[0;34m\u001b[0m\u001b[0;34m\u001b[0m\u001b[0;34m\u001b[0m\u001b[0m\n",
      "\u001b[0;32m~/miniconda3/envs/genetics/lib/python3.7/site-packages/tensorflow/python/eager/function.py\u001b[0m in \u001b[0;36m__call__\u001b[0;34m(self, *args, **kwargs)\u001b[0m\n\u001b[1;32m   2941\u001b[0m        filtered_flat_args) = self._maybe_define_function(args, kwargs)\n\u001b[1;32m   2942\u001b[0m     return graph_function._call_flat(\n\u001b[0;32m-> 2943\u001b[0;31m         filtered_flat_args, captured_inputs=graph_function.captured_inputs)  # pylint: disable=protected-access\n\u001b[0m\u001b[1;32m   2944\u001b[0m \u001b[0;34m\u001b[0m\u001b[0m\n\u001b[1;32m   2945\u001b[0m   \u001b[0;34m@\u001b[0m\u001b[0mproperty\u001b[0m\u001b[0;34m\u001b[0m\u001b[0;34m\u001b[0m\u001b[0m\n",
      "\u001b[0;32m~/miniconda3/envs/genetics/lib/python3.7/site-packages/tensorflow/python/eager/function.py\u001b[0m in \u001b[0;36m_call_flat\u001b[0;34m(self, args, captured_inputs, cancellation_manager)\u001b[0m\n\u001b[1;32m   1917\u001b[0m       \u001b[0;31m# No tape is watching; skip to running the function.\u001b[0m\u001b[0;34m\u001b[0m\u001b[0;34m\u001b[0m\u001b[0;34m\u001b[0m\u001b[0m\n\u001b[1;32m   1918\u001b[0m       return self._build_call_outputs(self._inference_function.call(\n\u001b[0;32m-> 1919\u001b[0;31m           ctx, args, cancellation_manager=cancellation_manager))\n\u001b[0m\u001b[1;32m   1920\u001b[0m     forward_backward = self._select_forward_and_backward_functions(\n\u001b[1;32m   1921\u001b[0m         \u001b[0margs\u001b[0m\u001b[0;34m,\u001b[0m\u001b[0;34m\u001b[0m\u001b[0;34m\u001b[0m\u001b[0m\n",
      "\u001b[0;32m~/miniconda3/envs/genetics/lib/python3.7/site-packages/tensorflow/python/eager/function.py\u001b[0m in \u001b[0;36mcall\u001b[0;34m(self, ctx, args, cancellation_manager)\u001b[0m\n\u001b[1;32m    558\u001b[0m               \u001b[0minputs\u001b[0m\u001b[0;34m=\u001b[0m\u001b[0margs\u001b[0m\u001b[0;34m,\u001b[0m\u001b[0;34m\u001b[0m\u001b[0;34m\u001b[0m\u001b[0m\n\u001b[1;32m    559\u001b[0m               \u001b[0mattrs\u001b[0m\u001b[0;34m=\u001b[0m\u001b[0mattrs\u001b[0m\u001b[0;34m,\u001b[0m\u001b[0;34m\u001b[0m\u001b[0;34m\u001b[0m\u001b[0m\n\u001b[0;32m--> 560\u001b[0;31m               ctx=ctx)\n\u001b[0m\u001b[1;32m    561\u001b[0m         \u001b[0;32melse\u001b[0m\u001b[0;34m:\u001b[0m\u001b[0;34m\u001b[0m\u001b[0;34m\u001b[0m\u001b[0m\n\u001b[1;32m    562\u001b[0m           outputs = execute.execute_with_cancellation(\n",
      "\u001b[0;32m~/miniconda3/envs/genetics/lib/python3.7/site-packages/tensorflow/python/eager/execute.py\u001b[0m in \u001b[0;36mquick_execute\u001b[0;34m(op_name, num_outputs, inputs, attrs, ctx, name)\u001b[0m\n\u001b[1;32m     58\u001b[0m     \u001b[0mctx\u001b[0m\u001b[0;34m.\u001b[0m\u001b[0mensure_initialized\u001b[0m\u001b[0;34m(\u001b[0m\u001b[0;34m)\u001b[0m\u001b[0;34m\u001b[0m\u001b[0;34m\u001b[0m\u001b[0m\n\u001b[1;32m     59\u001b[0m     tensors = pywrap_tfe.TFE_Py_Execute(ctx._handle, device_name, op_name,\n\u001b[0;32m---> 60\u001b[0;31m                                         inputs, attrs, num_outputs)\n\u001b[0m\u001b[1;32m     61\u001b[0m   \u001b[0;32mexcept\u001b[0m \u001b[0mcore\u001b[0m\u001b[0;34m.\u001b[0m\u001b[0m_NotOkStatusException\u001b[0m \u001b[0;32mas\u001b[0m \u001b[0me\u001b[0m\u001b[0;34m:\u001b[0m\u001b[0;34m\u001b[0m\u001b[0;34m\u001b[0m\u001b[0m\n\u001b[1;32m     62\u001b[0m     \u001b[0;32mif\u001b[0m \u001b[0mname\u001b[0m \u001b[0;32mis\u001b[0m \u001b[0;32mnot\u001b[0m \u001b[0;32mNone\u001b[0m\u001b[0;34m:\u001b[0m\u001b[0;34m\u001b[0m\u001b[0;34m\u001b[0m\u001b[0m\n",
      "\u001b[0;31mKeyboardInterrupt\u001b[0m: "
     ]
    },
    {
     "data": {
      "application/javascript": [
       "\n",
       "            setTimeout(function() {\n",
       "                var nbb_cell_id = 4;\n",
       "                var nbb_unformatted_code = \"X_train, y_train, X_test, y_test = load_dataset(file, labels=\\\"binlabels\\\")\\n# convert from shape (n, 4, 1000) to (n, 1000, 4)\\nX_train = rearrange(X_train, \\\"w h c -> w c h\\\")\\nX_test = rearrange(X_test, \\\"w h c -> w c h\\\")\\n\\nmodel = train(\\n    dataset=(X_train, y_train, X_test, y_test),\\n    model=model,\\n    epochs=epochs,\\n    verbose=2,\\n    validation_freq=validation_freq,\\n    callbacks=[],\\n    batch_size=100,\\n)\\n\\ny_pred = model.predict(X_test)\\nplot_roc(y_test, y_pred)\\nprint(auc(y_test, y_pred))\";\n",
       "                var nbb_formatted_code = \"X_train, y_train, X_test, y_test = load_dataset(file, labels=\\\"binlabels\\\")\\n# convert from shape (n, 4, 1000) to (n, 1000, 4)\\nX_train = rearrange(X_train, \\\"w h c -> w c h\\\")\\nX_test = rearrange(X_test, \\\"w h c -> w c h\\\")\\n\\nmodel = train(\\n    dataset=(X_train, y_train, X_test, y_test),\\n    model=model,\\n    epochs=epochs,\\n    verbose=2,\\n    validation_freq=validation_freq,\\n    callbacks=[],\\n    batch_size=100,\\n)\\n\\ny_pred = model.predict(X_test)\\nplot_roc(y_test, y_pred)\\nprint(auc(y_test, y_pred))\";\n",
       "                var nbb_cells = Jupyter.notebook.get_cells();\n",
       "                for (var i = 0; i < nbb_cells.length; ++i) {\n",
       "                    if (nbb_cells[i].input_prompt_number == nbb_cell_id) {\n",
       "                        if (nbb_cells[i].get_text() == nbb_unformatted_code) {\n",
       "                             nbb_cells[i].set_text(nbb_formatted_code);\n",
       "                        }\n",
       "                        break;\n",
       "                    }\n",
       "                }\n",
       "            }, 500);\n",
       "            "
      ],
      "text/plain": [
       "<IPython.core.display.Javascript object>"
      ]
     },
     "metadata": {},
     "output_type": "display_data"
    }
   ],
   "source": [
    "X_train, y_train, X_test, y_test = load_dataset(file, labels=\"binlabels\")\n",
    "# convert from shape (n, 4, 1000) to (n, 1000, 4)\n",
    "X_train = rearrange(X_train, \"w h c -> w c h\")\n",
    "X_test = rearrange(X_test, \"w h c -> w c h\")\n",
    "\n",
    "model = train(\n",
    "    dataset=(X_train, y_train, X_test, y_test),\n",
    "    model=model,\n",
    "    epochs=epochs,\n",
    "    verbose=2,\n",
    "    validation_freq=validation_freq,\n",
    "    callbacks=[],\n",
    "    batch_size=100,\n",
    ")\n",
    "\n",
    "y_pred = model.predict(X_test)\n",
    "plot_roc(y_test, y_pred)\n",
    "print(auc(y_test, y_pred))"
   ]
  },
  {
   "cell_type": "code",
   "execution_count": null,
   "id": "acute-timing",
   "metadata": {
    "ExecuteTime": {
     "end_time": "2021-03-17T18:15:49.415523Z",
     "start_time": "2021-03-17T17:20:57.989Z"
    }
   },
   "outputs": [],
   "source": [
    "model.save(f\"../model_saves/evals/{model.name}-{n}000.h5\")"
   ]
  }
 ],
 "metadata": {
  "kernelspec": {
   "display_name": "Python 3",
   "language": "python",
   "name": "python3"
  },
  "language_info": {
   "codemirror_mode": {
    "name": "ipython",
    "version": 3
   },
   "file_extension": ".py",
   "mimetype": "text/x-python",
   "name": "python",
   "nbconvert_exporter": "python",
   "pygments_lexer": "ipython3",
   "version": "3.7.10"
  }
 },
 "nbformat": 4,
 "nbformat_minor": 5
}
