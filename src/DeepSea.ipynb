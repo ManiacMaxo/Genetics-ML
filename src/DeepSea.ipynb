{
 "cells": [
  {
   "cell_type": "code",
   "execution_count": 1,
   "id": "involved-assist",
   "metadata": {
    "ExecuteTime": {
     "end_time": "2021-04-19T11:48:14.766826Z",
     "start_time": "2021-04-19T11:48:13.562202Z"
    }
   },
   "outputs": [],
   "source": [
    "from tensorflow.keras.models import Sequential\n",
    "from tensorflow.keras.layers import (\n",
    "    Conv1D,\n",
    "    MaxPooling1D,\n",
    "    LSTM,\n",
    "    Bidirectional,\n",
    "    Dropout,\n",
    "    Flatten,\n",
    "    Dense,\n",
    "    Input,\n",
    ")\n",
    "from tensorflow.keras.callbacks import EarlyStopping\n",
    "from tensorflow.keras.optimizers import Adam\n",
    "from tensorflow.keras import metrics\n",
    "\n",
    "from utils import load_dataset, train, auc, plot_roc\n",
    "from einops import rearrange"
   ]
  },
  {
   "cell_type": "code",
   "execution_count": 2,
   "id": "split-shipping",
   "metadata": {
    "ExecuteTime": {
     "end_time": "2021-04-19T11:48:15.290813Z",
     "start_time": "2021-04-19T11:48:14.767902Z"
    },
    "scrolled": true
   },
   "outputs": [
    {
     "name": "stdout",
     "output_type": "stream",
     "text": [
      "Model: \"deepsea_full\"\n",
      "_________________________________________________________________\n",
      "Layer (type)                 Output Shape              Param #   \n",
      "=================================================================\n",
      "conv1d (Conv1D)              (None, 993, 320)          10560     \n",
      "_________________________________________________________________\n",
      "max_pooling1d (MaxPooling1D) (None, 248, 320)          0         \n",
      "_________________________________________________________________\n",
      "dropout (Dropout)            (None, 248, 320)          0         \n",
      "_________________________________________________________________\n",
      "conv1d_1 (Conv1D)            (None, 241, 480)          1229280   \n",
      "_________________________________________________________________\n",
      "max_pooling1d_1 (MaxPooling1 (None, 30, 480)           0         \n",
      "_________________________________________________________________\n",
      "dropout_1 (Dropout)          (None, 30, 480)           0         \n",
      "_________________________________________________________________\n",
      "flatten (Flatten)            (None, 14400)             0         \n",
      "_________________________________________________________________\n",
      "dense (Dense)                (None, 1536)              22119936  \n",
      "_________________________________________________________________\n",
      "dense_1 (Dense)              (None, 31)                47647     \n",
      "=================================================================\n",
      "Total params: 23,407,423\n",
      "Trainable params: 23,407,423\n",
      "Non-trainable params: 0\n",
      "_________________________________________________________________\n"
     ]
    }
   ],
   "source": [
    "NUM_OUTPUTS = 31\n",
    "\n",
    "model = Sequential(\n",
    "    [\n",
    "        Input(shape=(1000, 4)),\n",
    "        Conv1D(320, kernel_size=8, activation=\"relu\"),\n",
    "        MaxPooling1D(pool_size=4, strides=4),\n",
    "        Dropout(0.2),\n",
    "        Conv1D(480, kernel_size=8, activation=\"relu\"),\n",
    "        MaxPooling1D(pool_size=8, strides=8),\n",
    "        Dropout(0.2),\n",
    "        Flatten(data_format=\"channels_first\"),\n",
    "        Dense(3*512, activation=\"relu\"),\n",
    "        Dense(NUM_OUTPUTS, activation=\"softmax\"),\n",
    "    ],\n",
    "    name=\"deepsea_full\",\n",
    ")\n",
    "\n",
    "model.summary()"
   ]
  },
  {
   "cell_type": "code",
   "execution_count": 3,
   "id": "challenging-hindu",
   "metadata": {
    "ExecuteTime": {
     "end_time": "2021-04-19T11:48:29.578935Z",
     "start_time": "2021-04-19T11:48:15.292044Z"
    }
   },
   "outputs": [],
   "source": [
    "es = EarlyStopping(monitor=\"val_loss\", patience=10)\n",
    "\n",
    "epochs = 250\n",
    "validation_freq = 1\n",
    "\n",
    "X_train, y_train, X_test, y_test = load_dataset(\n",
    "    file=\"FOX_3000\",\n",
    "    out_dir=\"/home/victor/Documents/datasets\",\n",
    "    labels=\"binlabels\"\n",
    ")\n",
    "\n",
    "X_train = rearrange(X_train, \"w h c -> w c h\")\n",
    "X_test = rearrange(X_test, \"w h c -> w c h\")"
   ]
  },
  {
   "cell_type": "code",
   "execution_count": 4,
   "id": "appropriate-bulgarian",
   "metadata": {
    "ExecuteTime": {
     "end_time": "2021-04-19T14:08:50.094521Z",
     "start_time": "2021-04-19T11:48:29.579909Z"
    },
    "scrolled": false
   },
   "outputs": [
    {
     "name": "stdout",
     "output_type": "stream",
     "text": [
      "Epoch 1/250\n",
      "10000/10000 - 541s - loss: 0.1575 - acc: 0.2252 - val_loss: 0.1453 - val_acc: 0.2896\n",
      "Epoch 2/250\n",
      "10000/10000 - 531s - loss: 0.1451 - acc: 0.2833 - val_loss: 0.1413 - val_acc: 0.2935\n",
      "Epoch 3/250\n",
      "10000/10000 - 531s - loss: 0.1432 - acc: 0.2882 - val_loss: 0.1404 - val_acc: 0.2951\n",
      "Epoch 4/250\n",
      "10000/10000 - 528s - loss: 0.1422 - acc: 0.2903 - val_loss: 0.1402 - val_acc: 0.2943\n",
      "Epoch 5/250\n",
      "10000/10000 - 525s - loss: 0.1414 - acc: 0.2924 - val_loss: 0.1403 - val_acc: 0.2939\n",
      "Epoch 6/250\n",
      "10000/10000 - 545s - loss: 0.1408 - acc: 0.2946 - val_loss: 0.1402 - val_acc: 0.2995\n",
      "Epoch 7/250\n",
      "10000/10000 - 540s - loss: 0.1401 - acc: 0.2961 - val_loss: 0.1404 - val_acc: 0.2975\n",
      "Epoch 8/250\n",
      "10000/10000 - 517s - loss: 0.1396 - acc: 0.2984 - val_loss: 0.1404 - val_acc: 0.2925\n",
      "Epoch 9/250\n",
      "10000/10000 - 504s - loss: 0.1391 - acc: 0.2998 - val_loss: 0.1411 - val_acc: 0.2949\n",
      "Epoch 10/250\n",
      "10000/10000 - 509s - loss: 0.1386 - acc: 0.3021 - val_loss: 0.1409 - val_acc: 0.2885\n",
      "Epoch 11/250\n",
      "10000/10000 - 506s - loss: 0.1380 - acc: 0.3033 - val_loss: 0.1414 - val_acc: 0.2931\n",
      "Epoch 12/250\n",
      "10000/10000 - 521s - loss: 0.1376 - acc: 0.3045 - val_loss: 0.1415 - val_acc: 0.2891\n",
      "Epoch 13/250\n",
      "10000/10000 - 533s - loss: 0.1371 - acc: 0.3064 - val_loss: 0.1411 - val_acc: 0.2911\n",
      "Epoch 14/250\n",
      "10000/10000 - 532s - loss: 0.1366 - acc: 0.3087 - val_loss: 0.1421 - val_acc: 0.2919\n",
      "Epoch 15/250\n",
      "10000/10000 - 519s - loss: 0.1361 - acc: 0.3104 - val_loss: 0.1424 - val_acc: 0.2889\n",
      "Epoch 16/250\n",
      "10000/10000 - 505s - loss: 0.1357 - acc: 0.3114 - val_loss: 0.1423 - val_acc: 0.2869\n"
     ]
    },
    {
     "data": {
      "image/png": "[encoded data removed]",
      "text/plain": [
       "<Figure size 432x288 with 1 Axes>"
      ]
     },
     "metadata": {
      "needs_background": "light"
     },
     "output_type": "display_data"
    },
    {
     "name": "stdout",
     "output_type": "stream",
     "text": [
      "Training time: 139.94 minutes\n"
     ]
    },
    {
     "ename": "ValueError",
     "evalue": "multilabel-indicator format is not supported",
     "output_type": "error",
     "traceback": [
      "\u001b[0;31m---------------------------------------------------------------------------\u001b[0m",
      "\u001b[0;31mValueError\u001b[0m                                Traceback (most recent call last)",
      "\u001b[0;32m<ipython-input-4-de335943164c>\u001b[0m in \u001b[0;36m<module>\u001b[0;34m\u001b[0m\n\u001b[1;32m     12\u001b[0m \u001b[0;34m\u001b[0m\u001b[0m\n\u001b[1;32m     13\u001b[0m \u001b[0my_pred\u001b[0m \u001b[0;34m=\u001b[0m \u001b[0mmodel\u001b[0m\u001b[0;34m.\u001b[0m\u001b[0mpredict\u001b[0m\u001b[0;34m(\u001b[0m\u001b[0mX_test\u001b[0m\u001b[0;34m)\u001b[0m\u001b[0;34m\u001b[0m\u001b[0;34m\u001b[0m\u001b[0m\n\u001b[0;32m---> 14\u001b[0;31m \u001b[0mplot_roc\u001b[0m\u001b[0;34m(\u001b[0m\u001b[0my_test\u001b[0m\u001b[0;34m,\u001b[0m \u001b[0my_pred\u001b[0m\u001b[0;34m)\u001b[0m\u001b[0;34m\u001b[0m\u001b[0;34m\u001b[0m\u001b[0m\n\u001b[0m\u001b[1;32m     15\u001b[0m \u001b[0mprint\u001b[0m\u001b[0;34m(\u001b[0m\u001b[0mauc\u001b[0m\u001b[0;34m(\u001b[0m\u001b[0my_test\u001b[0m\u001b[0;34m,\u001b[0m \u001b[0my_pred\u001b[0m\u001b[0;34m)\u001b[0m\u001b[0;34m)\u001b[0m\u001b[0;34m\u001b[0m\u001b[0;34m\u001b[0m\u001b[0m\n",
      "\u001b[0;32m~/Documents/GitHub/Genetics-ML/src/utils/evaluate.py\u001b[0m in \u001b[0;36mplot_roc\u001b[0;34m(y_true, y_score, boundaries)\u001b[0m\n\u001b[1;32m     20\u001b[0m         \u001b[0mplt\u001b[0m\u001b[0;34m.\u001b[0m\u001b[0mlegend\u001b[0m\u001b[0;34m(\u001b[0m\u001b[0;34m)\u001b[0m\u001b[0;34m\u001b[0m\u001b[0;34m\u001b[0m\u001b[0m\n\u001b[1;32m     21\u001b[0m     \u001b[0;32melse\u001b[0m\u001b[0;34m:\u001b[0m\u001b[0;34m\u001b[0m\u001b[0;34m\u001b[0m\u001b[0m\n\u001b[0;32m---> 22\u001b[0;31m         \u001b[0mfpr\u001b[0m\u001b[0;34m,\u001b[0m \u001b[0mtpr\u001b[0m\u001b[0;34m,\u001b[0m \u001b[0mthresholds\u001b[0m \u001b[0;34m=\u001b[0m \u001b[0mroc_curve\u001b[0m\u001b[0;34m(\u001b[0m\u001b[0my_true\u001b[0m\u001b[0;34m,\u001b[0m \u001b[0my_score\u001b[0m\u001b[0;34m)\u001b[0m\u001b[0;34m\u001b[0m\u001b[0;34m\u001b[0m\u001b[0m\n\u001b[0m\u001b[1;32m     23\u001b[0m         \u001b[0mplt\u001b[0m\u001b[0;34m.\u001b[0m\u001b[0mplot\u001b[0m\u001b[0;34m(\u001b[0m\u001b[0mfpr\u001b[0m\u001b[0;34m,\u001b[0m \u001b[0mtpr\u001b[0m\u001b[0;34m)\u001b[0m\u001b[0;34m\u001b[0m\u001b[0;34m\u001b[0m\u001b[0m\n\u001b[1;32m     24\u001b[0m     \u001b[0mplt\u001b[0m\u001b[0;34m.\u001b[0m\u001b[0mshow\u001b[0m\u001b[0;34m(\u001b[0m\u001b[0;34m)\u001b[0m\u001b[0;34m\u001b[0m\u001b[0;34m\u001b[0m\u001b[0m\n",
      "\u001b[0;32m~/miniconda3/envs/genetics/lib/python3.7/site-packages/sklearn/utils/validation.py\u001b[0m in \u001b[0;36minner_f\u001b[0;34m(*args, **kwargs)\u001b[0m\n\u001b[1;32m     61\u001b[0m             \u001b[0mextra_args\u001b[0m \u001b[0;34m=\u001b[0m \u001b[0mlen\u001b[0m\u001b[0;34m(\u001b[0m\u001b[0margs\u001b[0m\u001b[0;34m)\u001b[0m \u001b[0;34m-\u001b[0m \u001b[0mlen\u001b[0m\u001b[0;34m(\u001b[0m\u001b[0mall_args\u001b[0m\u001b[0;34m)\u001b[0m\u001b[0;34m\u001b[0m\u001b[0;34m\u001b[0m\u001b[0m\n\u001b[1;32m     62\u001b[0m             \u001b[0;32mif\u001b[0m \u001b[0mextra_args\u001b[0m \u001b[0;34m<=\u001b[0m \u001b[0;36m0\u001b[0m\u001b[0;34m:\u001b[0m\u001b[0;34m\u001b[0m\u001b[0;34m\u001b[0m\u001b[0m\n\u001b[0;32m---> 63\u001b[0;31m                 \u001b[0;32mreturn\u001b[0m \u001b[0mf\u001b[0m\u001b[0;34m(\u001b[0m\u001b[0;34m*\u001b[0m\u001b[0margs\u001b[0m\u001b[0;34m,\u001b[0m \u001b[0;34m**\u001b[0m\u001b[0mkwargs\u001b[0m\u001b[0;34m)\u001b[0m\u001b[0;34m\u001b[0m\u001b[0;34m\u001b[0m\u001b[0m\n\u001b[0m\u001b[1;32m     64\u001b[0m \u001b[0;34m\u001b[0m\u001b[0m\n\u001b[1;32m     65\u001b[0m             \u001b[0;31m# extra_args > 0\u001b[0m\u001b[0;34m\u001b[0m\u001b[0;34m\u001b[0m\u001b[0;34m\u001b[0m\u001b[0m\n",
      "\u001b[0;32m~/miniconda3/envs/genetics/lib/python3.7/site-packages/sklearn/metrics/_ranking.py\u001b[0m in \u001b[0;36mroc_curve\u001b[0;34m(y_true, y_score, pos_label, sample_weight, drop_intermediate)\u001b[0m\n\u001b[1;32m    912\u001b[0m     \"\"\"\n\u001b[1;32m    913\u001b[0m     fps, tps, thresholds = _binary_clf_curve(\n\u001b[0;32m--> 914\u001b[0;31m         y_true, y_score, pos_label=pos_label, sample_weight=sample_weight)\n\u001b[0m\u001b[1;32m    915\u001b[0m \u001b[0;34m\u001b[0m\u001b[0m\n\u001b[1;32m    916\u001b[0m     \u001b[0;31m# Attempt to drop thresholds corresponding to points in between and\u001b[0m\u001b[0;34m\u001b[0m\u001b[0;34m\u001b[0m\u001b[0;34m\u001b[0m\u001b[0m\n",
      "\u001b[0;32m~/miniconda3/envs/genetics/lib/python3.7/site-packages/sklearn/metrics/_ranking.py\u001b[0m in \u001b[0;36m_binary_clf_curve\u001b[0;34m(y_true, y_score, pos_label, sample_weight)\u001b[0m\n\u001b[1;32m    689\u001b[0m     if not (y_type == \"binary\" or\n\u001b[1;32m    690\u001b[0m             (y_type == \"multiclass\" and pos_label is not None)):\n\u001b[0;32m--> 691\u001b[0;31m         \u001b[0;32mraise\u001b[0m \u001b[0mValueError\u001b[0m\u001b[0;34m(\u001b[0m\u001b[0;34m\"{0} format is not supported\"\u001b[0m\u001b[0;34m.\u001b[0m\u001b[0mformat\u001b[0m\u001b[0;34m(\u001b[0m\u001b[0my_type\u001b[0m\u001b[0;34m)\u001b[0m\u001b[0;34m)\u001b[0m\u001b[0;34m\u001b[0m\u001b[0;34m\u001b[0m\u001b[0m\n\u001b[0m\u001b[1;32m    692\u001b[0m \u001b[0;34m\u001b[0m\u001b[0m\n\u001b[1;32m    693\u001b[0m     \u001b[0mcheck_consistent_length\u001b[0m\u001b[0;34m(\u001b[0m\u001b[0my_true\u001b[0m\u001b[0;34m,\u001b[0m \u001b[0my_score\u001b[0m\u001b[0;34m,\u001b[0m \u001b[0msample_weight\u001b[0m\u001b[0;34m)\u001b[0m\u001b[0;34m\u001b[0m\u001b[0;34m\u001b[0m\u001b[0m\n",
      "\u001b[0;31mValueError\u001b[0m: multilabel-indicator format is not supported"
     ]
    },
    {
     "data": {
      "image/png": "[encoded data removed]",
      "text/plain": [
       "<Figure size 432x288 with 1 Axes>"
      ]
     },
     "metadata": {
      "needs_background": "light"
     },
     "output_type": "display_data"
    }
   ],
   "source": [
    "model.compile(optimizer=Adam(lr=1e-3), loss=\"binary_crossentropy\", metrics=[\"acc\"])\n",
    "\n",
    "model = train(\n",
    "    dataset=(X_train, y_train, X_test, y_test),\n",
    "    model=model,\n",
    "    epochs=epochs,\n",
    "    verbose=2,\n",
    "    validation_freq=validation_freq,\n",
    "    callbacks=[es],\n",
    "    batch_size=100,\n",
    ")\n",
    "\n",
    "y_pred = model.predict(X_test)\n",
    "plot_roc(y_test, y_pred)\n",
    "print(auc(y_test, y_pred))"
   ]
  },
  {
   "cell_type": "markdown",
   "id": "considered-stereo",
   "metadata": {
    "ExecuteTime": {
     "end_time": "2021-04-19T11:47:58.715074Z",
     "start_time": "2021-04-19T11:47:39.729Z"
    }
   },
   "source": [
    "model.save(f\"../model_saves/evals/{model.name}-{n}000.h5\")"
   ]
  }
 ],
 "metadata": {
  "kernelspec": {
   "display_name": "Python 3",
   "language": "python",
   "name": "python3"
  },
  "language_info": {
   "codemirror_mode": {
    "name": "ipython",
    "version": 3
   },
   "file_extension": ".py",
   "mimetype": "text/x-python",
   "name": "python",
   "nbconvert_exporter": "python",
   "pygments_lexer": "ipython3",
   "version": "3.7.10"
  }
 },
 "nbformat": 4,
 "nbformat_minor": 5
}
