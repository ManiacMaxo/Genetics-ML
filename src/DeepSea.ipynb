{
 "cells": [
  {
   "cell_type": "code",
   "execution_count": null,
   "id": "involved-assist",
   "metadata": {
    "ExecuteTime": {
     "end_time": "2021-03-15T18:29:08.963567Z",
     "start_time": "2021-03-15T18:29:07.818571Z"
    }
   },
   "outputs": [],
   "source": [
    "from tensorflow.keras.models import Sequential\n",
    "from tensorflow.keras.layers import (\n",
    "    Conv1D,\n",
    "    MaxPooling1D,\n",
    "    LSTM,\n",
    "    Bidirectional,\n",
    "    Dropout,\n",
    "    Flatten,\n",
    "    Dense,\n",
    "    Input,\n",
    ")\n",
    "from tensorflow.keras.callbacks import EarlyStopping\n",
    "from tensorflow.keras.optimizers import Adam\n",
    "from tensorflow.keras import metrics\n",
    "\n",
    "from utils import load_dataset, train\n",
    "from einops import rearrange"
   ]
  },
  {
   "cell_type": "markdown",
   "id": "committed-subsection",
   "metadata": {},
   "source": [
    "[Reference](https://github.com/uci-cbcl/DanQ/blob/master/DanQ_train.py) "
   ]
  },
  {
   "cell_type": "code",
   "execution_count": null,
   "id": "biological-utility",
   "metadata": {
    "ExecuteTime": {
     "end_time": "2021-03-15T18:29:09.007659Z",
     "start_time": "2021-03-15T18:29:08.965021Z"
    }
   },
   "outputs": [],
   "source": [
    "from tensorflow.config import list_physical_devices\n",
    "\n",
    "print(list_physical_devices(\"GPU\"))"
   ]
  },
  {
   "cell_type": "code",
   "execution_count": null,
   "id": "split-shipping",
   "metadata": {
    "ExecuteTime": {
     "end_time": "2021-03-15T18:29:09.757676Z",
     "start_time": "2021-03-15T18:29:09.009167Z"
    }
   },
   "outputs": [],
   "source": [
    "model = Sequential(\n",
    "    [\n",
    "        Input(shape=(1000, 4)),\n",
    "        Conv1D(320, kernel_size=8, activation=\"relu\"),\n",
    "        MaxPooling1D(pool_size=4, strides=4),\n",
    "        Dropout(0.2),\n",
    "        Bidirectional(LSTM(2, return_sequences=True)),\n",
    "        Dropout(0.5),\n",
    "        Flatten(),\n",
    "        Dense(150 * 320, activation=\"relu\"),\n",
    "        Dense(1, activation=\"relu\"),\n",
    "    ]\n",
    ")"
   ]
  },
  {
   "cell_type": "code",
   "execution_count": null,
   "id": "challenging-hindu",
   "metadata": {
    "ExecuteTime": {
     "end_time": "2021-03-15T18:29:09.764737Z",
     "start_time": "2021-03-15T18:29:09.759072Z"
    }
   },
   "outputs": [],
   "source": [
    "es = EarlyStopping(monitor=\"val_loss\", patience=10)\n",
    "optimizer = Adam(lr=1e-3)\n",
    "\n",
    "epochs = 50\n",
    "validation_freq = 1"
   ]
  },
  {
   "cell_type": "code",
   "execution_count": null,
   "id": "appropriate-bulgarian",
   "metadata": {
    "ExecuteTime": {
     "start_time": "2021-03-15T18:29:07.820Z"
    },
    "scrolled": true
   },
   "outputs": [],
   "source": [
    "X_train, y_train, X_test, y_test = load_dataset(\n",
    "    file=f\"m0\",\n",
    "    directory=\"/home/victor/Documents/datasets/\",\n",
    "    labels=\"binlabels\",\n",
    "    download=False,\n",
    ")\n",
    "X_train = rearrange(X_train, \"w h c -> w c h\")\n",
    "X_test = rearrange(X_test, \"w h c -> w c h\")\n",
    "\n",
    "model.compile(optimizer=roptimizer, loss=\"binary_crossentropy\", metrics=[\"acc\"])\n",
    "\n",
    "model = train(\n",
    "    dataset=(X_train, y_train, X_test, y_test),\n",
    "    model=model,\n",
    "    epochs=epochs,\n",
    "    verbose=1,\n",
    "    validation_freq=validation_freq,\n",
    "    optimizer=optimizer,\n",
    "    callbacks=[es],\n",
    "    batch_size=100\n",
    ")\n"
   ]
  },
  {
   "cell_type": "code",
   "execution_count": null,
   "id": "prerequisite-samoa",
   "metadata": {},
   "outputs": [],
   "source": []
  }
 ],
 "metadata": {
  "kernelspec": {
   "display_name": "Python 3",
   "language": "python",
   "name": "python3"
  },
  "language_info": {
   "codemirror_mode": {
    "name": "ipython",
    "version": 3
   },
   "file_extension": ".py",
   "mimetype": "text/x-python",
   "name": "python",
   "nbconvert_exporter": "python",
   "pygments_lexer": "ipython3",
   "version": "3.7.10"
  }
 },
 "nbformat": 4,
 "nbformat_minor": 5
}
