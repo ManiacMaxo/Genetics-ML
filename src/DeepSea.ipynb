{
 "cells": [
  {
   "cell_type": "code",
   "execution_count": 1,
   "id": "involved-assist",
   "metadata": {
    "ExecuteTime": {
     "end_time": "2021-03-15T18:29:08.963567Z",
     "start_time": "2021-03-15T18:29:07.818571Z"
    }
   },
   "outputs": [
    {
     "data": {
      "application/javascript": [
       "\n",
       "            setTimeout(function() {\n",
       "                var nbb_cell_id = 1;\n",
       "                var nbb_unformatted_code = \"from tensorflow.keras.models import Sequential\\nfrom tensorflow.keras.layers import (\\n    Conv1D,\\n    MaxPooling1D,\\n    LSTM,\\n    Bidirectional,\\n    Dropout,\\n    Flatten,\\n    Dense,\\n    Input,\\n)\\nfrom tensorflow.keras.callbacks import EarlyStopping\\nfrom tensorflow.keras.optimizers import Adam\\nfrom tensorflow.keras import metrics\\n\\nfrom utils import load_dataset, train\\nfrom einops import rearrange\\nfrom sklearn.metrics import plot_roc_curve\";\n",
       "                var nbb_formatted_code = \"from tensorflow.keras.models import Sequential\\nfrom tensorflow.keras.layers import (\\n    Conv1D,\\n    MaxPooling1D,\\n    LSTM,\\n    Bidirectional,\\n    Dropout,\\n    Flatten,\\n    Dense,\\n    Input,\\n)\\nfrom tensorflow.keras.callbacks import EarlyStopping\\nfrom tensorflow.keras.optimizers import Adam\\nfrom tensorflow.keras import metrics\\n\\nfrom utils import load_dataset, train\\nfrom einops import rearrange\\nfrom sklearn.metrics import plot_roc_curve\";\n",
       "                var nbb_cells = Jupyter.notebook.get_cells();\n",
       "                for (var i = 0; i < nbb_cells.length; ++i) {\n",
       "                    if (nbb_cells[i].input_prompt_number == nbb_cell_id) {\n",
       "                        if (nbb_cells[i].get_text() == nbb_unformatted_code) {\n",
       "                             nbb_cells[i].set_text(nbb_formatted_code);\n",
       "                        }\n",
       "                        break;\n",
       "                    }\n",
       "                }\n",
       "            }, 500);\n",
       "            "
      ],
      "text/plain": [
       "<IPython.core.display.Javascript object>"
      ]
     },
     "metadata": {},
     "output_type": "display_data"
    }
   ],
   "source": [
    "from tensorflow.keras.models import Sequential\n",
    "from tensorflow.keras.layers import (\n",
    "    Conv1D,\n",
    "    MaxPooling1D,\n",
    "    LSTM,\n",
    "    Bidirectional,\n",
    "    Dropout,\n",
    "    Flatten,\n",
    "    Dense,\n",
    "    Input,\n",
    ")\n",
    "from tensorflow.keras.callbacks import EarlyStopping\n",
    "from tensorflow.keras.optimizers import Adam\n",
    "from tensorflow.keras import metrics\n",
    "\n",
    "from utils import load_dataset, train\n",
    "from einops import rearrange\n",
    "from sklearn.metrics import plot_roc_curve"
   ]
  },
  {
   "cell_type": "markdown",
   "id": "committed-subsection",
   "metadata": {},
   "source": [
    "[Reference](https://github.com/uci-cbcl/DanQ/blob/master/DanQ_train.py) "
   ]
  },
  {
   "cell_type": "code",
   "execution_count": 2,
   "id": "biological-utility",
   "metadata": {
    "ExecuteTime": {
     "end_time": "2021-03-15T18:29:09.007659Z",
     "start_time": "2021-03-15T18:29:08.965021Z"
    }
   },
   "outputs": [
    {
     "name": "stdout",
     "output_type": "stream",
     "text": [
      "[PhysicalDevice(name='/physical_device:GPU:0', device_type='GPU')]\n"
     ]
    },
    {
     "data": {
      "application/javascript": [
       "\n",
       "            setTimeout(function() {\n",
       "                var nbb_cell_id = 2;\n",
       "                var nbb_unformatted_code = \"from tensorflow.config import list_physical_devices\\n\\nprint(list_physical_devices(\\\"GPU\\\"))\";\n",
       "                var nbb_formatted_code = \"from tensorflow.config import list_physical_devices\\n\\nprint(list_physical_devices(\\\"GPU\\\"))\";\n",
       "                var nbb_cells = Jupyter.notebook.get_cells();\n",
       "                for (var i = 0; i < nbb_cells.length; ++i) {\n",
       "                    if (nbb_cells[i].input_prompt_number == nbb_cell_id) {\n",
       "                        if (nbb_cells[i].get_text() == nbb_unformatted_code) {\n",
       "                             nbb_cells[i].set_text(nbb_formatted_code);\n",
       "                        }\n",
       "                        break;\n",
       "                    }\n",
       "                }\n",
       "            }, 500);\n",
       "            "
      ],
      "text/plain": [
       "<IPython.core.display.Javascript object>"
      ]
     },
     "metadata": {},
     "output_type": "display_data"
    }
   ],
   "source": [
    "from tensorflow.config import list_physical_devices\n",
    "\n",
    "print(list_physical_devices(\"GPU\"))"
   ]
  },
  {
   "cell_type": "code",
   "execution_count": 3,
   "id": "split-shipping",
   "metadata": {
    "ExecuteTime": {
     "end_time": "2021-03-15T18:29:09.757676Z",
     "start_time": "2021-03-15T18:29:09.009167Z"
    }
   },
   "outputs": [
    {
     "data": {
      "application/javascript": [
       "\n",
       "            setTimeout(function() {\n",
       "                var nbb_cell_id = 3;\n",
       "                var nbb_unformatted_code = \"model = Sequential(\\n    [\\n        Input(shape=(1000, 4)),\\n        Conv1D(320, kernel_size=8, activation=\\\"relu\\\", name=\\\"conv1d_1\\\"),\\n        MaxPooling1D(pool_size=4, strides=4),\\n        Dropout(0.2),\\n        Bidirectional(LSTM(2, return_sequences=True)),\\n        Dropout(0.5),\\n        Flatten(),\\n        Dense(512, activation=\\\"relu\\\"),\\n        Dense(1, activation=\\\"relu\\\"),\\n    ]\\n)\";\n",
       "                var nbb_formatted_code = \"model = Sequential(\\n    [\\n        Input(shape=(1000, 4)),\\n        Conv1D(320, kernel_size=8, activation=\\\"relu\\\", name=\\\"conv1d_1\\\"),\\n        MaxPooling1D(pool_size=4, strides=4),\\n        Dropout(0.2),\\n        Bidirectional(LSTM(2, return_sequences=True)),\\n        Dropout(0.5),\\n        Flatten(),\\n        Dense(512, activation=\\\"relu\\\"),\\n        Dense(1, activation=\\\"relu\\\"),\\n    ]\\n)\";\n",
       "                var nbb_cells = Jupyter.notebook.get_cells();\n",
       "                for (var i = 0; i < nbb_cells.length; ++i) {\n",
       "                    if (nbb_cells[i].input_prompt_number == nbb_cell_id) {\n",
       "                        if (nbb_cells[i].get_text() == nbb_unformatted_code) {\n",
       "                             nbb_cells[i].set_text(nbb_formatted_code);\n",
       "                        }\n",
       "                        break;\n",
       "                    }\n",
       "                }\n",
       "            }, 500);\n",
       "            "
      ],
      "text/plain": [
       "<IPython.core.display.Javascript object>"
      ]
     },
     "metadata": {},
     "output_type": "display_data"
    }
   ],
   "source": [
    "model = Sequential(\n",
    "    [\n",
    "        Input(shape=(1000, 4)),\n",
    "        Conv1D(320, kernel_size=8, activation=\"relu\", name=\"conv1d_1\"),\n",
    "        MaxPooling1D(pool_size=4, strides=4),\n",
    "        Dropout(0.2),\n",
    "        Bidirectional(LSTM(2, return_sequences=True)),\n",
    "        Dropout(0.5),\n",
    "        Flatten(),\n",
    "        Dense(512, activation=\"relu\"),\n",
    "        Dense(1, activation=\"relu\"),\n",
    "    ]\n",
    ")"
   ]
  },
  {
   "cell_type": "code",
   "execution_count": 4,
   "id": "challenging-hindu",
   "metadata": {
    "ExecuteTime": {
     "end_time": "2021-03-15T18:29:09.764737Z",
     "start_time": "2021-03-15T18:29:09.759072Z"
    }
   },
   "outputs": [
    {
     "data": {
      "application/javascript": [
       "\n",
       "            setTimeout(function() {\n",
       "                var nbb_cell_id = 4;\n",
       "                var nbb_unformatted_code = \"es = EarlyStopping(monitor=\\\"loss\\\", patience=100)\\noptimizer = Adam(lr=1e-3)\\n\\nepochs = 50\\nvalidation_freq = 5\";\n",
       "                var nbb_formatted_code = \"es = EarlyStopping(monitor=\\\"loss\\\", patience=100)\\noptimizer = Adam(lr=1e-3)\\n\\nepochs = 50\\nvalidation_freq = 5\";\n",
       "                var nbb_cells = Jupyter.notebook.get_cells();\n",
       "                for (var i = 0; i < nbb_cells.length; ++i) {\n",
       "                    if (nbb_cells[i].input_prompt_number == nbb_cell_id) {\n",
       "                        if (nbb_cells[i].get_text() == nbb_unformatted_code) {\n",
       "                             nbb_cells[i].set_text(nbb_formatted_code);\n",
       "                        }\n",
       "                        break;\n",
       "                    }\n",
       "                }\n",
       "            }, 500);\n",
       "            "
      ],
      "text/plain": [
       "<IPython.core.display.Javascript object>"
      ]
     },
     "metadata": {},
     "output_type": "display_data"
    }
   ],
   "source": [
    "es = EarlyStopping(monitor=\"loss\", patience=100)\n",
    "optimizer = Adam(lr=1e-3)\n",
    "\n",
    "epochs = 50\n",
    "validation_freq = 5"
   ]
  },
  {
   "cell_type": "code",
   "execution_count": null,
   "id": "appropriate-bulgarian",
   "metadata": {
    "ExecuteTime": {
     "start_time": "2021-03-15T18:29:07.820Z"
    },
    "scrolled": true
   },
   "outputs": [
    {
     "name": "stdout",
     "output_type": "stream",
     "text": [
      "Epoch 1/50\n",
      " 225/3125 [=>............................] - ETA: 1:07 - loss: 0.2657"
     ]
    }
   ],
   "source": [
    "for n in [0, 1, 2, 3, 5, 8]:\n",
    "    X_train, y_train, X_test, y_test = load_dataset(\n",
    "        file=f\"m{n}\",\n",
    "        directory=\"/home/victor/Documents/datasets/\",\n",
    "        labels=\"binlabels\",\n",
    "        download=False,\n",
    "    )\n",
    "    X_train = rearrange(X_train, \"w h c -> w c h\")\n",
    "    X_test = rearrange(X_test, \"w h c -> w c h\")\n",
    "\n",
    "    model.compile(optimizer=Adam(), loss=\"binary_crossentropy\", metrics=[\"accuracy\", metrics.AUC()])\n",
    "\n",
    "    model = train(\n",
    "        dataset=(X_train, y_train, X_test, y_test),\n",
    "        model=model,\n",
    "        epochs=epochs,\n",
    "        verbose=1,\n",
    "        validation_freq=validation_freq,\n",
    "        optimizer=optimizer,\n",
    "        callbacks=[es],\n",
    "    )\n",
    "\n",
    "#     plot_roc(y_test, model.predict(X_test), boundaries)\n",
    "    plot_roc_curve(model, X_test, y_test)"
   ]
  },
  {
   "cell_type": "code",
   "execution_count": null,
   "id": "prerequisite-samoa",
   "metadata": {},
   "outputs": [],
   "source": []
  }
 ],
 "metadata": {
  "kernelspec": {
   "display_name": "Python 3",
   "language": "python",
   "name": "python3"
  },
  "language_info": {
   "codemirror_mode": {
    "name": "ipython",
    "version": 3
   },
   "file_extension": ".py",
   "mimetype": "text/x-python",
   "name": "python",
   "nbconvert_exporter": "python",
   "pygments_lexer": "ipython3",
   "version": "3.7.10"
  }
 },
 "nbformat": 4,
 "nbformat_minor": 5
}
