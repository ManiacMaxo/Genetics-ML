{
 "cells": [
  {
   "cell_type": "code",
   "execution_count": 1,
   "metadata": {
    "ExecuteTime": {
     "end_time": "2021-03-18T20:07:30.811119Z",
     "start_time": "2021-03-18T20:07:29.683062Z"
    }
   },
   "outputs": [
    {
     "data": {
      "application/javascript": [
       "\n",
       "            setTimeout(function() {\n",
       "                var nbb_cell_id = 1;\n",
       "                var nbb_unformatted_code = \"from os import listdir\\nfrom time import time\\n\\nimport matplotlib.pyplot as plt\\nimport numpy as np\\nfrom tensorflow import math\\nfrom tensorflow.keras.callbacks import EarlyStopping, LearningRateScheduler\\nfrom tensorflow.keras.models import load_model\\nfrom tensorflow.keras.optimizers import Adam\\n\\nfrom utils import auc, load_dataset, plot_roc, train\\nfrom einops import rearrange\";\n",
       "                var nbb_formatted_code = \"from os import listdir\\nfrom time import time\\n\\nimport matplotlib.pyplot as plt\\nimport numpy as np\\nfrom tensorflow import math\\nfrom tensorflow.keras.callbacks import EarlyStopping, LearningRateScheduler\\nfrom tensorflow.keras.models import load_model\\nfrom tensorflow.keras.optimizers import Adam\\n\\nfrom utils import auc, load_dataset, plot_roc, train\\nfrom einops import rearrange\";\n",
       "                var nbb_cells = Jupyter.notebook.get_cells();\n",
       "                for (var i = 0; i < nbb_cells.length; ++i) {\n",
       "                    if (nbb_cells[i].input_prompt_number == nbb_cell_id) {\n",
       "                        if (nbb_cells[i].get_text() == nbb_unformatted_code) {\n",
       "                             nbb_cells[i].set_text(nbb_formatted_code);\n",
       "                        }\n",
       "                        break;\n",
       "                    }\n",
       "                }\n",
       "            }, 500);\n",
       "            "
      ],
      "text/plain": [
       "<IPython.core.display.Javascript object>"
      ]
     },
     "metadata": {},
     "output_type": "display_data"
    }
   ],
   "source": [
    "from os import listdir\n",
    "from time import time\n",
    "\n",
    "import matplotlib.pyplot as plt\n",
    "import numpy as np\n",
    "from tensorflow import math\n",
    "from tensorflow.keras.callbacks import EarlyStopping, LearningRateScheduler\n",
    "from tensorflow.keras.models import load_model\n",
    "from tensorflow.keras.optimizers import Adam\n",
    "\n",
    "from utils import auc, load_dataset, plot_roc, train\n",
    "from einops import rearrange"
   ]
  },
  {
   "cell_type": "code",
   "execution_count": 2,
   "metadata": {
    "ExecuteTime": {
     "end_time": "2021-03-18T20:07:33.149718Z",
     "start_time": "2021-03-18T20:07:33.145059Z"
    }
   },
   "outputs": [
    {
     "data": {
      "application/javascript": [
       "\n",
       "            setTimeout(function() {\n",
       "                var nbb_cell_id = 2;\n",
       "                var nbb_unformatted_code = \"def schedule(epoch, lr) -> float:\\n    if epoch >= 200 and epoch % 25 == 0:\\n        lr = lr * math.exp(-0.1)\\n    return lr\";\n",
       "                var nbb_formatted_code = \"def schedule(epoch, lr) -> float:\\n    if epoch >= 200 and epoch % 25 == 0:\\n        lr = lr * math.exp(-0.1)\\n    return lr\";\n",
       "                var nbb_cells = Jupyter.notebook.get_cells();\n",
       "                for (var i = 0; i < nbb_cells.length; ++i) {\n",
       "                    if (nbb_cells[i].input_prompt_number == nbb_cell_id) {\n",
       "                        if (nbb_cells[i].get_text() == nbb_unformatted_code) {\n",
       "                             nbb_cells[i].set_text(nbb_formatted_code);\n",
       "                        }\n",
       "                        break;\n",
       "                    }\n",
       "                }\n",
       "            }, 500);\n",
       "            "
      ],
      "text/plain": [
       "<IPython.core.display.Javascript object>"
      ]
     },
     "metadata": {},
     "output_type": "display_data"
    }
   ],
   "source": [
    "def schedule(epoch, lr) -> float:\n",
    "    if epoch >= 200 and epoch % 25 == 0:\n",
    "        lr = lr * math.exp(-0.1)\n",
    "    return lr"
   ]
  },
  {
   "cell_type": "code",
   "execution_count": 4,
   "metadata": {
    "ExecuteTime": {
     "end_time": "2021-03-18T20:08:30.611737Z",
     "start_time": "2021-03-18T20:08:30.606101Z"
    }
   },
   "outputs": [
    {
     "data": {
      "application/javascript": [
       "\n",
       "            setTimeout(function() {\n",
       "                var nbb_cell_id = 4;\n",
       "                var nbb_unformatted_code = \"scheduler = LearningRateScheduler(schedule)\\nes = EarlyStopping(monitor=\\\"loss\\\", patience=5)\\noptimizer = Adam(lr=1e-4)\\n\\nepochs = 1500\\nvalidation_freq = 2\\n# boundaries = [100, 300, 500, 1000, 2500, 5000]\\nfname = \\\"model_2.h5\\\"\";\n",
       "                var nbb_formatted_code = \"scheduler = LearningRateScheduler(schedule)\\nes = EarlyStopping(monitor=\\\"loss\\\", patience=5)\\noptimizer = Adam(lr=1e-4)\\n\\nepochs = 1500\\nvalidation_freq = 2\\n# boundaries = [100, 300, 500, 1000, 2500, 5000]\\nfname = \\\"model_2.h5\\\"\";\n",
       "                var nbb_cells = Jupyter.notebook.get_cells();\n",
       "                for (var i = 0; i < nbb_cells.length; ++i) {\n",
       "                    if (nbb_cells[i].input_prompt_number == nbb_cell_id) {\n",
       "                        if (nbb_cells[i].get_text() == nbb_unformatted_code) {\n",
       "                             nbb_cells[i].set_text(nbb_formatted_code);\n",
       "                        }\n",
       "                        break;\n",
       "                    }\n",
       "                }\n",
       "            }, 500);\n",
       "            "
      ],
      "text/plain": [
       "<IPython.core.display.Javascript object>"
      ]
     },
     "metadata": {},
     "output_type": "display_data"
    }
   ],
   "source": [
    "scheduler = LearningRateScheduler(schedule)\n",
    "es = EarlyStopping(monitor=\"loss\", patience=5)\n",
    "optimizer = Adam(lr=1e-4)\n",
    "\n",
    "epochs = 1500\n",
    "validation_freq = 2\n",
    "# boundaries = [100, 300, 500, 1000, 2500, 5000]\n",
    "fname = \"model_2.h5\""
   ]
  },
  {
   "cell_type": "raw",
   "metadata": {
    "scrolled": true
   },
   "source": [
    "%%time\n",
    "for n in [1, 2, 3, 5, 10]:\n",
    "    print(f'-------------- Starting {fname.replace(\".h5\", \"\")} on boundary {n}000 --------------')\n",
    "    model = load_model(f'../model_saves/eval_models/{fname}', compile=False)\n",
    "    X_train, y_train, X_test, y_test = load_dataset(f'MA0035_{n}000', labels=\"binlabels\")\n",
    "    X_train = rearrange(X_train, \"w h c -> w c h\")\n",
    "    X_test = rearrange(X_test, \"w h c -> w c h\")\n",
    "    \n",
    "    model.compile(optimizer=optimizer, loss=\"binary_crossentropy\", metrics=[\"acc\"])\n",
    "\n",
    "    model = train(dataset=(X_train, y_train, X_test, y_test),\n",
    "                  model=model,\n",
    "                  epochs=epochs,\n",
    "                  verbose=1,\n",
    "                  validation_freq=validation_freq,\n",
    "                  callbacks=[scheduler, es],\n",
    "                 )\n",
    "\n",
    "    plot_roc(y_test, model.predict(X_test), [0.5])\n",
    "    for boundary in boundaries:\n",
    "        print(f'Boundary: {boundary}\\tAUC: {auc(y_test, model.predict(X_test), boundary):.5f}')\n",
    "\n",
    "    model.save(f'../model_saves/evals/{fname.replace(\".h5\", \"\")}-{n}.h5')"
   ]
  },
  {
   "cell_type": "code",
   "execution_count": 5,
   "metadata": {
    "ExecuteTime": {
     "end_time": "2021-03-18T20:08:35.152114Z",
     "start_time": "2021-03-18T20:08:33.634018Z"
    }
   },
   "outputs": [
    {
     "data": {
      "application/javascript": [
       "\n",
       "            setTimeout(function() {\n",
       "                var nbb_cell_id = 5;\n",
       "                var nbb_unformatted_code = \"model = load_model('../model_saves/evals/danq_small-2000.h5')\";\n",
       "                var nbb_formatted_code = \"model = load_model(\\\"../model_saves/evals/danq_small-2000.h5\\\")\";\n",
       "                var nbb_cells = Jupyter.notebook.get_cells();\n",
       "                for (var i = 0; i < nbb_cells.length; ++i) {\n",
       "                    if (nbb_cells[i].input_prompt_number == nbb_cell_id) {\n",
       "                        if (nbb_cells[i].get_text() == nbb_unformatted_code) {\n",
       "                             nbb_cells[i].set_text(nbb_formatted_code);\n",
       "                        }\n",
       "                        break;\n",
       "                    }\n",
       "                }\n",
       "            }, 500);\n",
       "            "
      ],
      "text/plain": [
       "<IPython.core.display.Javascript object>"
      ]
     },
     "metadata": {},
     "output_type": "display_data"
    }
   ],
   "source": [
    "model = load_model('../model_saves/evals/danq_small-2000.h5')"
   ]
  },
  {
   "cell_type": "code",
   "execution_count": 11,
   "metadata": {
    "ExecuteTime": {
     "end_time": "2021-03-18T20:13:16.305249Z",
     "start_time": "2021-03-18T20:13:14.898751Z"
    }
   },
   "outputs": [
    {
     "data": {
      "application/javascript": [
       "\n",
       "            setTimeout(function() {\n",
       "                var nbb_cell_id = 11;\n",
       "                var nbb_unformatted_code = \"X_train, y_train, X_test, y_test = load_dataset(\\\"FOX\\\")\\n\\nX_train = rearrange(X_train, \\\"w h c -> w c h\\\")\\nX_test = rearrange(X_test, \\\"w h c -> w c h\\\")\\n\\ny_train = rearrange(np.where(y_train < 5000, 0, 1), \\\"w h -> h w\\\")\\ny_test = rearrange(np.where(y_test < 5000, 0, 1), \\\"w h -> h w\\\")\";\n",
       "                var nbb_formatted_code = \"X_train, y_train, X_test, y_test = load_dataset(\\\"FOX\\\")\\n\\nX_train = rearrange(X_train, \\\"w h c -> w c h\\\")\\nX_test = rearrange(X_test, \\\"w h c -> w c h\\\")\\n\\ny_train = rearrange(np.where(y_train < 5000, 0, 1), \\\"w h -> h w\\\")\\ny_test = rearrange(np.where(y_test < 5000, 0, 1), \\\"w h -> h w\\\")\";\n",
       "                var nbb_cells = Jupyter.notebook.get_cells();\n",
       "                for (var i = 0; i < nbb_cells.length; ++i) {\n",
       "                    if (nbb_cells[i].input_prompt_number == nbb_cell_id) {\n",
       "                        if (nbb_cells[i].get_text() == nbb_unformatted_code) {\n",
       "                             nbb_cells[i].set_text(nbb_formatted_code);\n",
       "                        }\n",
       "                        break;\n",
       "                    }\n",
       "                }\n",
       "            }, 500);\n",
       "            "
      ],
      "text/plain": [
       "<IPython.core.display.Javascript object>"
      ]
     },
     "metadata": {},
     "output_type": "display_data"
    }
   ],
   "source": [
    "X_train, y_train, X_test, y_test = load_dataset(\"FOX\")\n",
    "\n",
    "X_train = rearrange(X_train, \"w h c -> w c h\")\n",
    "X_test = rearrange(X_test, \"w h c -> w c h\")\n",
    "\n",
    "y_train = rearrange(np.where(y_train < 5000, 0, 1), \"w h -> h w\")\n",
    "y_test = rearrange(np.where(y_test < 5000, 0, 1), \"w h -> h w\")"
   ]
  },
  {
   "cell_type": "code",
   "execution_count": 37,
   "metadata": {
    "ExecuteTime": {
     "end_time": "2021-03-18T20:29:43.051974Z",
     "start_time": "2021-03-18T20:29:03.569679Z"
    }
   },
   "outputs": [
    {
     "name": "stdout",
     "output_type": "stream",
     "text": [
      "0 0.4815097940979465\n",
      "1 0.4775075075075076\n",
      "2 0.4864659436747327\n",
      "3 0.432095676541233\n",
      "4 0.4854589187120757\n",
      "5 0.5315396697510518\n",
      "6 0.6109331197436925\n",
      "7 0.560958395989975\n",
      "8 0.4652246219097048\n",
      "9 0.5502682606469422\n",
      "10 0.43753058298196645\n",
      "11 0.5039979899497486\n",
      "12 0.490185370741483\n",
      "13 0.47394890364111847\n",
      "14 0.4632103982744783\n",
      "15 0.399459513562206\n",
      "16 0.4969922889991231\n",
      "17 0.5748702632171466\n",
      "18 0.5545291737087745\n",
      "19 0.5431595276220976\n",
      "20 0.530642878586439\n",
      "continue\n",
      "22 0.506256986788618\n",
      "23 0.5261726547209307\n",
      "24 0.5268678874459789\n",
      "25 0.4312197049870001\n",
      "26 0.5305691871140044\n",
      "27 0.5005227546659848\n",
      "28 0.5338293169090307\n",
      "29 0.4679502965847904\n",
      "continue\n"
     ]
    },
    {
     "data": {
      "application/javascript": [
       "\n",
       "            setTimeout(function() {\n",
       "                var nbb_cell_id = 37;\n",
       "                var nbb_unformatted_code = \"for i, labels in enumerate(y_test):\\n    if np.all(labels == labels[0]):\\n        print(\\\"continue\\\")\\n        continue\\n    print(i, auc(labels, model.predict(X_test)))\\n#     print(f\\\"{i} accuracy: {model.evaluate(X_test, labels, verbose=0)[1]}\\\")\";\n",
       "                var nbb_formatted_code = \"for i, labels in enumerate(y_test):\\n    if np.all(labels == labels[0]):\\n        print(\\\"continue\\\")\\n        continue\\n    print(i, auc(labels, model.predict(X_test)))\\n#     print(f\\\"{i} accuracy: {model.evaluate(X_test, labels, verbose=0)[1]}\\\")\";\n",
       "                var nbb_cells = Jupyter.notebook.get_cells();\n",
       "                for (var i = 0; i < nbb_cells.length; ++i) {\n",
       "                    if (nbb_cells[i].input_prompt_number == nbb_cell_id) {\n",
       "                        if (nbb_cells[i].get_text() == nbb_unformatted_code) {\n",
       "                             nbb_cells[i].set_text(nbb_formatted_code);\n",
       "                        }\n",
       "                        break;\n",
       "                    }\n",
       "                }\n",
       "            }, 500);\n",
       "            "
      ],
      "text/plain": [
       "<IPython.core.display.Javascript object>"
      ]
     },
     "metadata": {},
     "output_type": "display_data"
    }
   ],
   "source": [
    "for i, labels in enumerate(y_test):\n",
    "    if np.all(labels == labels[0]):\n",
    "        print(\"continue\")\n",
    "        continue\n",
    "    print(i, auc(labels, model.predict(X_test)))\n",
    "#     print(f\"{i} accuracy: {model.evaluate(X_test, labels, verbose=0)[1]}\")"
   ]
  },
  {
   "cell_type": "code",
   "execution_count": null,
   "metadata": {},
   "outputs": [],
   "source": []
  }
 ],
 "metadata": {
  "kernelspec": {
   "display_name": "Python 3",
   "language": "python",
   "name": "python3"
  },
  "language_info": {
   "codemirror_mode": {
    "name": "ipython",
    "version": 3
   },
   "file_extension": ".py",
   "mimetype": "text/x-python",
   "name": "python",
   "nbconvert_exporter": "python",
   "pygments_lexer": "ipython3",
   "version": "3.7.10"
  }
 },
 "nbformat": 4,
 "nbformat_minor": 4
}
