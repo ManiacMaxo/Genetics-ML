{
 "cells": [
  {
   "cell_type": "code",
   "execution_count": 27,
   "metadata": {},
   "outputs": [],
   "source": [
    "from tensorflow.keras import Model\n",
    "from tensorflow.keras.layers import Input, Dropout, Dense, Reshape\n",
    "from tensorflow.keras.optimizers import Adam\n",
    "from tensorflow.keras.callbacks import EarlyStopping\n",
    "from tensorflow.keras.backend import clear_session\n",
    "\n",
    "import numpy as np\n",
    "import matplotlib.pyplot as plt\n",
    "from transformer import TransformerBlock, TokenAndPositionEmbedding\n",
    "from utils import load_dataset, train"
   ]
  },
  {
   "cell_type": "code",
   "execution_count": 52,
   "metadata": {},
   "outputs": [],
   "source": [
    "X_train, y_train, X_test, y_test = load_dataset('decoded')"
   ]
  },
  {
   "cell_type": "code",
   "execution_count": 55,
   "metadata": {
    "scrolled": true
   },
   "outputs": [
    {
     "name": "stdout",
     "output_type": "stream",
     "text": [
      "Model: \"model\"\n",
      "_________________________________________________________________\n",
      "Layer (type)                 Output Shape              Param #   \n",
      "=================================================================\n",
      "input_1 (InputLayer)         [(None, 1000)]            0         \n",
      "_________________________________________________________________\n",
      "token_and_position_embedding (None, 1000, 8)           8032      \n",
      "_________________________________________________________________\n",
      "transformer_block (Transform (None, 1000, 8)           872       \n",
      "_________________________________________________________________\n",
      "dense_6 (Dense)              (None, 1000, 64)          576       \n",
      "_________________________________________________________________\n",
      "dropout_2 (Dropout)          (None, 1000, 64)          0         \n",
      "_________________________________________________________________\n",
      "dense_7 (Dense)              (None, 1000, 31)          2015      \n",
      "=================================================================\n",
      "Total params: 11,495\n",
      "Trainable params: 11,495\n",
      "Non-trainable params: 0\n",
      "_________________________________________________________________\n"
     ]
    }
   ],
   "source": [
    "sample_size = 4 # A C G T\n",
    "embed_dim = 8 # Embedding size for each token\n",
    "num_heads = 4 # Number of attention heads\n",
    "ff_dim = 32 # Hidden layer size of feed forward inside transformer\n",
    "max_len = 1000\n",
    "\n",
    "clear_session()\n",
    "\n",
    "inputs = Input(shape=(max_len,))\n",
    "\n",
    "x = TokenAndPositionEmbedding(max_len, sample_size, embed_dim)(inputs)\n",
    "x = TransformerBlock(embed_dim, num_heads, ff_dim)(x)\n",
    "x = Dense(64, activation='relu')(x)\n",
    "x = Dropout(0.2)(x)\n",
    "\n",
    "outputs = Dense(31, activation='relu')(x)\n",
    "\n",
    "model = Model(inputs, outputs)\n",
    "\n",
    "model.summary()"
   ]
  },
  {
   "cell_type": "code",
   "execution_count": 37,
   "metadata": {},
   "outputs": [],
   "source": [
    "es = EarlyStopping(monitor='loss', patience=15, verbose=1)\n",
    "optimizer = Adam(lr=1e-3)\n",
    "\n",
    "epochs = 1500\n",
    "validation_freq = 5\n",
    "boundaries = [100, 300, 500, 1000, 2500, 5000]"
   ]
  },
  {
   "cell_type": "code",
   "execution_count": 56,
   "metadata": {
    "scrolled": true
   },
   "outputs": [
    {
     "name": "stdout",
     "output_type": "stream",
     "text": [
      "Epoch 1/1500\n"
     ]
    },
    {
     "data": {
      "text/plain": [
       "173.63389587402344"
      ]
     },
     "execution_count": 8,
     "metadata": {},
     "output_type": "execute_result"
    }
   ],
   "source": [
    "model.evaluate(np.array([x.T for x in X_test]), y_test)"
   ]
  },
  {
   "cell_type": "code",
   "execution_count": 1,
   "metadata": {},
   "outputs": [],
   "source": [
    "from tensorflow.keras.models import load_model\n",
    "from evaluate import AUC\n",
    "model = load_model('../model_saves/transformer.h5')"
   ]
  },
  {
   "cell_type": "code",
   "execution_count": 7,
   "metadata": {},
   "outputs": [
    {
     "name": "stdout",
     "output_type": "stream",
     "text": [
      "{'false negative': 5717, 'true negative': 4283}\n",
      "CPU times: user 3 s, sys: 257 ms, total: 3.26 s\n",
      "Wall time: 6.07 s\n"
     ]
    }
   ],
   "source": [
    "%%time\n",
    "model = train(dataset=(X_train, y_train, X_test, y_test),\n",
    "              model=model,\n",
    "              epochs=epochs,\n",
    "              verbose=1,\n",
    "              validation_freq=validation_freq,\n",
    "              optimizer=optimizer,\n",
    "              callbacks=[es])\n"
   ]
  },
  {
   "cell_type": "code",
   "execution_count": null,
   "metadata": {},
   "outputs": [],
   "source": []
  }
 ],
 "metadata": {
  "kernelspec": {
   "display_name": "Python 3",
   "language": "python",
   "name": "python3"
  },
  "language_info": {
   "codemirror_mode": {
    "name": "ipython",
    "version": 3
   },
   "file_extension": ".py",
   "mimetype": "text/x-python",
   "name": "python",
   "nbconvert_exporter": "python",
   "pygments_lexer": "ipython3",
   "version": "3.8.8"
  }
 },
 "nbformat": 4,
 "nbformat_minor": 4
}
