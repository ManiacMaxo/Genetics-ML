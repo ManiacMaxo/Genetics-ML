{
 "cells": [
  {
   "cell_type": "code",
   "execution_count": 1,
   "id": "revolutionary-clerk",
   "metadata": {},
   "outputs": [
    {
     "data": {
      "application/javascript": [
       "\n",
       "            setTimeout(function() {\n",
       "                var nbb_cell_id = 1;\n",
       "                var nbb_unformatted_code = \"from tensorflow.keras.models import load_model\\nfrom os import listdir\";\n",
       "                var nbb_formatted_code = \"from tensorflow.keras.models import load_model\\nfrom os import listdir\";\n",
       "                var nbb_cells = Jupyter.notebook.get_cells();\n",
       "                for (var i = 0; i < nbb_cells.length; ++i) {\n",
       "                    if (nbb_cells[i].input_prompt_number == nbb_cell_id) {\n",
       "                        if (nbb_cells[i].get_text() == nbb_unformatted_code) {\n",
       "                             nbb_cells[i].set_text(nbb_formatted_code);\n",
       "                        }\n",
       "                        break;\n",
       "                    }\n",
       "                }\n",
       "            }, 500);\n",
       "            "
      ],
      "text/plain": [
       "<IPython.core.display.Javascript object>"
      ]
     },
     "metadata": {},
     "output_type": "display_data"
    }
   ],
   "source": [
    "from tensorflow.keras.models import load_model\n",
    "from os import listdir"
   ]
  },
  {
   "cell_type": "code",
   "execution_count": 2,
   "id": "directed-competition",
   "metadata": {},
   "outputs": [
    {
     "data": {
      "application/javascript": [
       "\n",
       "            setTimeout(function() {\n",
       "                var nbb_cell_id = 2;\n",
       "                var nbb_unformatted_code = \"from tensorflow.keras.models import Sequential\\nfrom tensorflow.keras.layers import (\\n    Dense,\\n    LSTM,\\n    Dropout,\\n    Bidirectional,\\n    Conv1D,\\n    MaxPooling1D,\\n    Dropout,\\n    Input,\\n)\\nfrom tensorflow.keras.backend import clear_session\";\n",
       "                var nbb_formatted_code = \"from tensorflow.keras.models import Sequential\\nfrom tensorflow.keras.layers import (\\n    Dense,\\n    LSTM,\\n    Dropout,\\n    Bidirectional,\\n    Conv1D,\\n    MaxPooling1D,\\n    Dropout,\\n    Input,\\n)\\nfrom tensorflow.keras.backend import clear_session\";\n",
       "                var nbb_cells = Jupyter.notebook.get_cells();\n",
       "                for (var i = 0; i < nbb_cells.length; ++i) {\n",
       "                    if (nbb_cells[i].input_prompt_number == nbb_cell_id) {\n",
       "                        if (nbb_cells[i].get_text() == nbb_unformatted_code) {\n",
       "                             nbb_cells[i].set_text(nbb_formatted_code);\n",
       "                        }\n",
       "                        break;\n",
       "                    }\n",
       "                }\n",
       "            }, 500);\n",
       "            "
      ],
      "text/plain": [
       "<IPython.core.display.Javascript object>"
      ]
     },
     "metadata": {},
     "output_type": "display_data"
    }
   ],
   "source": [
    "from tensorflow.keras.models import Sequential\n",
    "from tensorflow.keras.layers import (\n",
    "    Dense,\n",
    "    LSTM,\n",
    "    Dropout,\n",
    "    Bidirectional,\n",
    "    Conv1D,\n",
    "    MaxPooling1D,\n",
    "    Dropout,\n",
    "    Input,\n",
    ")\n",
    "from tensorflow.keras.backend import clear_session"
   ]
  },
  {
   "cell_type": "code",
   "execution_count": 3,
   "id": "positive-truck",
   "metadata": {},
   "outputs": [
    {
     "data": {
      "application/javascript": [
       "\n",
       "            setTimeout(function() {\n",
       "                var nbb_cell_id = 3;\n",
       "                var nbb_unformatted_code = \"clear_session()\\nmodels = [\\n    Sequential(\\n        [  # model_0\\n            Input((1000, 4)),\\n            LSTM(2),\\n            Dropout(0.5),\\n            Dense(4096, activation=\\\"relu\\\"),\\n            Dense(1, activation=\\\"relu\\\"),\\n        ]\\n    ),\\n    Sequential(\\n        [  # model_1\\n            Input((1000, 4)),\\n            Bidirectional(LSTM(4)),\\n            Dropout(0.5),\\n            Dense(4096, activation=\\\"relu\\\"),\\n            Dense(1, activation=\\\"relu\\\"),\\n        ]\\n    ),\\n    Sequential([ # model_2\\n        Input((1000, 4)),\\n        Conv1D(256, kernel_size=8, activation=\\\"relu\\\"),\\n        MaxPooling1D(pool_size=13, strides=13),\\n        Dropout(0.3),\\n        Bidirectional(LSTM(4, return_sequences=True)),\\n        Dropout(0.5),\\n        Dense(4096, activation=\\\"relu\\\"),\\n        Dense(1, activation=\\\"relu\\\"),\\n    ])\\n]\";\n",
       "                var nbb_formatted_code = \"clear_session()\\nmodels = [\\n    Sequential(\\n        [  # model_0\\n            Input((1000, 4)),\\n            LSTM(2),\\n            Dropout(0.5),\\n            Dense(4096, activation=\\\"relu\\\"),\\n            Dense(1, activation=\\\"relu\\\"),\\n        ]\\n    ),\\n    Sequential(\\n        [  # model_1\\n            Input((1000, 4)),\\n            Bidirectional(LSTM(4)),\\n            Dropout(0.5),\\n            Dense(4096, activation=\\\"relu\\\"),\\n            Dense(1, activation=\\\"relu\\\"),\\n        ]\\n    ),\\n    Sequential(\\n        [  # model_2\\n            Input((1000, 4)),\\n            Conv1D(256, kernel_size=8, activation=\\\"relu\\\"),\\n            MaxPooling1D(pool_size=13, strides=13),\\n            Dropout(0.3),\\n            Bidirectional(LSTM(4, return_sequences=True)),\\n            Dropout(0.5),\\n            Dense(4096, activation=\\\"relu\\\"),\\n            Dense(1, activation=\\\"relu\\\"),\\n        ]\\n    ),\\n]\";\n",
       "                var nbb_cells = Jupyter.notebook.get_cells();\n",
       "                for (var i = 0; i < nbb_cells.length; ++i) {\n",
       "                    if (nbb_cells[i].input_prompt_number == nbb_cell_id) {\n",
       "                        if (nbb_cells[i].get_text() == nbb_unformatted_code) {\n",
       "                             nbb_cells[i].set_text(nbb_formatted_code);\n",
       "                        }\n",
       "                        break;\n",
       "                    }\n",
       "                }\n",
       "            }, 500);\n",
       "            "
      ],
      "text/plain": [
       "<IPython.core.display.Javascript object>"
      ]
     },
     "metadata": {},
     "output_type": "display_data"
    }
   ],
   "source": [
    "clear_session()\n",
    "models = [\n",
    "    Sequential(\n",
    "        [  # model_0\n",
    "            Input((1000, 4)),\n",
    "            LSTM(2),\n",
    "            Dropout(0.5),\n",
    "            Dense(4096, activation=\"relu\"),\n",
    "            Dense(1, activation=\"relu\"),\n",
    "        ]\n",
    "    ),\n",
    "    Sequential(\n",
    "        [  # model_1\n",
    "            Input((1000, 4)),\n",
    "            Bidirectional(LSTM(4)),\n",
    "            Dropout(0.5),\n",
    "            Dense(4096, activation=\"relu\"),\n",
    "            Dense(1, activation=\"relu\"),\n",
    "        ]\n",
    "    ),\n",
    "    Sequential(\n",
    "        [  # model_2\n",
    "            Input((1000, 4)),\n",
    "            Conv1D(256, kernel_size=8, activation=\"relu\"),\n",
    "            MaxPooling1D(pool_size=13, strides=13),\n",
    "            Dropout(0.3),\n",
    "            Bidirectional(LSTM(4, return_sequences=True)),\n",
    "            Dropout(0.5),\n",
    "            Dense(4096, activation=\"relu\"),\n",
    "            Dense(1, activation=\"relu\"),\n",
    "        ]\n",
    "    ),\n",
    "]"
   ]
  },
  {
   "cell_type": "code",
   "execution_count": 4,
   "id": "suitable-palestine",
   "metadata": {},
   "outputs": [
    {
     "name": "stdout",
     "output_type": "stream",
     "text": [
      "Model: \"sequential\"\n",
      "_________________________________________________________________\n",
      "Layer (type)                 Output Shape              Param #   \n",
      "=================================================================\n",
      "lstm (LSTM)                  (None, 2)                 56        \n",
      "_________________________________________________________________\n",
      "dropout (Dropout)            (None, 2)                 0         \n",
      "_________________________________________________________________\n",
      "dense (Dense)                (None, 4096)              12288     \n",
      "_________________________________________________________________\n",
      "dense_1 (Dense)              (None, 1)                 4097      \n",
      "=================================================================\n",
      "Total params: 16,441\n",
      "Trainable params: 16,441\n",
      "Non-trainable params: 0\n",
      "_________________________________________________________________\n",
      "Model: \"sequential_1\"\n",
      "_________________________________________________________________\n",
      "Layer (type)                 Output Shape              Param #   \n",
      "=================================================================\n",
      "bidirectional (Bidirectional (None, 8)                 288       \n",
      "_________________________________________________________________\n",
      "dropout_1 (Dropout)          (None, 8)                 0         \n",
      "_________________________________________________________________\n",
      "dense_2 (Dense)              (None, 4096)              36864     \n",
      "_________________________________________________________________\n",
      "dense_3 (Dense)              (None, 1)                 4097      \n",
      "=================================================================\n",
      "Total params: 41,249\n",
      "Trainable params: 41,249\n",
      "Non-trainable params: 0\n",
      "_________________________________________________________________\n",
      "Model: \"sequential_2\"\n",
      "_________________________________________________________________\n",
      "Layer (type)                 Output Shape              Param #   \n",
      "=================================================================\n",
      "conv1d (Conv1D)              (None, 993, 256)          8448      \n",
      "_________________________________________________________________\n",
      "max_pooling1d (MaxPooling1D) (None, 76, 256)           0         \n",
      "_________________________________________________________________\n",
      "dropout_2 (Dropout)          (None, 76, 256)           0         \n",
      "_________________________________________________________________\n",
      "bidirectional_1 (Bidirection (None, 76, 8)             8352      \n",
      "_________________________________________________________________\n",
      "dropout_3 (Dropout)          (None, 76, 8)             0         \n",
      "_________________________________________________________________\n",
      "dense_4 (Dense)              (None, 76, 4096)          36864     \n",
      "_________________________________________________________________\n",
      "dense_5 (Dense)              (None, 76, 1)             4097      \n",
      "=================================================================\n",
      "Total params: 57,761\n",
      "Trainable params: 57,761\n",
      "Non-trainable params: 0\n",
      "_________________________________________________________________\n"
     ]
    },
    {
     "data": {
      "application/javascript": [
       "\n",
       "            setTimeout(function() {\n",
       "                var nbb_cell_id = 4;\n",
       "                var nbb_unformatted_code = \"for i, model in enumerate(models):\\n    model.summary()\\n    model.save(f\\\"../model_saves/eval_models/model_{i}.h5\\\")\";\n",
       "                var nbb_formatted_code = \"for i, model in enumerate(models):\\n    model.summary()\\n    model.save(f\\\"../model_saves/eval_models/model_{i}.h5\\\")\";\n",
       "                var nbb_cells = Jupyter.notebook.get_cells();\n",
       "                for (var i = 0; i < nbb_cells.length; ++i) {\n",
       "                    if (nbb_cells[i].input_prompt_number == nbb_cell_id) {\n",
       "                        if (nbb_cells[i].get_text() == nbb_unformatted_code) {\n",
       "                             nbb_cells[i].set_text(nbb_formatted_code);\n",
       "                        }\n",
       "                        break;\n",
       "                    }\n",
       "                }\n",
       "            }, 500);\n",
       "            "
      ],
      "text/plain": [
       "<IPython.core.display.Javascript object>"
      ]
     },
     "metadata": {},
     "output_type": "display_data"
    }
   ],
   "source": [
    "for i, model in enumerate(models):\n",
    "    model.summary()\n",
    "    model.save(f\"../model_saves/eval_models/model_{i}.h5\")"
   ]
  },
  {
   "cell_type": "code",
   "execution_count": null,
   "id": "pediatric-ordinary",
   "metadata": {},
   "outputs": [],
   "source": []
  }
 ],
 "metadata": {
  "kernelspec": {
   "display_name": "Python 3",
   "language": "python",
   "name": "python3"
  },
  "language_info": {
   "codemirror_mode": {
    "name": "ipython",
    "version": 3
   },
   "file_extension": ".py",
   "mimetype": "text/x-python",
   "name": "python",
   "nbconvert_exporter": "python",
   "pygments_lexer": "ipython3",
   "version": "3.7.10"
  }
 },
 "nbformat": 4,
 "nbformat_minor": 5
}
