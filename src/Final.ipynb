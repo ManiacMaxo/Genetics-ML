{
 "cells": [
  {
   "cell_type": "code",
   "execution_count": null,
   "id": "exposed-medicaid",
   "metadata": {
    "ExecuteTime": {
     "end_time": "2021-05-28T16:03:43.000779Z",
     "start_time": "2021-05-28T16:03:42.983991Z"
    }
   },
   "outputs": [],
   "source": [
    "from tensorflow.keras.models import Sequential\n",
    "from tensorflow.keras.layers import (\n",
    "    Conv1D,\n",
    "    MaxPooling1D,\n",
    "    LSTM,\n",
    "    Bidirectional,\n",
    "    Dropout,\n",
    "    Flatten,\n",
    "    Dense,\n",
    "    Input,\n",
    ")\n",
    "from tensorflow.keras.callbacks import EarlyStopping, TensorBoard\n",
    "from tensorflow.keras.optimizers import Adam\n",
    "from tensorflow.keras.metrics import AUC\n",
    "\n",
    "from utils import load_dataset, train, plot_roc, auc\n",
    "from datetime import datetime\n",
    "from einops import rearrange\n",
    "\n",
    "%load_ext tensorboard"
   ]
  },
  {
   "cell_type": "code",
   "execution_count": 2,
   "id": "coated-apparatus",
   "metadata": {
    "ExecuteTime": {
     "end_time": "2021-05-28T16:01:45.398707Z",
     "start_time": "2021-05-28T16:01:39.328918Z"
    }
   },
   "outputs": [
    {
     "name": "stdout",
     "output_type": "stream",
     "text": [
      "FOX_0.50.tar.gz: 82.3MB [00:00, 87.9MB/s]                  \n",
      "Extracted tarball\n"
     ]
    }
   ],
   "source": [
    "X_train, y_train, X_test, y_test = load_dataset(\"FOX_0.50\")"
   ]
  },
  {
   "cell_type": "code",
   "execution_count": 6,
   "id": "smaller-rogers",
   "metadata": {
    "ExecuteTime": {
     "end_time": "2021-05-28T16:03:50.401983Z",
     "start_time": "2021-05-28T16:03:49.936937Z"
    }
   },
   "outputs": [],
   "source": [
    "model = Sequential(\n",
    "    [\n",
    "        Input((1000, 4)),\n",
    "        Conv1D(200, kernel_size=26, activation=\"relu\"),\n",
    "        MaxPooling1D(pool_size=13, strides=13),\n",
    "        Dropout(0.2),\n",
    "        Bidirectional(LSTM(200, return_sequences=True)),\n",
    "        Dropout(0.5),\n",
    "        Flatten(),\n",
    "        Dense(1024, activation=\"relu\"),\n",
    "        Dense(9, activation=\"sigmoid\"),\n",
    "    ],\n",
    "    name=\"conv-lstm\",\n",
    ")\n",
    "\n",
    "es = EarlyStopping(monitor=\"val_loss\", patience=5)\n",
    "optimizer = Adam(lr=1e-3)\n",
    "tensorboard_callback = TensorBoard(log_dir=\"logs/fit/\" + datetime.now().strftime(\"%Y%m%d-%H%M%S\"))\n",
    "\n",
    "model.compile(\n",
    "    optimizer=optimizer,\n",
    "    loss=\"binary_crossentropy\",\n",
    "    metrics=[AUC(multi_label=True), \"acc\"],\n",
    ")"
   ]
  },
  {
   "cell_type": "code",
   "execution_count": 7,
   "id": "experienced-roberts",
   "metadata": {
    "ExecuteTime": {
     "end_time": "2021-05-28T16:03:53.683278Z",
     "start_time": "2021-05-28T16:03:53.675159Z"
    }
   },
   "outputs": [],
   "source": [
    "from tensorflow.keras.callbacks import LearningRateScheduler\n",
    "from tensorflow.math import exp\n",
    "\n",
    "def scheduler(epoch, lr):\n",
    "    if epoch < 10:\n",
    "        return lr\n",
    "\n",
    "    return lr * exp(-0.1)\n",
    "\n",
    "lr_schedule = LearningRateScheduler(scheduler)"
   ]
  },
  {
   "cell_type": "code",
   "execution_count": 8,
   "id": "right-welding",
   "metadata": {
    "ExecuteTime": {
     "end_time": "2021-05-28T16:18:38.002886Z",
     "start_time": "2021-05-28T16:04:42.670456Z"
    },
    "scrolled": false
   },
   "outputs": [
    {
     "name": "stdout",
     "output_type": "stream",
     "text": [
      "Epoch 1/60\n",
      "1700/1700 - 72s - loss: 0.3535 - auc: 0.6994 - acc: 0.2985 - val_loss: 0.3261 - val_auc: 0.7796 - val_acc: 0.3561\n",
      "Epoch 2/60\n",
      "1700/1700 - 67s - loss: 0.3195 - auc: 0.7813 - acc: 0.3789 - val_loss: 0.3169 - val_auc: 0.8115 - val_acc: 0.3997\n",
      "Epoch 3/60\n",
      "1700/1700 - 69s - loss: 0.3060 - auc: 0.8122 - acc: 0.4088 - val_loss: 0.2972 - val_auc: 0.8336 - val_acc: 0.4253\n",
      "Epoch 4/60\n",
      "1700/1700 - 69s - loss: 0.2953 - auc: 0.8318 - acc: 0.4338 - val_loss: 0.2909 - val_auc: 0.8429 - val_acc: 0.4268\n",
      "Epoch 5/60\n",
      "1700/1700 - 70s - loss: 0.2867 - auc: 0.8456 - acc: 0.4517 - val_loss: 0.2868 - val_auc: 0.8526 - val_acc: 0.4391\n",
      "Epoch 6/60\n",
      "1700/1700 - 70s - loss: 0.2795 - auc: 0.8575 - acc: 0.4659 - val_loss: 0.2868 - val_auc: 0.8538 - val_acc: 0.4337\n",
      "Epoch 7/60\n",
      "1700/1700 - 69s - loss: 0.2716 - auc: 0.8708 - acc: 0.4828 - val_loss: 0.2834 - val_auc: 0.8538 - val_acc: 0.4487\n",
      "Epoch 8/60\n",
      "1700/1700 - 70s - loss: 0.2595 - auc: 0.8878 - acc: 0.5068 - val_loss: 0.2860 - val_auc: 0.8512 - val_acc: 0.4551\n",
      "Epoch 9/60\n",
      "1700/1700 - 69s - loss: 0.2443 - auc: 0.9069 - acc: 0.5425 - val_loss: 0.2923 - val_auc: 0.8439 - val_acc: 0.4449\n",
      "Epoch 10/60\n",
      "1700/1700 - 69s - loss: 0.2269 - auc: 0.9251 - acc: 0.5783 - val_loss: 0.2969 - val_auc: 0.8384 - val_acc: 0.4413\n",
      "Epoch 11/60\n",
      "1700/1700 - 69s - loss: 0.2077 - auc: 0.9425 - acc: 0.6208 - val_loss: 0.3067 - val_auc: 0.8343 - val_acc: 0.4393\n",
      "Epoch 12/60\n",
      "1700/1700 - 69s - loss: 0.1913 - auc: 0.9552 - acc: 0.6538 - val_loss: 0.3166 - val_auc: 0.8279 - val_acc: 0.4328\n"
     ]
    },
    {
     "data": {
      "image/png": "[encoded data removed]",
      "text/plain": [
       "<Figure size 432x288 with 1 Axes>"
      ]
     },
     "metadata": {
      "needs_background": "light"
     },
     "output_type": "display_data"
    },
    {
     "name": "stdout",
     "output_type": "stream",
     "text": [
      "Training time: 13.92 minutes\n"
     ]
    }
   ],
   "source": [
    "model = train(\n",
    "    dataset=(X_train, y_train, X_test, y_test),\n",
    "    model=model,\n",
    "    epochs=60,\n",
    "    validation_freq=1,\n",
    "    callbacks=[es, lr_schedule, tensorboard_callback],\n",
    "    verbose=2,\n",
    "    batch_size=100,\n",
    ")"
   ]
  },
  {
   "cell_type": "code",
   "execution_count": 6,
   "id": "metric-quilt",
   "metadata": {
    "ExecuteTime": {
     "end_time": "2021-05-27T15:18:24.125619Z",
     "start_time": "2021-05-27T15:18:23.673738Z"
    }
   },
   "outputs": [],
   "source": [
    "model.save(f\"../model_saves/final/{model.name}_50.h5\")"
   ]
  }
 ],
 "metadata": {
  "kernelspec": {
   "display_name": "Python 3",
   "language": "python",
   "name": "python3"
  },
  "language_info": {
   "codemirror_mode": {
    "name": "ipython",
    "version": 3
   },
   "file_extension": ".py",
   "mimetype": "text/x-python",
   "name": "python",
   "nbconvert_exporter": "python",
   "pygments_lexer": "ipython3",
   "version": "3.7.10"
  }
 },
 "nbformat": 4,
 "nbformat_minor": 5
}
