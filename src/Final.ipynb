{
 "cells": [
  {
   "cell_type": "code",
   "execution_count": 1,
   "id": "exposed-medicaid",
   "metadata": {
    "ExecuteTime": {
     "end_time": "2021-05-27T15:10:13.071675Z",
     "start_time": "2021-05-27T15:10:11.785005Z"
    }
   },
   "outputs": [],
   "source": [
    "from tensorflow.keras.models import Sequential\n",
    "from tensorflow.keras.layers import (\n",
    "    Conv1D,\n",
    "    MaxPooling1D,\n",
    "    LSTM,\n",
    "    Bidirectional,\n",
    "    Dropout,\n",
    "    Flatten,\n",
    "    Dense,\n",
    "    Input,\n",
    ")\n",
    "from tensorflow.keras.callbacks import EarlyStopping\n",
    "from tensorflow.keras.optimizers import Adam\n",
    "from tensorflow.keras.metrics import AUC\n",
    "\n",
    "from utils import load_dataset, train, plot_roc, auc\n",
    "from einops import rearrange"
   ]
  },
  {
   "cell_type": "code",
   "execution_count": 2,
   "id": "coated-apparatus",
   "metadata": {
    "ExecuteTime": {
     "end_time": "2021-05-27T15:10:15.564476Z",
     "start_time": "2021-05-27T15:10:13.072738Z"
    }
   },
   "outputs": [],
   "source": [
    "X_train, y_train, X_test, y_test = load_dataset(\"FOX_0.75\")"
   ]
  },
  {
   "cell_type": "code",
   "execution_count": 3,
   "id": "smaller-rogers",
   "metadata": {
    "ExecuteTime": {
     "end_time": "2021-05-27T15:10:16.372255Z",
     "start_time": "2021-05-27T15:10:15.565717Z"
    }
   },
   "outputs": [],
   "source": [
    "model = Sequential(\n",
    "    [\n",
    "        Input((1000, 4)),\n",
    "        Conv1D(200, kernel_size=26, activation=\"relu\"),\n",
    "        MaxPooling1D(pool_size=13, strides=13),\n",
    "        Dropout(0.2),\n",
    "        Bidirectional(LSTM(200, return_sequences=True)),\n",
    "        Dropout(0.5),\n",
    "        Flatten(),\n",
    "        Dense(1024, activation=\"relu\"),\n",
    "        Dense(9, activation=\"sigmoid\"),\n",
    "    ],\n",
    "    name=\"conv-lstm\",\n",
    ")\n",
    "\n",
    "es = EarlyStopping(monitor=\"val_loss\", patience=5)\n",
    "optimizer = Adam(lr=1e-3)\n",
    "\n",
    "model.compile(\n",
    "    optimizer=optimizer,\n",
    "    loss=\"binary_crossentropy\",\n",
    "    metrics=[AUC(multi_label=True), \"acc\"],\n",
    ")"
   ]
  },
  {
   "cell_type": "code",
   "execution_count": 4,
   "id": "experienced-roberts",
   "metadata": {
    "ExecuteTime": {
     "end_time": "2021-05-27T15:10:16.404862Z",
     "start_time": "2021-05-27T15:10:16.373269Z"
    }
   },
   "outputs": [],
   "source": [
    "from tensorflow.keras.callbacks import LearningRateScheduler\n",
    "from tensorflow.math import exp\n",
    "\n",
    "def scheduler(epoch, lr):\n",
    "    if epoch < 10:\n",
    "        return lr\n",
    "\n",
    "    return lr * exp(-0.1)\n",
    "\n",
    "lr_schedule = LearningRateScheduler(scheduler)"
   ]
  },
  {
   "cell_type": "code",
   "execution_count": 5,
   "id": "right-welding",
   "metadata": {
    "ExecuteTime": {
     "end_time": "2021-05-27T15:18:23.672663Z",
     "start_time": "2021-05-27T15:10:16.405889Z"
    },
    "scrolled": true
   },
   "outputs": [
    {
     "name": "stdout",
     "output_type": "stream",
     "text": [
      "Epoch 1/60\n",
      "1155/1155 - 48s - loss: 0.3574 - auc: 0.7140 - acc: 0.3297 - val_loss: 0.3222 - val_auc: 0.7914 - val_acc: 0.3980\n",
      "Epoch 2/60\n",
      "1155/1155 - 43s - loss: 0.3225 - auc: 0.7898 - acc: 0.3992 - val_loss: 0.3127 - val_auc: 0.8139 - val_acc: 0.3994\n",
      "Epoch 3/60\n",
      "1155/1155 - 44s - loss: 0.3103 - auc: 0.8144 - acc: 0.4213 - val_loss: 0.3023 - val_auc: 0.8305 - val_acc: 0.4442\n",
      "Epoch 4/60\n",
      "1155/1155 - 44s - loss: 0.3009 - auc: 0.8300 - acc: 0.4397 - val_loss: 0.2955 - val_auc: 0.8440 - val_acc: 0.4572\n",
      "Epoch 5/60\n",
      "1155/1155 - 44s - loss: 0.2921 - auc: 0.8429 - acc: 0.4583 - val_loss: 0.2904 - val_auc: 0.8483 - val_acc: 0.4525\n",
      "Epoch 6/60\n",
      "1155/1155 - 44s - loss: 0.2827 - auc: 0.8576 - acc: 0.4751 - val_loss: 0.2868 - val_auc: 0.8522 - val_acc: 0.4641\n",
      "Epoch 7/60\n",
      "1155/1155 - 44s - loss: 0.2719 - auc: 0.8735 - acc: 0.4975 - val_loss: 0.2884 - val_auc: 0.8507 - val_acc: 0.4627\n",
      "Epoch 8/60\n",
      "1155/1155 - 44s - loss: 0.2573 - auc: 0.8926 - acc: 0.5267 - val_loss: 0.2970 - val_auc: 0.8420 - val_acc: 0.4367\n",
      "Epoch 9/60\n",
      "1155/1155 - 44s - loss: 0.2365 - auc: 0.9149 - acc: 0.5676 - val_loss: 0.2956 - val_auc: 0.8404 - val_acc: 0.4601\n",
      "Epoch 10/60\n",
      "1155/1155 - 44s - loss: 0.2108 - auc: 0.9375 - acc: 0.6171 - val_loss: 0.3089 - val_auc: 0.8268 - val_acc: 0.4460\n",
      "Epoch 11/60\n",
      "1155/1155 - 44s - loss: 0.1817 - auc: 0.9581 - acc: 0.6714 - val_loss: 0.3267 - val_auc: 0.8169 - val_acc: 0.4426\n"
     ]
    },
    {
     "data": {
      "image/png": "[encoded data removed]",
      "text/plain": [
       "<Figure size 432x288 with 1 Axes>"
      ]
     },
     "metadata": {
      "needs_background": "light"
     },
     "output_type": "display_data"
    },
    {
     "name": "stdout",
     "output_type": "stream",
     "text": [
      "Training time: 8.12 minutes\n"
     ]
    }
   ],
   "source": [
    "model = train(\n",
    "    dataset=(X_train, y_train, X_test, y_test),\n",
    "    model=model,\n",
    "    epochs=60,\n",
    "    validation_freq=1,\n",
    "    callbacks=[es, lr_schedule],\n",
    "    verbose=2,\n",
    "    batch_size=100,\n",
    ")"
   ]
  },
  {
   "cell_type": "code",
   "execution_count": 6,
   "id": "metric-quilt",
   "metadata": {
    "ExecuteTime": {
     "end_time": "2021-05-27T15:18:24.125619Z",
     "start_time": "2021-05-27T15:18:23.673738Z"
    }
   },
   "outputs": [],
   "source": [
    "model.save(f\"../model_saves/final/{model.name}_75.h5\")"
   ]
  }
 ],
 "metadata": {
  "kernelspec": {
   "display_name": "Python 3",
   "language": "python",
   "name": "python3"
  },
  "language_info": {
   "codemirror_mode": {
    "name": "ipython",
    "version": 3
   },
   "file_extension": ".py",
   "mimetype": "text/x-python",
   "name": "python",
   "nbconvert_exporter": "python",
   "pygments_lexer": "ipython3",
   "version": "3.7.10"
  }
 },
 "nbformat": 4,
 "nbformat_minor": 5
}
