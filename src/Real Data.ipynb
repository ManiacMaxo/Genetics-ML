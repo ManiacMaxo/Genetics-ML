{
 "cells": [
  {
   "cell_type": "code",
   "execution_count": 19,
   "id": "chubby-smile",
   "metadata": {
    "ExecuteTime": {
     "end_time": "2021-05-27T13:22:44.586424Z",
     "start_time": "2021-05-27T13:22:44.584551Z"
    }
   },
   "outputs": [],
   "source": [
    "import h5py\n",
    "import numpy as np\n",
    "import os\n",
    "import einops\n",
    "from sklearn.model_selection import train_test_split\n",
    "import tarfile"
   ]
  },
  {
   "cell_type": "code",
   "execution_count": 20,
   "id": "southern-asset",
   "metadata": {
    "ExecuteTime": {
     "end_time": "2021-05-27T13:22:44.589098Z",
     "start_time": "2021-05-27T13:22:44.587560Z"
    }
   },
   "outputs": [],
   "source": [
    "filename = \"FOX_0.75\""
   ]
  },
  {
   "cell_type": "code",
   "execution_count": 21,
   "id": "chubby-conjunction",
   "metadata": {
    "ExecuteTime": {
     "end_time": "2021-05-27T13:22:44.591805Z",
     "start_time": "2021-05-27T13:22:44.590146Z"
    }
   },
   "outputs": [],
   "source": [
    "base_dir = f\"/home/victor/Documents/datasets/{filename}/\"\n",
    "all_files = os.listdir(base_dir)"
   ]
  },
  {
   "cell_type": "raw",
   "id": "answering-relaxation",
   "metadata": {
    "ExecuteTime": {
     "end_time": "2021-05-27T12:33:26.593879Z",
     "start_time": "2021-05-27T12:33:26.565850Z"
    }
   },
   "source": [
    "import operator\n",
    "\n",
    "h5_files = dict()\n",
    "\n",
    "for fname in all_files:\n",
    "    if fname.startswith(\"X\") or fname.startswith(\"Y\"):\n",
    "        continue\n",
    "    h5_files[fname[0:2].replace(\"_\", \"\")] = h5py.File(base_dir + fname, \"r\")\n",
    "    \n",
    "h5_files = [x[1] for x in sorted(h5_files.items(), key=operator.itemgetter(0))]"
   ]
  },
  {
   "cell_type": "code",
   "execution_count": 22,
   "id": "third-guide",
   "metadata": {
    "ExecuteTime": {
     "end_time": "2021-05-27T13:22:44.612098Z",
     "start_time": "2021-05-27T13:22:44.600347Z"
    }
   },
   "outputs": [],
   "source": [
    "h5_files = []\n",
    "for fname in all_files:\n",
    "    h5_files.append(h5py.File(base_dir + fname, \"r\"))"
   ]
  },
  {
   "cell_type": "code",
   "execution_count": 23,
   "id": "violent-witness",
   "metadata": {
    "ExecuteTime": {
     "end_time": "2021-05-27T13:22:46.692709Z",
     "start_time": "2021-05-27T13:22:44.613163Z"
    }
   },
   "outputs": [],
   "source": [
    "data = np.concatenate([x[\"data\"][:] for x in h5_files])\n",
    "data = einops.rearrange(data, \"w h c -> w c h\")\n",
    "\n",
    "labels = np.concatenate([x[\"labels\"][:] for x in h5_files])"
   ]
  },
  {
   "cell_type": "code",
   "execution_count": 24,
   "id": "parental-consent",
   "metadata": {
    "ExecuteTime": {
     "end_time": "2021-05-27T13:22:46.791992Z",
     "start_time": "2021-05-27T13:22:46.693872Z"
    }
   },
   "outputs": [],
   "source": [
    "X_train, X_test, y_train, y_test = train_test_split(data, labels, test_size=0.15, random_state=42)"
   ]
  },
  {
   "cell_type": "code",
   "execution_count": 25,
   "id": "english-station",
   "metadata": {
    "ExecuteTime": {
     "end_time": "2021-05-27T13:22:47.638779Z",
     "start_time": "2021-05-27T13:22:46.793140Z"
    }
   },
   "outputs": [],
   "source": [
    "train_file = h5py.File(f\"{base_dir}../{filename}_train.h5\", \"w\")\n",
    "train_file.create_dataset(\"data\", data=X_train)\n",
    "train_file.create_dataset(\"labels\", data=y_train)\n",
    "train_file.close()\n",
    "\n",
    "test_file = h5py.File(f\"{base_dir}../{filename}_test.h5\", \"w\")\n",
    "test_file.create_dataset(\"data\", data=X_test)\n",
    "test_file.create_dataset(\"labels\", data=y_test)\n",
    "test_file.close()"
   ]
  }
 ],
 "metadata": {
  "kernelspec": {
   "display_name": "Python 3",
   "language": "python",
   "name": "python3"
  },
  "language_info": {
   "codemirror_mode": {
    "name": "ipython",
    "version": 3
   },
   "file_extension": ".py",
   "mimetype": "text/x-python",
   "name": "python",
   "nbconvert_exporter": "python",
   "pygments_lexer": "ipython3",
   "version": "3.7.10"
  }
 },
 "nbformat": 4,
 "nbformat_minor": 5
}
